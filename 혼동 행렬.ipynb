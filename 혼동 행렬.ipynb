{
 "cells": [
  {
   "cell_type": "code",
   "execution_count": 2,
   "metadata": {},
   "outputs": [
    {
     "name": "stdout",
     "output_type": "stream",
     "text": [
      "[[2 1]\n",
      " [0 3]]\n"
     ]
    }
   ],
   "source": [
    "import numpy\n",
    "from sklearn.metrics import confusion_matrix\n",
    "\n",
    "#데이터를 저장한다. 여기에서는 0이 양성을, 1이 음성을 나타낸다.\n",
    "y_true = [0, 0, 0, 1, 1, 1]\n",
    "y_pred = [1, 0, 0, 1, 1, 1]\n",
    "\n",
    "#변수 confmat에 y_true와 y_pred의 혼동 행렬을 저장한다.\n",
    "confmat = confusion_matrix(y_true, y_pred)\n",
    "\n",
    "#결과를 출력한다.\n",
    "print(confmat)"
   ]
  }
 ],
 "metadata": {
  "kernelspec": {
   "display_name": "Python 3",
   "language": "python",
   "name": "python3"
  },
  "language_info": {
   "codemirror_mode": {
    "name": "ipython",
    "version": 3
   },
   "file_extension": ".py",
   "mimetype": "text/x-python",
   "name": "python",
   "nbconvert_exporter": "python",
   "pygments_lexer": "ipython3",
   "version": "3.8.5"
  }
 },
 "nbformat": 4,
 "nbformat_minor": 4
}
