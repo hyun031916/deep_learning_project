{
 "cells": [
  {
   "cell_type": "code",
   "execution_count": 2,
   "metadata": {},
   "outputs": [
    {
     "name": "stdout",
     "output_type": "stream",
     "text": [
      "lollipop\n"
     ]
    }
   ],
   "source": [
    "#리스트 분할\n",
    "\n",
    "# 자기소개 문자열 \n",
    "self_data = \"My name is lollipop\"\n",
    "\n",
    "#self_data 분할하여 리스트 작성\n",
    "word_list = self_data.split()\n",
    "\n",
    "print(word_list[3])\n"
   ]
  },
  {
   "cell_type": "code",
   "execution_count": 5,
   "metadata": {},
   "outputs": [
    {
     "name": "stdout",
     "output_type": "stream",
     "text": [
      "['I', 'love', 'this', 'chocolate']\n",
      "02\n",
      "44\n"
     ]
    }
   ],
   "source": [
    "#리스트 분할(여러 기호로 분할)\n",
    "\n",
    "#re 모듈 import\n",
    "import re\n",
    "\n",
    "#분할할 문자열\n",
    "test_sentence = \"I,love this.chocolate\"\n",
    "\n",
    "#\",\"와 \" \"와 \".\"로 분할하여 리스트 만들기\n",
    "print(re.split(\"[, .]\", test_sentence))\n",
    "\n",
    "time_data = \"2021/02/22_12:44:54\"\n",
    "\n",
    "time_split = re.split(\"[/_:]\", time_data)\n",
    "\n",
    "print(time_split[1])\n",
    "print(time_split[4])"
   ]
  },
  {
   "cell_type": "code",
   "execution_count": 7,
   "metadata": {},
   "outputs": [
    {
     "name": "stdout",
     "output_type": "stream",
     "text": [
      "[8, 23, 14, 7, 22]\n"
     ]
    }
   ],
   "source": [
    "#고차 함수(map)\n",
    "\n",
    "import re\n",
    "\n",
    "#배열 time_list\n",
    "time_list = [\n",
    "    \"2003/03/19_8:20\",\n",
    "    \"2009/1/16_23:35\",\n",
    "    \"2014/5/4_14:26\",\n",
    "    \"2017/8/9_7:5\",\n",
    "    \"2020/1/5_22:15\"\n",
    "]\n",
    "\n",
    "#문자열에서 \"시\"를 추출하는 함수 작성\n",
    "get_hour = lambda x:int(re.split(\"[/_:]\",x)[3])\n",
    "\n",
    "#위에서 만든 함수를 이용해 각 요소에 \"시\"만 꺼내 배열로 만들기\n",
    "hour_list = list(map(get_hour, time_list))\n",
    "\n",
    "print(hour_list)"
   ]
  },
  {
   "cell_type": "code",
   "execution_count": 9,
   "metadata": {},
   "outputs": [
    {
     "name": "stdout",
     "output_type": "stream",
     "text": [
      "['2003/03/19_8:20', '2009/1/16_23:35', '2014/5/4_14:26', '2020/1/5_22:15']\n"
     ]
    }
   ],
   "source": [
    "#filter\n",
    "\n",
    "import re\n",
    "\n",
    "#time_list...\"년/월/일_시:분\"\n",
    "time_list = [\n",
    "    \"2003/03/19_8:20\",\n",
    "    \"2009/1/16_23:35\",\n",
    "    \"2014/5/4_14:26\",\n",
    "    \"2017/8/9_7:5\",\n",
    "    \"2020/1/5_22:15\"\n",
    "]\n",
    "#문자열의 \"월\"이 조건을 만족할 때 True 반환하는 함수 작성\n",
    "is_first_half = lambda x:int(re.split(\"[/_:]\", x)[1]) -7 <0\n",
    "\n",
    "#위에서 만든 함수로 조건을 만족하는 요소를 찾아내 배열로 만들기\n",
    "first_half_list = list(filter(is_first_half, time_list))\n",
    "\n",
    "print(first_half_list)"
   ]
  },
  {
   "cell_type": "code",
   "execution_count": 10,
   "metadata": {},
   "outputs": [
    {
     "name": "stdout",
     "output_type": "stream",
     "text": [
      "[[2021, 2, 22, 2, 21], [2017, 8, 9, 7, 5], [2003, 3, 19, 8, 20], [2014, 5, 4, 14, 26], [2009, 1, 16, 23, 35]]\n"
     ]
    }
   ],
   "source": [
    "#sorted\n",
    "\n",
    "#time_data [년, 월, 일, 시, 분]\n",
    "time_data = [\n",
    "    [2003, 3, 19, 8, 20],\n",
    "    [2009, 1, 16, 23, 35],\n",
    "    [2014, 5, 4, 14, 26],\n",
    "    [2017, 8, 9, 7, 5],\n",
    "    [2021, 2, 22, 2, 21]\n",
    "]\n",
    "\n",
    "#\"시\"를 키로 정렬하고 배열로 만들기\n",
    "sort_by_time = sorted(time_data, key = lambda x:x[3])\n",
    "\n",
    "print(sort_by_time)"
   ]
  }
 ],
 "metadata": {
  "kernelspec": {
   "display_name": "Python 3",
   "language": "python",
   "name": "python3"
  },
  "language_info": {
   "codemirror_mode": {
    "name": "ipython",
    "version": 3
   },
   "file_extension": ".py",
   "mimetype": "text/x-python",
   "name": "python",
   "nbconvert_exporter": "python",
   "pygments_lexer": "ipython3",
   "version": "3.8.5"
  }
 },
 "nbformat": 4,
 "nbformat_minor": 4
}
