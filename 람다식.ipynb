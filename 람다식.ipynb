{
 "cells": [
  {
   "cell_type": "code",
   "execution_count": 4,
   "metadata": {},
   "outputs": [
    {
     "name": "stdout",
     "output_type": "stream",
     "text": [
      "21\n"
     ]
    }
   ],
   "source": [
    "#람다식의 기초\n",
    "#익명 함수 만들기\n",
    "\n",
    "#대입할 인수 a\n",
    "a = 4\n",
    "\n",
    "#lambda를 이용하여 func만들기\n",
    "func = lambda a: 2*a**2-3*a+1\n",
    "    \n",
    "print(func(a))"
   ]
  },
  {
   "cell_type": "code",
   "execution_count": 6,
   "metadata": {},
   "outputs": [
    {
     "name": "stdout",
     "output_type": "stream",
     "text": [
      "32\n"
     ]
    }
   ],
   "source": [
    "#람다에 의한 계산\n",
    "\n",
    "#대입할 인수 x, y, z\n",
    "x = 5\n",
    "y = 6\n",
    "z = 2\n",
    "\n",
    "#lambda를 이용하여 func 작성\n",
    "func = lambda x, y, z: x*y+z\n",
    "print(func(x, y, z))"
   ]
  },
  {
   "cell_type": "code",
   "execution_count": 8,
   "metadata": {},
   "outputs": [
    {
     "name": "stdout",
     "output_type": "stream",
     "text": [
      "-1\n",
      "50\n"
     ]
    }
   ],
   "source": [
    "#if를 이용한 람다\n",
    "a1 = 13\n",
    "a2 = 32\n",
    "\n",
    "#lambda를 이용하여 func 작성하기\n",
    "func = lambda a : a**2-40*a+350 if 10 <= a < 30 else 50\n",
    "\n",
    "#반환값 출력\n",
    "print(func(a1))\n",
    "print(func(a2))"
   ]
  }
 ],
 "metadata": {
  "kernelspec": {
   "display_name": "Python 3",
   "language": "python",
   "name": "python3"
  },
  "language_info": {
   "codemirror_mode": {
    "name": "ipython",
    "version": 3
   },
   "file_extension": ".py",
   "mimetype": "text/x-python",
   "name": "python",
   "nbconvert_exporter": "python",
   "pygments_lexer": "ipython3",
   "version": "3.8.5"
  }
 },
 "nbformat": 4,
 "nbformat_minor": 4
}
