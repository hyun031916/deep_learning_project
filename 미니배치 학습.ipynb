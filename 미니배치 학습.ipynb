{
 "cells": [
  {
   "cell_type": "code",
   "execution_count": 1,
   "metadata": {},
   "outputs": [
    {
     "name": "stderr",
     "output_type": "stream",
     "text": [
      "Using TensorFlow backend.\n"
     ]
    },
    {
     "name": "stdout",
     "output_type": "stream",
     "text": [
      "Epoch 1/3\n",
      "375/375 [==============================] - 2s 3ms/step - loss: 2.0408 - accuracy: 0.2912\n",
      "Epoch 2/3\n",
      "375/375 [==============================] - 1s 3ms/step - loss: 1.2461 - accuracy: 0.5662\n",
      "Epoch 3/3\n",
      "375/375 [==============================] - 1s 3ms/step - loss: 1.1027 - accuracy: 0.6189\n",
      "evaluate loss: 0.8972764611244202\n",
      "evaluate acc: 0.7459999918937683\n"
     ]
    }
   ],
   "source": [
    "# 배치 크기: 한번에 전달하는 데이터 수\n",
    "# 편향된 데이터가 많을 때는 배치 크기를 크게하고, 유사한 데이터가 많을 때는 배치 크기를 작게하기\n",
    "# 온라인 학습(확률적 경사하강법): 배치 크기 1로 하는 방식\n",
    "# 배치 학습(경사하강법): 배치 크기를 전체 데이터 수로 지정하는 방식\n",
    "# 미니배치 학습: 그 중간 학습 방식\n",
    "\n",
    "import numpy as np\n",
    "import matplotlib.pyplot as plt\n",
    "from tensorflow.keras.datasets import mnist\n",
    "from tensorflow.keras.layers import Activation, Dense, Dropout\n",
    "from tensorflow.keras.models import Sequential, load_model\n",
    "from tensorflow.keras import optimizers\n",
    "from keras.utils.np_utils import to_categorical\n",
    "\n",
    "(X_train, y_train), (X_test, y_test) = mnist.load_data()\n",
    "\n",
    "X_train = X_train.reshape(X_train.shape[0], 784)[:6000]\n",
    "X_test = X_test.reshape(X_test.shape[0], 784)[:1000]\n",
    "y_train = to_categorical(y_train)[:6000]\n",
    "y_test = to_categorical(y_test)[:1000]\n",
    "\n",
    "model = Sequential()\n",
    "model.add(Dense(256, input_dim=784))\n",
    "model.add(Activation(\"sigmoid\"))\n",
    "model.add(Dense(128))\n",
    "model.add(Activation(\"sigmoid\"))\n",
    "model.add(Dropout(rate=0.5))\n",
    "model.add(Dense(10))\n",
    "model.add(Activation(\"softmax\"))\n",
    "\n",
    "sgd = optimizers.SGD(lr=0.1)\n",
    "\n",
    "model.compile(optimizer=sgd, loss=\"categorical_crossentropy\", metrics=[\"accuracy\"])\n",
    "\n",
    "def funcA():\n",
    "    global batch_size\n",
    "    batch_size=16\n",
    "    \n",
    "def funcB():\n",
    "    global batch_size\n",
    "    batch_size=32\n",
    "\n",
    "def funcC():\n",
    "    global batch_size\n",
    "    batch_size=64\n",
    "    \n",
    "funcA()\n",
    "# funcB()\n",
    "# funcC()\n",
    "\n",
    "model.fit(X_train, y_train, batch_size=batch_size, epochs=3, verbose=1)\n",
    "\n",
    "score = model.evaluate(X_test, y_test, verbose=0)\n",
    "print(\"evaluate loss: {0[0]}\\nevaluate acc: {0[1]}\".format(score))"
   ]
  },
  {
   "cell_type": "code",
   "execution_count": null,
   "metadata": {},
   "outputs": [],
   "source": []
  }
 ],
 "metadata": {
  "kernelspec": {
   "display_name": "Python 3",
   "language": "python",
   "name": "python3"
  },
  "language_info": {
   "codemirror_mode": {
    "name": "ipython",
    "version": 3
   },
   "file_extension": ".py",
   "mimetype": "text/x-python",
   "name": "python",
   "nbconvert_exporter": "python",
   "pygments_lexer": "ipython3",
   "version": "3.8.5"
  }
 },
 "nbformat": 4,
 "nbformat_minor": 4
}
