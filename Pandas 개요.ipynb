{
 "cells": [
  {
   "cell_type": "code",
   "execution_count": 3,
   "metadata": {},
   "outputs": [
    {
     "name": "stdout",
     "output_type": "stream",
     "text": [
      "orange    2\n",
      "banana    3\n",
      "dtype: int64\n",
      "       fruits  year  time\n",
      "0       apple  2001     1\n",
      "1      orange  2002     4\n",
      "2      banana  2001     5\n",
      "3  strawberry  2008     6\n",
      "4   kiwifruit  2006     3\n"
     ]
    }
   ],
   "source": [
    "#Series와 DataFrame 데이터 확인\n",
    "\n",
    "#예1\n",
    "#Pandas를 pd로 import\n",
    "import pandas as pd\n",
    "\n",
    "#Series데이터\n",
    "fruits = {\"orange\":2, \"banana\":3}\n",
    "print(pd.Series(fruits))\n",
    "\n",
    "\n",
    "#예2\n",
    "#Pandas import\n",
    "import pandas as pd\n",
    "\n",
    "#DataFrame 데이터\n",
    "data = {\"fruits\":[\"apple\", \"orange\", \"banana\", \"strawberry\", \"kiwifruit\"],\n",
    "       \"year\":[2001, 2002, 2001, 2008, 2006],\n",
    "       \"time\":[1, 4, 5, 6, 3]}\n",
    "df = pd.DataFrame(data)\n",
    "print(df)"
   ]
  },
  {
   "cell_type": "code",
   "execution_count": 7,
   "metadata": {},
   "outputs": [
    {
     "name": "stdout",
     "output_type": "stream",
     "text": [
      "Series 데이터\n",
      "apple         10\n",
      "orange         5\n",
      "banana         8\n",
      "strawberry    12\n",
      "kiwifruit      3\n",
      "dtype: int64\n",
      "\n",
      "\n",
      "DataFrame 데이터\n",
      "       fruits  year  time\n",
      "0       apple  2001     1\n",
      "1      orange  2002     4\n",
      "2      banana  2001     5\n",
      "3  strawberry  2008     6\n",
      "4   kiwifruit  2006     3\n"
     ]
    }
   ],
   "source": [
    "#Series와 DataFrame이 어떤 데이터인지 확인하기\n",
    "\n",
    "#Pandas를 pd로 import\n",
    "import pandas as pd\n",
    "\n",
    "#Series용 라벨(인덱스) 작성\n",
    "index = [\"apple\", \"orange\", \"banana\", \"strawberry\", \"kiwifruit\"]\n",
    "\n",
    "#Series용 데이터 대입\n",
    "data = [10, 5, 8, 12, 3]\n",
    "\n",
    "#Series 작성\n",
    "series = pd.Series(data, index = index)\n",
    "\n",
    "#딕셔너리형을 사용하여 DataFrame 데이터 작성\n",
    "data = {\"fruits\":[\"apple\", \"orange\", \"banana\", \"strawberry\", \"kiwifruit\"],\n",
    "       \"year\":[2001, 2002, 2001, 2008, 2006],\n",
    "       \"time\":[1, 4, 5, 6, 3]}\n",
    "\n",
    "#DataFrame 작성\n",
    "df = pd.DataFrame(data)\n",
    "\n",
    "print(\"Series 데이터\")\n",
    "print(series)\n",
    "print(\"\\n\")\n",
    "print(\"DataFrame 데이터\")\n",
    "print(df)"
   ]
  },
  {
   "cell_type": "code",
   "execution_count": null,
   "metadata": {},
   "outputs": [],
   "source": []
  },
  {
   "cell_type": "code",
   "execution_count": null,
   "metadata": {},
   "outputs": [],
   "source": []
  },
  {
   "cell_type": "code",
   "execution_count": null,
   "metadata": {},
   "outputs": [],
   "source": []
  },
  {
   "cell_type": "code",
   "execution_count": null,
   "metadata": {},
   "outputs": [],
   "source": []
  },
  {
   "cell_type": "code",
   "execution_count": null,
   "metadata": {},
   "outputs": [],
   "source": []
  }
 ],
 "metadata": {
  "kernelspec": {
   "display_name": "Python 3",
   "language": "python",
   "name": "python3"
  },
  "language_info": {
   "codemirror_mode": {
    "name": "ipython",
    "version": 3
   },
   "file_extension": ".py",
   "mimetype": "text/x-python",
   "name": "python",
   "nbconvert_exporter": "python",
   "pygments_lexer": "ipython3",
   "version": "3.8.5"
  }
 },
 "nbformat": 4,
 "nbformat_minor": 4
}
