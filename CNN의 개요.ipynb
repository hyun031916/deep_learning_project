{
 "cells": [
  {
   "cell_type": "code",
   "execution_count": 2,
   "metadata": {},
   "outputs": [
    {
     "data": {
      "image/png": "[encoded data removed]",
      "text/plain": [
       "<Figure size 432x288 with 1 Axes>"
      ]
     },
     "metadata": {
      "needs_background": "light"
     },
     "output_type": "display_data"
    },
    {
     "data": {
      "image/png": "[encoded data removed]",
      "text/plain": [
       "<Figure size 432x288 with 4 Axes>"
      ]
     },
     "metadata": {
      "needs_background": "light"
     },
     "output_type": "display_data"
    },
    {
     "data": {
      "image/png": "[encoded data removed]",
      "text/plain": [
       "<Figure size 432x288 with 4 Axes>"
      ]
     },
     "metadata": {
      "needs_background": "light"
     },
     "output_type": "display_data"
    }
   ],
   "source": [
    "# 가로, 세로, 대각선 검출\n",
    "import numpy as np\n",
    "import matplotlib.pyplot as plt\n",
    "import urllib.request\n",
    "%matplotlib inline\n",
    "\n",
    "# 아주 간단한 합성곱층 정의\n",
    "class Conv:\n",
    "    #간단한 예이기 때문에 W는 3 x 3으로 고정하고 이후 절에서 다룰 strides나 padding은 고려하지 않음\n",
    "    def __init__(self, W):\n",
    "        self.W = W\n",
    "    def f_prop(self, X):\n",
    "        out = np.zeros((X.shape[0]-2, X.shape[1]-2))\n",
    "        for i in range(out.shape[0]):\n",
    "            for j in range(out.shape[1]):\n",
    "                x = X[i:i+3, j:j+3]\n",
    "                #각 요소 별 곱의 합계 취하기\n",
    "                out[i, j] = np.dot(self.W.flatten(), x.flatten())\n",
    "        return out\n",
    "\n",
    "local_filename, headers = urllib.request.urlretrieve('https://aidemystorageprd.blob.core.windows.net/data/5100_cnn_data/circle.npy')\n",
    "X = np.load(local_filename)\n",
    "\n",
    "plt.imshow(X)\n",
    "plt.title(\"The original image\", fontsize=12)\n",
    "plt.show()\n",
    "\n",
    "#커널 적절하게 설정하기\n",
    "W1 = np.array([[0, 1, 0],\n",
    "              [0, 1, 0],\n",
    "              [0, 1, 0]])\n",
    "\n",
    "W2 = np.array([[0, 0, 0],\n",
    "              [1, 1, 1],\n",
    "              [0, 0, 0]])\n",
    "\n",
    "W3 = np.array([[1, 0, 0],\n",
    "              [0, 1, 0],\n",
    "              [0, 0, 1]])\n",
    "\n",
    "\n",
    "W4 = np.array([[0, 0, 1],\n",
    "              [0, 1, 0],\n",
    "              [1, 0, 0]])\n",
    "\n",
    "plt.subplot(1, 4, 1); plt.imshow(W1)\n",
    "plt.subplot(1, 4, 2); plt.imshow(W2)\n",
    "plt.subplot(1, 4, 3); plt.imshow(W3)\n",
    "plt.subplot(1, 4, 4); plt.imshow(W4)\n",
    "plt.suptitle(\"kernel\", fontsize=12)\n",
    "plt.show()\n",
    "\n",
    "#합성곱\n",
    "conv1 = Conv(W1); C1 = conv1.f_prop(X)\n",
    "conv2 = Conv(W2); C2 = conv1.f_prop(X)\n",
    "conv3 = Conv(W3); C3 = conv1.f_prop(X)\n",
    "conv4 = Conv(W4); C4 = conv1.f_prop(X)\n",
    "\n",
    "plt.subplot(1, 4, 1); plt.imshow(C1)\n",
    "plt.subplot(1, 4, 2); plt.imshow(C2)\n",
    "plt.subplot(1, 4, 3); plt.imshow(C3)\n",
    "plt.subplot(1, 4, 4); plt.imshow(C4)\n",
    "plt.suptitle(\"Convolution result\", fontsize=12)\n",
    "plt.show()"
   ]
  }
 ],
 "metadata": {
  "kernelspec": {
   "display_name": "Python 3",
   "language": "python",
   "name": "python3"
  },
  "language_info": {
   "codemirror_mode": {
    "name": "ipython",
    "version": 3
   },
   "file_extension": ".py",
   "mimetype": "text/x-python",
   "name": "python",
   "nbconvert_exporter": "python",
   "pygments_lexer": "ipython3",
   "version": "3.8.5"
  }
 },
 "nbformat": 4,
 "nbformat_minor": 4
}
