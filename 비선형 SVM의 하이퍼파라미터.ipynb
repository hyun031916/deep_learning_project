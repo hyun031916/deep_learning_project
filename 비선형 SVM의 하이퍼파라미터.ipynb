{
 "cells": [
  {
   "cell_type": "code",
   "execution_count": 7,
   "metadata": {},
   "outputs": [
    {
     "data": {
      "image/png": "[encoded data removed]",
      "text/plain": [
       "<Figure size 432x288 with 1 Axes>"
      ]
     },
     "metadata": {
      "needs_background": "light"
     },
     "output_type": "display_data"
    }
   ],
   "source": [
    "#파라미터 C\n",
    "import matplotlib.pyplot as plt\n",
    "from sklearn.svm import SVC\n",
    "from sklearn.datasets import make_gaussian_quantiles\n",
    "from sklearn import preprocessing\n",
    "from sklearn.model_selection import train_test_split\n",
    "%matplotlib inline\n",
    "\n",
    "#데이터 생성\n",
    "X, y = make_gaussian_quantiles(n_samples=1250, n_features=4, random_state=42)\n",
    "train_X, test_X, train_y, test_y = train_test_split(X, y, random_state=42)\n",
    "\n",
    "#C 값의 범위 설정(여기서는 1e-5, 1e-4, 1e-3, 0.01, 0.1, 1, 10, 100, 1000, 10000으로 설정)\n",
    "C_list = [10 ** i for i in range(-5, 5)]\n",
    "\n",
    "#그래프 작성용 빈 리스트 준비\n",
    "\n",
    "train_accuracy = []\n",
    "test_accuracy = []\n",
    "\n",
    "for C in C_list:\n",
    "    model = SVC(C=C, random_state=42)\n",
    "    model.fit(train_X, train_y)\n",
    "    train_accuracy.append(model.score(train_X, train_y))\n",
    "    test_accuracy.append(model.score(test_X, test_y))\n",
    "\n",
    "#그래프 플롯하기\n",
    "#semilogx()는 x의 스케일을 10의 x승의 스케일로 변경함\n",
    "plt.semilogx(C_list, train_accuracy, label=\"accuracy of train_data\")\n",
    "plt.semilogx(C_list, test_accuracy, label=\"acuracy of test_data\")\n",
    "plt.title(\"accuracy with changing C\")\n",
    "plt.xlabel(\"C\")\n",
    "plt.ylabel(\"accuracy\")\n",
    "plt.legend()\n",
    "plt.show()"
   ]
  },
  {
   "cell_type": "code",
   "execution_count": 9,
   "metadata": {},
   "outputs": [
    {
     "name": "stdout",
     "output_type": "stream",
     "text": [
      "0.9488817891373802\n"
     ]
    }
   ],
   "source": [
    "#파라미터 random_state\n",
    "import numpy as np\n",
    "from sklearn.svm import SVC\n",
    "from sklearn.datasets import make_classification\n",
    "from sklearn import preprocessing\n",
    "from sklearn.model_selection import train_test_split\n",
    "%matplotlib inline\n",
    "\n",
    "#데이터 생성\n",
    "X, y = make_classification(n_samples=1250, n_features=4, n_informative=2, n_redundant=2, random_state=42)\n",
    "train_X, test_X, train_y, test_y = train_test_split(X, y, random_state=42)\n",
    "\n",
    "#난수 생성기 구축\n",
    "random_state = np.random.RandomState()\n",
    "\n",
    "#모델 구축\n",
    "model = SVC(random_state=random_state)\n",
    "\n",
    "#모델 학습\n",
    "model.fit(train_X, train_y)\n",
    "\n",
    "#테스트 데이터에 대한 정확도 출력\n",
    "print(model.score(test_X, test_y))"
   ]
  },
  {
   "cell_type": "code",
   "execution_count": 13,
   "metadata": {},
   "outputs": [
    {
     "name": "stdout",
     "output_type": "stream",
     "text": [
      "linear\n",
      "0.9329073482428115\n",
      "\n",
      "rbf\n",
      "0.9488817891373802\n",
      "\n",
      "poly\n",
      "0.9361022364217252\n",
      "\n",
      "sigmoid\n",
      "0.9265175718849841\n",
      "\n"
     ]
    }
   ],
   "source": [
    "# 연습문제\n",
    "# 여러 Kernel을 사용하여 머신러닝 구현하기\n",
    "from sklearn.datasets import make_classification\n",
    "from sklearn.model_selection import train_test_split\n",
    "from sklearn.svm import SVC\n",
    "\n",
    "#데이터 생성\n",
    "X, y = make_classification(n_samples = 1250, n_features=4, n_informative=2, n_redundant=2, random_state=42)\n",
    "train_X, test_X, train_y, test_y = train_test_split(X, y, random_state=42)\n",
    "\n",
    "kernel_list = ['linear', 'rbf', 'poly', 'sigmoid']\n",
    "\n",
    "#모델 구축하기\n",
    "for i in kernel_list:\n",
    "    model = SVC(kernel=i, random_state=42)\n",
    "    model.fit(train_X, train_y)\n",
    "    \n",
    "    print(i)\n",
    "    print(model.score(test_X, test_y))\n",
    "    print()"
   ]
  }
 ],
 "metadata": {
  "kernelspec": {
   "display_name": "Python 3",
   "language": "python",
   "name": "python3"
  },
  "language_info": {
   "codemirror_mode": {
    "name": "ipython",
    "version": 3
   },
   "file_extension": ".py",
   "mimetype": "text/x-python",
   "name": "python",
   "nbconvert_exporter": "python",
   "pygments_lexer": "ipython3",
   "version": "3.8.5"
  }
 },
 "nbformat": 4,
 "nbformat_minor": 4
}
