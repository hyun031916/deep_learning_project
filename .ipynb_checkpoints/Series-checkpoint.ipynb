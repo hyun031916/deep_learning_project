{
 "cells": [
  {
   "cell_type": "code",
   "execution_count": 1,
   "metadata": {},
   "outputs": [
    {
     "name": "stdout",
     "output_type": "stream",
     "text": [
      "banana    3\n",
      "oragne    2\n",
      "dtype: int64\n"
     ]
    }
   ],
   "source": [
    "#Series 생성 예\n",
    "#Pandas를 pd로 import\n",
    "import pandas as pd\n",
    "\n",
    "fruits = {\"banana\":3, \"oragne\":2}\n",
    "print(pd.Series(fruits))"
   ]
  },
  {
   "cell_type": "code",
   "execution_count": 2,
   "metadata": {},
   "outputs": [
    {
     "name": "stdout",
     "output_type": "stream",
     "text": [
      "apple         10\n",
      "orange         5\n",
      "banana         8\n",
      "strawberry    12\n",
      "kiwifruit      3\n",
      "dtype: int64\n"
     ]
    }
   ],
   "source": [
    "#Series 생성 문제\n",
    "\n",
    "#Pandas를 pd로 import\n",
    "import pandas as pd\n",
    "\n",
    "index = [\"apple\", \"orange\", \"banana\", \"strawberry\", \"kiwifruit\"]\n",
    "data = [10, 5, 8, 12, 3]\n",
    "\n",
    "#index와 data를 포함한 Series를 만들어 series에 대입\n",
    "series = pd.Series(data, index = index)\n",
    "\n",
    "print(series)"
   ]
  },
  {
   "cell_type": "code",
   "execution_count": 3,
   "metadata": {},
   "outputs": [
    {
     "name": "stdout",
     "output_type": "stream",
     "text": [
      "banana    3\n",
      "orange    4\n",
      "dtype: int64\n",
      "orange    4\n",
      "peach     5\n",
      "dtype: int64\n"
     ]
    }
   ],
   "source": [
    "#참조 (번호 지정, 인덱스값 지정)\n",
    "import pandas as pd\n",
    "\n",
    "#번호 지정\n",
    "fruits = {\"banana\":3, \"orange\":4, \"grape\":1, \"peach\":5}\n",
    "series = pd.Series(fruits)\n",
    "print(series[0:2])\n",
    "print()\n",
    "\n",
    "#인덱스 값 지정\n",
    "print(series[[\"orange\", \"peach\"]])"
   ]
  },
  {
   "cell_type": "code",
   "execution_count": 2,
   "metadata": {},
   "outputs": [
    {
     "name": "stdout",
     "output_type": "stream",
     "text": [
      "[10  5  8 12  3]\n",
      "Index(['apple', 'orange', 'banana', 'strawberry', 'kiwifruit'], dtype='object')\n"
     ]
    }
   ],
   "source": [
    "#데이터와 인덱스 추출\n",
    "import pandas as pd\n",
    "\n",
    "index = [\"apple\", \"orange\", \"banana\", \"strawberry\", \"kiwifruit\"]\n",
    "data = [10, 5, 8, 12, 3]\n",
    "series = pd.Series(data, index = index)\n",
    "\n",
    "#series_values에 series의 데이터 대입\n",
    "series_values = series.values\n",
    "\n",
    "#series_index에 series의 인덱스 대입\n",
    "series_index = series.index\n",
    "\n",
    "print(series_values)\n",
    "print(series_index)"
   ]
  },
  {
   "cell_type": "code",
   "execution_count": 5,
   "metadata": {},
   "outputs": [
    {
     "name": "stdout",
     "output_type": "stream",
     "text": [
      "apple         10\n",
      "orange         5\n",
      "banana         8\n",
      "strawberry    12\n",
      "kiwifruit      3\n",
      "pineapple     12\n",
      "dtype: int64\n"
     ]
    }
   ],
   "source": [
    "#요소 추가\n",
    "fruits = {\"banana\":3, \"orange\":2}\n",
    "series = pd.Series(fruits)\n",
    "series = series.append(pd.Series([3], index=[\"grape\"]))\n",
    "\n",
    "\n",
    "#인덱스가 \"pineapple\"이고, 데이터가 12인 요소 series에 추가하기\n",
    "\n",
    "import pandas as pd\n",
    "\n",
    "index = [\"apple\", \"orange\", \"banana\", \"strawberry\", \"kiwifruit\"]\n",
    "data = [10, 5, 8, 12, 3]\n",
    "\n",
    "series = pd.Series(data, index = index)\n",
    "\n",
    "#인덱스가 \"pineapple\"이고, 데이터가 12인 요소 series에 추가\n",
    "series = series.append(pd.Series([12], index=[\"pineapple\"]))\n",
    "# 다른 방법1\n",
    "# pineapple = pd.Series([12], index=[\"pineapple\"])\n",
    "# series = series.append(pineapple)\n",
    "# 다른 방법2\n",
    "# series = series.append(pd.Series({\"pineapple\":12}))\n",
    "\n",
    "print(series)"
   ]
  },
  {
   "cell_type": "code",
   "execution_count": 7,
   "metadata": {},
   "outputs": [
    {
     "name": "stdout",
     "output_type": "stream",
     "text": [
      "apple        10\n",
      "orange        5\n",
      "banana        8\n",
      "kiwifruit     3\n",
      "dtype: int64\n"
     ]
    }
   ],
   "source": [
    "#요소 삭제\n",
    "import pandas as pd\n",
    "\n",
    "index = [\"apple\", \"orange\", \"banana\", \"strawberry\", \"kiwifruit\"]\n",
    "data = [10, 5, 8, 12, 3]\n",
    "\n",
    "#index와 data를 포함한 Series를 작성하여 series에 대입\n",
    "series = pd.Series(data, index = index)\n",
    "\n",
    "#인덱스가 strawberry인 요소 삭제하고 series에 대입\n",
    "series = series.drop(\"strawberry\")\n",
    "\n",
    "print(series)"
   ]
  },
  {
   "cell_type": "code",
   "execution_count": 14,
   "metadata": {},
   "outputs": [
    {
     "name": "stdout",
     "output_type": "stream",
     "text": [
      "apple     10\n",
      "orange     5\n",
      "dtype: int64\n",
      "\n",
      "apple         10\n",
      "orange         5\n",
      "banana         8\n",
      "strawberry    12\n",
      "dtype: int64\n",
      "\n",
      "orange    5\n",
      "banana    8\n",
      "dtype: int64\n"
     ]
    }
   ],
   "source": [
    "#필터링\n",
    "index = [\"apple\", \"orange\", \"banana\", \"strawberry\", \"kiwifruit\"]\n",
    "data = [10, 5, 8, 12, 3]\n",
    "series = pd.Series(data, index=index)\n",
    "\n",
    "conditions = [True, True, False, False, False]\n",
    "print(series[conditions])\n",
    "print()\n",
    "\n",
    "print(series[series >= 5])\n",
    "print()\n",
    "\n",
    "#series의 요소 중 5이상 10 미만의 요소를 포함하는 Series를 만들어 series에 다시 대입\n",
    "series = series[series>=5][series<10]\n",
    "print(series)"
   ]
  },
  {
   "cell_type": "code",
   "execution_count": 15,
   "metadata": {},
   "outputs": [
    {
     "name": "stdout",
     "output_type": "stream",
     "text": [
      "apple         10\n",
      "banana         8\n",
      "kiwifruit      3\n",
      "orange         5\n",
      "strawberry    12\n",
      "dtype: int64\n",
      "\n",
      "kiwifruit      3\n",
      "orange         5\n",
      "banana         8\n",
      "apple         10\n",
      "strawberry    12\n",
      "dtype: int64\n"
     ]
    }
   ],
   "source": [
    "#정렬\n",
    "\n",
    "import pandas as pd\n",
    "\n",
    "index = [\"apple\", \"orange\", \"banana\", \"strawberry\", \"kiwifruit\"]\n",
    "data = [10, 5, 8, 12, 3]\n",
    "series = pd.Series(data, index=index)\n",
    "\n",
    "#series의 인덱스를 알파벳순으로 정렬해서 item1에 대입\n",
    "item1 = series.sort_index()\n",
    "\n",
    "#series의 데이터값을 오름차순으로 정렬해서 item2에 대입\n",
    "item2 = series.sort_values()\n",
    "\n",
    "print(item1)\n",
    "print()\n",
    "print(item2)"
   ]
  }
 ],
 "metadata": {
  "kernelspec": {
   "display_name": "Python 3",
   "language": "python",
   "name": "python3"
  },
  "language_info": {
   "codemirror_mode": {
    "name": "ipython",
    "version": 3
   },
   "file_extension": ".py",
   "mimetype": "text/x-python",
   "name": "python",
   "nbconvert_exporter": "python",
   "pygments_lexer": "ipython3",
   "version": "3.8.5"
  }
 },
 "nbformat": 4,
 "nbformat_minor": 4
}
