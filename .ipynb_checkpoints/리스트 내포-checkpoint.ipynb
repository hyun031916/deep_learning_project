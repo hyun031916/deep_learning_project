{
 "cells": [
  {
   "cell_type": "code",
   "execution_count": 2,
   "metadata": {},
   "outputs": [
    {
     "name": "stdout",
     "output_type": "stream",
     "text": [
      "[[0, 30], [2, 35], [3, 0], [1, 14], [0, 11], [1, 0], [1, 22]]\n"
     ]
    }
   ],
   "source": [
    "#리스트 생성\n",
    "\n",
    "#minute_data, 단위는 분\n",
    "minute_data = [30, 155, 180, 74, 11, 60, 82]\n",
    "\n",
    "#분을 [시, 분]으로 변환하는 함수 작성\n",
    "h_m_split = lambda x:[x // 60, x % 60]\n",
    "\n",
    "#리스트 내포를 사용하여 배열 만들기\n",
    "h_m_data = [h_m_split(x) for x in minute_data]\n",
    "print(h_m_data)"
   ]
  },
  {
   "cell_type": "code",
   "execution_count": 3,
   "metadata": {},
   "outputs": [
    {
     "name": "stdout",
     "output_type": "stream",
     "text": [
      "[180, 60]\n"
     ]
    }
   ],
   "source": [
    "#if 문을 이용한 루프\n",
    "#minute_data, 단위는 분\n",
    "minute_data = [30, 155, 180, 74, 11, 60, 82]\n",
    "\n",
    "#리스트 내포를 사용하여 배열 만들기\n",
    "just_hour_data = [x for x in minute_data if x % 60 == 0]\n",
    "\n",
    "print(just_hour_data)"
   ]
  },
  {
   "cell_type": "code",
   "execution_count": 7,
   "metadata": {},
   "outputs": [
    {
     "name": "stdout",
     "output_type": "stream",
     "text": [
      "[30, 155, 180, 74, 11, 60, 82]\n"
     ]
    }
   ],
   "source": [
    "#여러 배열을 동시에 루프시키기\n",
    "\n",
    "#시간 데이터 hour, 분 데이터 minute\n",
    "hour = [0, 2, 3, 1, 0, 1, 1]\n",
    "minute = [30, 35, 0, 14, 11, 0, 22]\n",
    "\n",
    "#시와 분을 인수로 받아서 분으로 변환하는 함수 작성\n",
    "h_m_combine = lambda x, y: x*60+y\n",
    "\n",
    "#리스트 내포를 사용하여 배열 만들기\n",
    "minute_data1 = [h_m_combine(x, y) for x, y in zip(hour, minute)]\n",
    "\n",
    "print(minute_data1)"
   ]
  },
  {
   "cell_type": "code",
   "execution_count": 9,
   "metadata": {},
   "outputs": [
    {
     "name": "stdout",
     "output_type": "stream",
     "text": [
      "[0, 1, 2, 3, 4, 5, 6, 7]\n"
     ]
    }
   ],
   "source": [
    "#다중 루프\n",
    "\n",
    "#이진수의 자리\n",
    "threes_place = [0, 1]\n",
    "twos_place = [0, 1]\n",
    "ones_place = [0, 1]\n",
    "\n",
    "#리스트 내포에서 다중 루프를 사용하여 0에서 7까지의 정수를 계산하여 배열로 만들기\n",
    "digit = [x*4+y*2+z for x in threes_place for y in twos_place for z in ones_place]\n",
    "\n",
    "print(digit)"
   ]
  }
 ],
 "metadata": {
  "kernelspec": {
   "display_name": "Python 3",
   "language": "python",
   "name": "python3"
  },
  "language_info": {
   "codemirror_mode": {
    "name": "ipython",
    "version": 3
   },
   "file_extension": ".py",
   "mimetype": "text/x-python",
   "name": "python",
   "nbconvert_exporter": "python",
   "pygments_lexer": "ipython3",
   "version": "3.8.5"
  }
 },
 "nbformat": 4,
 "nbformat_minor": 4
}
