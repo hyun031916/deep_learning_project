{
 "cells": [
  {
   "cell_type": "code",
   "execution_count": 6,
   "metadata": {},
   "outputs": [
    {
     "name": "stdout",
     "output_type": "stream",
     "text": [
      "Epoch 1/10\n",
      "188/188 [==============================] - 1s 2ms/step - loss: 2.4425 - accuracy: 0.1527\n",
      "Epoch 2/10\n",
      "188/188 [==============================] - 0s 2ms/step - loss: 1.9929 - accuracy: 0.3177\n",
      "Epoch 3/10\n",
      "188/188 [==============================] - 0s 2ms/step - loss: 1.7062 - accuracy: 0.4575\n",
      "Epoch 4/10\n",
      "188/188 [==============================] - 1s 3ms/step - loss: 1.4720 - accuracy: 0.5580\n",
      "Epoch 5/10\n",
      "188/188 [==============================] - 0s 3ms/step - loss: 1.2691 - accuracy: 0.6500\n",
      "Epoch 6/10\n",
      "188/188 [==============================] - 1s 3ms/step - loss: 1.1485 - accuracy: 0.6782\n",
      "Epoch 7/10\n",
      "188/188 [==============================] - 1s 3ms/step - loss: 1.0038 - accuracy: 0.7302\n",
      "Epoch 8/10\n",
      "188/188 [==============================] - 1s 3ms/step - loss: 0.9166 - accuracy: 0.7591\n",
      "Epoch 9/10\n",
      "188/188 [==============================] - 0s 3ms/step - loss: 0.8459 - accuracy: 0.7757\n",
      "Epoch 10/10\n",
      "188/188 [==============================] - 1s 3ms/step - loss: 0.7736 - accuracy: 0.8055\n",
      "evaluate loss: 0.6936709880828857\n",
      "evaluate acc: 0.8460000157356262\n"
     ]
    }
   ],
   "source": [
    "# 하이퍼 파라미터: 네트워크를 구성할 때 사람이 조정해야 하는 파라미터\n",
    "import numpy as np\n",
    "import matplotlib.pyplot as plt\n",
    "from tensorflow.keras.datasets import mnist\n",
    "from tensorflow.keras.layers import Activation, Dense, Dropout\n",
    "from tensorflow.keras.models import Sequential, load_model\n",
    "from tensorflow.keras import optimizers\n",
    "from keras.utils.np_utils import to_categorical\n",
    "\n",
    "(X_train, y_train), (X_test, y_test) = mnist.load_data()\n",
    "\n",
    "X_train = X_train.reshape(X_train.shape[0], 784)[:6000]\n",
    "X_test = X_test.reshape(X_test.shape[0], 784)[:1000]\n",
    "y_train = to_categorical(y_train)[:6000]\n",
    "y_test = to_categorical(y_test)[:1000]\n",
    "\n",
    "model = Sequential()\n",
    "model.add(Dense(256, input_dim = 784))\n",
    "#하이퍼파라미터: 활성화 함수\n",
    "model.add(Activation(\"sigmoid\"))\n",
    "# 하이퍼파라미터: 은닉층 수, 은닉층의 채널 수\n",
    "model.add(Dense(128))\n",
    "model.add(Activation(\"sigmoid\"))\n",
    "# 하이퍼파라미터: 드롭아웃 비율(rate)\n",
    "model.add(Dropout(rate=0.5))\n",
    "model.add(Dense(10))\n",
    "model.add(Activation(\"softmax\"))\n",
    "\n",
    "# 하이퍼파라미터: 학습률(Ir)\n",
    "sgd = optimizers.SGD(lr=0.01)\n",
    "\n",
    "# 하이퍼파라미터: 최적화 함수(optimizer)\n",
    "# 하이퍼파라미터: 오차 함수(lose)\n",
    "model.compile(optimizer=sgd, loss=\"categorical_crossentropy\", metrics=[\"accuracy\"])\n",
    "\n",
    "# 하이퍼파라미터: 배치 처리 크기(batch_size)\n",
    "# 하이퍼파라미터: epoch 수(epochs)\n",
    "model.fit(X_train, y_train, batch_size=32, epochs=10, verbose=1)\n",
    "\n",
    "score = model.evaluate(X_test, y_test, verbose=0)\n",
    "print(\"evaluate loss: {0[0]}\\nevaluate acc: {0[1]}\".format(score))"
   ]
  }
 ],
 "metadata": {
  "kernelspec": {
   "display_name": "Python 3",
   "language": "python",
   "name": "python3"
  },
  "language_info": {
   "codemirror_mode": {
    "name": "ipython",
    "version": 3
   },
   "file_extension": ".py",
   "mimetype": "text/x-python",
   "name": "python",
   "nbconvert_exporter": "python",
   "pygments_lexer": "ipython3",
   "version": "3.8.5"
  }
 },
 "nbformat": 4,
 "nbformat_minor": 4
}
