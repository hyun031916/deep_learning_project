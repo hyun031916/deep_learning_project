{
 "cells": [
  {
   "cell_type": "code",
   "execution_count": 7,
   "metadata": {},
   "outputs": [
    {
     "name": "stdout",
     "output_type": "stream",
     "text": [
      "파라미터: {'C': 10, 'decision_function_shape': 'ovr', 'kernel': 'rbf', 'random_state': 42}\n",
      "최고 점수:  0.9888888888888889\n",
      "\n",
      "조정 없음\n",
      "0.9866666666666667\n"
     ]
    }
   ],
   "source": [
    "#그리드 자동화\n",
    "import scipy.stats\n",
    "from sklearn.datasets import load_digits\n",
    "from sklearn.svm import SVC\n",
    "from sklearn.model_selection import GridSearchCV\n",
    "from sklearn.model_selection import train_test_split\n",
    "from sklearn.metrics import f1_score\n",
    "\n",
    "data = load_digits()\n",
    "train_X, test_X, train_y, test_y = train_test_split(data.data, data.target, random_state=42)\n",
    "\n",
    "#파라미터값의 후보 설정\n",
    "model_param_set_grid = {SVC():{\n",
    "    \"kernel\":[\"linear\", \"poly\", \"rbf\", \"sigmoid\"],\n",
    "    \"C\":[10 ** i for i in range(-5, 5)],\n",
    "    \"decision_function_shape\":[\"ovr\", \"ovo\"],\n",
    "    \"random_state\":[42]\n",
    "}}\n",
    "\n",
    "max_score = 0\n",
    "best_param = None\n",
    "\n",
    "#그리드 검색으로 파라미터 검색\n",
    "for model, param in model_param_set_grid.items():\n",
    "    clf = GridSearchCV(model, param)\n",
    "    clf.fit(train_X, train_y)\n",
    "    pred_y = clf.predict(test_X)\n",
    "    score = f1_score(test_y, pred_y, average=\"micro\")\n",
    "    if max_score < score:\n",
    "        max_score = score\n",
    "        best_model = model.__class__.__name__\n",
    "        best_param = clf.best_params_\n",
    "        \n",
    "print(\"파라미터: {}\".format(best_param))\n",
    "print(\"최고 점수: \", max_score)\n",
    "svm = SVC()\n",
    "svm.fit(train_X, train_y)\n",
    "print()\n",
    "print(\"조정 없음\")\n",
    "print(svm.score(test_X, test_y))"
   ]
  }
 ],
 "metadata": {
  "kernelspec": {
   "display_name": "Python 3",
   "language": "python",
   "name": "python3"
  },
  "language_info": {
   "codemirror_mode": {
    "name": "ipython",
    "version": 3
   },
   "file_extension": ".py",
   "mimetype": "text/x-python",
   "name": "python",
   "nbconvert_exporter": "python",
   "pygments_lexer": "ipython3",
   "version": "3.8.5"
  }
 },
 "nbformat": 4,
 "nbformat_minor": 4
}
