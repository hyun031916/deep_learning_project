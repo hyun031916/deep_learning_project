{
 "cells": [
  {
   "cell_type": "code",
   "execution_count": 1,
   "metadata": {},
   "outputs": [
    {
     "data": {
      "image/png": "[encoded data removed]",
      "text/plain": [
       "<Figure size 432x288 with 1 Axes>"
      ]
     },
     "metadata": {
      "needs_background": "light"
     },
     "output_type": "display_data"
    }
   ],
   "source": [
    "#히스토그램 만들기\n",
    "import numpy as np\n",
    "import matplotlib.pyplot as plt\n",
    "\n",
    "%matplotlib inline\n",
    "\n",
    "np.random.seed(0)\n",
    "data = np.random.randn(10000)\n",
    "\n",
    "#data를 이용해 히스토그램 만들기\n",
    "plt.hist(data)\n",
    "\n",
    "plt.show() \n"
   ]
  },
  {
   "cell_type": "code",
   "execution_count": 3,
   "metadata": {},
   "outputs": [
    {
     "data": {
      "image/png": "[encoded data removed]",
      "text/plain": [
       "<Figure size 432x288 with 1 Axes>"
      ]
     },
     "metadata": {
      "needs_background": "light"
     },
     "output_type": "display_data"
    }
   ],
   "source": [
    "#구간수 설정하기\n",
    "\n",
    "import numpy as np\n",
    "import matplotlib.pyplot as plt\n",
    "\n",
    "%matplotlib inline\n",
    "\n",
    "np.random.seed(0)\n",
    "data = np.random.randn(10000)\n",
    "\n",
    "#구간수가 100인 히스토그램 만들기\n",
    "plt.hist(data, bins = 100)\n",
    "plt.show()"
   ]
  },
  {
   "cell_type": "code",
   "execution_count": 6,
   "metadata": {},
   "outputs": [
    {
     "data": {
      "image/png": "[encoded data removed]",
      "text/plain": [
       "<Figure size 432x288 with 1 Axes>"
      ]
     },
     "metadata": {
      "needs_background": "light"
     },
     "output_type": "display_data"
    }
   ],
   "source": [
    "#정규화하기\n",
    "import numpy as np\n",
    "import matplotlib.pyplot as plt\n",
    "\n",
    "%matplotlib inline\n",
    "\n",
    "np.random.seed(0)\n",
    "data = np.random.randn(10000)\n",
    "\n",
    "#정규화된 구간수가 100인 히스토그램 만들기\n",
    "plt.hist(data, bins=100, density=True)\n",
    "\n",
    "plt.show()"
   ]
  },
  {
   "cell_type": "code",
   "execution_count": 8,
   "metadata": {},
   "outputs": [
    {
     "data": {
      "text/plain": [
       "(array([1.000e-04, 1.000e-04, 1.000e-04, 1.000e-04, 2.000e-04, 2.000e-04,\n",
       "        2.000e-04, 2.000e-04, 5.000e-04, 1.000e-03, 1.500e-03, 1.800e-03,\n",
       "        2.500e-03, 3.200e-03, 4.100e-03, 6.000e-03, 6.500e-03, 7.700e-03,\n",
       "        9.900e-03, 1.200e-02, 1.500e-02, 1.820e-02, 2.120e-02, 2.510e-02,\n",
       "        2.920e-02, 3.490e-02, 4.190e-02, 5.070e-02, 5.950e-02, 6.990e-02,\n",
       "        8.190e-02, 9.490e-02, 1.084e-01, 1.225e-01, 1.364e-01, 1.531e-01,\n",
       "        1.733e-01, 1.941e-01, 2.169e-01, 2.409e-01, 2.629e-01, 2.863e-01,\n",
       "        3.136e-01, 3.390e-01, 3.689e-01, 3.978e-01, 4.263e-01, 4.570e-01,\n",
       "        4.912e-01, 5.242e-01, 5.537e-01, 5.837e-01, 6.160e-01, 6.437e-01,\n",
       "        6.691e-01, 6.974e-01, 7.224e-01, 7.465e-01, 7.707e-01, 7.930e-01,\n",
       "        8.135e-01, 8.339e-01, 8.516e-01, 8.693e-01, 8.830e-01, 8.963e-01,\n",
       "        9.091e-01, 9.209e-01, 9.311e-01, 9.409e-01, 9.491e-01, 9.564e-01,\n",
       "        9.640e-01, 9.700e-01, 9.744e-01, 9.782e-01, 9.820e-01, 9.846e-01,\n",
       "        9.872e-01, 9.896e-01, 9.913e-01, 9.928e-01, 9.944e-01, 9.955e-01,\n",
       "        9.971e-01, 9.976e-01, 9.979e-01, 9.984e-01, 9.989e-01, 9.993e-01,\n",
       "        9.994e-01, 9.995e-01, 9.996e-01, 9.998e-01, 9.998e-01, 9.999e-01,\n",
       "        9.999e-01, 9.999e-01, 9.999e-01, 1.000e+00]),\n",
       " array([-3.74010064, -3.66468303, -3.58926542, -3.51384781, -3.4384302 ,\n",
       "        -3.3630126 , -3.28759499, -3.21217738, -3.13675977, -3.06134216,\n",
       "        -2.98592455, -2.91050694, -2.83508934, -2.75967173, -2.68425412,\n",
       "        -2.60883651, -2.5334189 , -2.45800129, -2.38258368, -2.30716608,\n",
       "        -2.23174847, -2.15633086, -2.08091325, -2.00549564, -1.93007803,\n",
       "        -1.85466042, -1.77924282, -1.70382521, -1.6284076 , -1.55298999,\n",
       "        -1.47757238, -1.40215477, -1.32673717, -1.25131956, -1.17590195,\n",
       "        -1.10048434, -1.02506673, -0.94964912, -0.87423151, -0.79881391,\n",
       "        -0.7233963 , -0.64797869, -0.57256108, -0.49714347, -0.42172586,\n",
       "        -0.34630825, -0.27089065, -0.19547304, -0.12005543, -0.04463782,\n",
       "         0.03077979,  0.1061974 ,  0.18161501,  0.25703261,  0.33245022,\n",
       "         0.40786783,  0.48328544,  0.55870305,  0.63412066,  0.70953827,\n",
       "         0.78495587,  0.86037348,  0.93579109,  1.0112087 ,  1.08662631,\n",
       "         1.16204392,  1.23746152,  1.31287913,  1.38829674,  1.46371435,\n",
       "         1.53913196,  1.61454957,  1.68996718,  1.76538478,  1.84080239,\n",
       "         1.91622   ,  1.99163761,  2.06705522,  2.14247283,  2.21789044,\n",
       "         2.29330804,  2.36872565,  2.44414326,  2.51956087,  2.59497848,\n",
       "         2.67039609,  2.7458137 ,  2.8212313 ,  2.89664891,  2.97206652,\n",
       "         3.04748413,  3.12290174,  3.19831935,  3.27373696,  3.34915456,\n",
       "         3.42457217,  3.49998978,  3.57540739,  3.650825  ,  3.72624261,\n",
       "         3.80166021]),\n",
       " <BarContainer object of 100 artists>)"
      ]
     },
     "execution_count": 8,
     "metadata": {},
     "output_type": "execute_result"
    },
    {
     "data": {
      "image/png": "[encoded data removed]",
      "text/plain": [
       "<Figure size 432x288 with 1 Axes>"
      ]
     },
     "metadata": {
      "needs_background": "light"
     },
     "output_type": "display_data"
    }
   ],
   "source": [
    "#누적 히스토그램 만들기\n",
    "import numpy as np\n",
    "import matplotlib.pyplot as plt\n",
    "\n",
    "%matplotlib inline\n",
    "\n",
    "np.random.seed(0)\n",
    "data = np.random.randn(10000)\n",
    "\n",
    "#정규화된, 구간수가 100인 누적 히스토그램 만들기\n",
    "plt.hist(data, density=True, bins=100, cumulative=True)"
   ]
  }
 ],
 "metadata": {
  "kernelspec": {
   "display_name": "Python 3",
   "language": "python",
   "name": "python3"
  },
  "language_info": {
   "codemirror_mode": {
    "name": "ipython",
    "version": 3
   },
   "file_extension": ".py",
   "mimetype": "text/x-python",
   "name": "python",
   "nbconvert_exporter": "python",
   "pygments_lexer": "ipython3",
   "version": "3.8.5"
  }
 },
 "nbformat": 4,
 "nbformat_minor": 4
}
