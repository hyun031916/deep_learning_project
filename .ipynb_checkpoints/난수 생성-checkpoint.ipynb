{
 "cells": [
  {
   "cell_type": "code",
   "execution_count": 4,
   "metadata": {},
   "outputs": [
    {
     "name": "stdout",
     "output_type": "stream",
     "text": [
      "시드를 설정하지 않았을 때\n",
      "X:  [-0.97727788  0.95008842 -0.15135721 -0.10321885  0.4105985 ]\n",
      "Y:  [0.14404357 1.45427351 0.76103773 0.12167502 0.44386323]\n",
      "시드를 설정했을 때\n",
      "X:  [1.76405235 0.40015721 0.97873798 2.2408932  1.86755799]\n",
      "Y:  [1.76405235 0.40015721 0.97873798 2.2408932  1.86755799]\n"
     ]
    }
   ],
   "source": [
    "#시드 설정\n",
    "\n",
    "import numpy as np\n",
    "\n",
    "#시드를 설정하지 않았을 때 난수가 일치하는 지 확인하기\n",
    "#X와 Y에 각각 다섯 개의 난수 지정\n",
    "X = np.random.randn(5)\n",
    "Y = np.random.randn(5)\n",
    "\n",
    "#X와 Y값 출력\n",
    "print(\"시드를 설정하지 않았을 때\")\n",
    "print(\"X: \", X)\n",
    "print(\"Y: \", Y)\n",
    "\n",
    "#시드 설정\n",
    "np.random.seed(0)\n",
    "\n",
    "#난수열을 변수에 대입\n",
    "x = np.random.randn(5)\n",
    "\n",
    "#동일한 시드 설정하여 초기화하기\n",
    "np.random.seed(0)\n",
    "\n",
    "#다시 난수열을 만들어 다른 변수에 대입\n",
    "y = np.random.randn(5)\n",
    "\n",
    "#x와 y값이 일치하는지 확인\n",
    "print(\"시드를 설정했을 때\")\n",
    "print(\"X: \", x)\n",
    "print(\"Y: \", y)"
   ]
  },
  {
   "cell_type": "code",
   "execution_count": null,
   "metadata": {},
   "outputs": [],
   "source": []
  }
 ],
 "metadata": {
  "kernelspec": {
   "display_name": "Python 3",
   "language": "python",
   "name": "python3"
  },
  "language_info": {
   "codemirror_mode": {
    "name": "ipython",
    "version": 3
   },
   "file_extension": ".py",
   "mimetype": "text/x-python",
   "name": "python",
   "nbconvert_exporter": "python",
   "pygments_lexer": "ipython3",
   "version": "3.8.5"
  }
 },
 "nbformat": 4,
 "nbformat_minor": 4
}
