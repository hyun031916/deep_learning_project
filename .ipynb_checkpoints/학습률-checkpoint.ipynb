{
 "cells": [
  {
   "cell_type": "code",
   "execution_count": 3,
   "metadata": {},
   "outputs": [
    {
     "name": "stdout",
     "output_type": "stream",
     "text": [
      "Epoch 1/3\n",
      "188/188 [==============================] - 2s 4ms/step - loss: 2.4611\n",
      "Epoch 2/3\n",
      "188/188 [==============================] - 1s 3ms/step - loss: 2.1906\n",
      "Epoch 3/3\n",
      "188/188 [==============================] - 1s 4ms/step - loss: 2.0322\n"
     ]
    },
    {
     "ename": "TypeError",
     "evalue": "'float' object is not subscriptable",
     "output_type": "error",
     "traceback": [
      "\u001b[1;31m---------------------------------------------------------------------------\u001b[0m",
      "\u001b[1;31mTypeError\u001b[0m                                 Traceback (most recent call last)",
      "\u001b[1;32m<ipython-input-3-685e52eabdb6>\u001b[0m in \u001b[0;36m<module>\u001b[1;34m\u001b[0m\n\u001b[0;32m     48\u001b[0m \u001b[1;33m\u001b[0m\u001b[0m\n\u001b[0;32m     49\u001b[0m \u001b[0mscore\u001b[0m \u001b[1;33m=\u001b[0m \u001b[0mmodel\u001b[0m\u001b[1;33m.\u001b[0m\u001b[0mevaluate\u001b[0m\u001b[1;33m(\u001b[0m\u001b[0mX_test\u001b[0m\u001b[1;33m,\u001b[0m \u001b[0my_test\u001b[0m\u001b[1;33m,\u001b[0m \u001b[0mverbose\u001b[0m\u001b[1;33m=\u001b[0m\u001b[1;36m0\u001b[0m\u001b[1;33m)\u001b[0m\u001b[1;33m\u001b[0m\u001b[1;33m\u001b[0m\u001b[0m\n\u001b[1;32m---> 50\u001b[1;33m \u001b[0mprint\u001b[0m\u001b[1;33m(\u001b[0m\u001b[1;34m\"evaluate loss: {0[0]} \\nevaluate acc: {0[1]}\"\u001b[0m\u001b[1;33m.\u001b[0m\u001b[0mformat\u001b[0m\u001b[1;33m(\u001b[0m\u001b[0mscore\u001b[0m\u001b[1;33m)\u001b[0m\u001b[1;33m)\u001b[0m\u001b[1;33m\u001b[0m\u001b[1;33m\u001b[0m\u001b[0m\n\u001b[0m",
      "\u001b[1;31mTypeError\u001b[0m: 'float' object is not subscriptable"
     ]
    }
   ],
   "source": [
    "# 각 층의 가중치를 한 번에 어느 정도 변경할지 결정하는 하이퍼파라미터\n",
    "import numpy as np\n",
    "import matplotlib.pyplot as plt\n",
    "from tensorflow.keras.datasets import mnist\n",
    "from tensorflow.keras.layers import Activation, Dense, Dropout\n",
    "from tensorflow.keras.models import Sequential, load_model\n",
    "from tensorflow.keras import optimizers\n",
    "from keras.utils.np_utils import to_categorical\n",
    "\n",
    "(X_train, y_train), (X_test, y_test) = mnist.load_data()\n",
    "\n",
    "X_train = X_train.reshape(X_train.shape[0], 784)[:6000]\n",
    "X_test = X_test.reshape(X_test.shape[0], 784)[:1000]\n",
    "y_train = to_categorical(y_train)[:6000]\n",
    "y_test = to_categorical(y_test)[:1000]\n",
    "\n",
    "model = Sequential()\n",
    "model.add(Dense(256, input_dim=784))\n",
    "model.add(Activation(\"sigmoid\"))\n",
    "model.add(Dense(128))\n",
    "model.add(Activation(\"sigmoid\"))\n",
    "model.add(Dropout(rate=0.5))\n",
    "model.add(Dense(10))\n",
    "model.add(Activation(\"softmax\"))\n",
    "\n",
    "def funcA():\n",
    "    global lr\n",
    "    lr = 0.01\n",
    "\n",
    "def funcB():\n",
    "    global lr\n",
    "    lr = 0.1\n",
    "    \n",
    "def funcC():\n",
    "    global lr\n",
    "    lr = 1.0\n",
    "    \n",
    "# funcA()\n",
    "# funcB()\n",
    "funcC()\n",
    "\n",
    "sgd = optimizers.SGD(lr=lr)\n",
    "\n",
    "model.compile(optimizer=sgd, loss=\"categorical_crossentropy\")\n",
    "metrics=[\"accuracy\"]\n",
    "\n",
    "model.fit(X_train, y_train, batch_size=32, epochs=3, verbose=1)\n",
    "\n",
    "score = model.evaluate(X_test, y_test, verbose=0)\n",
    "print(\"evaluate loss: {0[0]} \\nevaluate acc: {0[1]}\".format(score))"
   ]
  }
 ],
 "metadata": {
  "kernelspec": {
   "display_name": "Python 3",
   "language": "python",
   "name": "python3"
  },
  "language_info": {
   "codemirror_mode": {
    "name": "ipython",
    "version": 3
   },
   "file_extension": ".py",
   "mimetype": "text/x-python",
   "name": "python",
   "nbconvert_exporter": "python",
   "pygments_lexer": "ipython3",
   "version": "3.8.5"
  }
 },
 "nbformat": 4,
 "nbformat_minor": 4
}
