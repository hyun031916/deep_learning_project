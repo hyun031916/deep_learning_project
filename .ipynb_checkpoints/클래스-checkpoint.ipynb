{
 "cells": [
  {
   "cell_type": "code",
   "execution_count": 1,
   "metadata": {},
   "outputs": [
    {
     "name": "stdout",
     "output_type": "stream",
     "text": [
      "[1, 2, 10, 20]\n"
     ]
    }
   ],
   "source": [
    "#객체\n",
    "\n",
    "#값 저장\n",
    "mylist = [1, 10, 2, 20]\n",
    "\n",
    "#저장한 값에 정렬 수행\n",
    "mylist.sort()\n",
    "\n",
    "#함수로 전달하여 처리 결과 표시\n",
    "print(mylist)"
   ]
  },
  {
   "cell_type": "code",
   "execution_count": 2,
   "metadata": {},
   "outputs": [
    {
     "name": "stdout",
     "output_type": "stream",
     "text": [
      "20\n"
     ]
    }
   ],
   "source": [
    "#클래스(멤버와 생성자)\n",
    "\n",
    "class MyProduct:\n",
    "    def __init__(self, name, price, stock):\n",
    "        self.name = name\n",
    "        self.price = price\n",
    "        self.stock = stock\n",
    "        self.sales = 0\n",
    "        \n",
    "product_1 = MyProduct('cake', 500, 20)\n",
    "print(product_1.stock)"
   ]
  },
  {
   "cell_type": "code",
   "execution_count": 9,
   "metadata": {},
   "outputs": [
    {
     "name": "stdout",
     "output_type": "stream",
     "text": [
      "called summary().\n",
      " name phone\n",
      " price: 25000\n",
      " stock: 100\n",
      " sales: 0\n"
     ]
    }
   ],
   "source": [
    "#클래스(메서드)\n",
    "\n",
    "class myProduct():\n",
    "    def __init__(self, name, price, stock):\n",
    "        self.name = name\n",
    "        self.price = price\n",
    "        self.stock = stock\n",
    "        self.sales = 0\n",
    "    #구매 메서드\n",
    "    def buy_up(self, n):\n",
    "        self.stock += n\n",
    "    #판매 메서드\n",
    "    def sell(self, n):\n",
    "        self.stock -= n\n",
    "        self.sales += n*self.price\n",
    "    #개요 메서드\n",
    "    def summary(self):\n",
    "        message = 'called summary().\\n name: '+ self.name + \\\n",
    "        '\\n price: '+ str(self.price)+\\\n",
    "        '\\n stock: '+ str(self.stock)+\\\n",
    "        '\\n sales: '+ str(self.sales)\n",
    "        print(message)\n",
    "    #name 반환\n",
    "    def get_name(self):\n",
    "        return self.name\n",
    "    \n",
    "    #price를 n만큼 낮춤\n",
    "    def discount(self, n):\n",
    "        self.price -= n\n",
    "\n",
    "product_2 = myProduct('phone', 30000, 100)\n",
    "product_2.discount(5000)\n",
    "product_2.summary()"
   ]
  },
  {
   "cell_type": "code",
   "execution_count": 12,
   "metadata": {},
   "outputs": [
    {
     "name": "stdout",
     "output_type": "stream",
     "text": [
      "phone(소비세 포함)\n",
      "33000\n",
      "called summary().\n",
      " name phone(소비세 포함)\n",
      " price: 33000\n",
      " stock: 100\n",
      " sales: 0\n"
     ]
    }
   ],
   "source": [
    "#클래스(상속, 오버라이드, 슈퍼)\n",
    "class myProduct():\n",
    "    def __init__(self, name, price, stock):\n",
    "        self.name = name\n",
    "        self.price = price\n",
    "        self.stock = stock\n",
    "        self.sales = 0\n",
    "    #개요 메서드\n",
    "    def summary(self):\n",
    "        message = 'called summary().\\n name '+ self.get_name() + \\\n",
    "        '\\n price: '+ str(self.price)+\\\n",
    "        '\\n stock: '+ str(self.stock)+\\\n",
    "        '\\n sales: '+ str(self.sales)\n",
    "        print(message)\n",
    "    #name 반환\n",
    "    def get_name(self):\n",
    "        return self.name\n",
    "    \n",
    "    #price를 n만큼 낮춤\n",
    "    def discount(self, n):\n",
    "        self.price -= n\n",
    "        \n",
    "class myProductSalesTax(myProduct):\n",
    "    #네번째 인수는 소비세율\n",
    "    def __init__(self, name, price, stock, tax_rate):\n",
    "        super().__init__(name, price, stock)\n",
    "        self.tax_rate = tax_rate\n",
    "        \n",
    "    #재정의(오버라이드)\n",
    "    def get_name(self):\n",
    "        return self.name+'(소비세 포함)'\n",
    "    \n",
    "    #새로 구현\n",
    "    def get_price_with_tax(self):\n",
    "        return int(self.price * (1+self.tax_rate))\n",
    "    \n",
    "    def summary(self):\n",
    "        message = 'called summary().\\n name: '+ self.get_name() + \\\n",
    "        '\\n price: '+ str(self.get_price_with_tax()+0)+\\\n",
    "        '\\n stock: '+ str(self.stock)+\\\n",
    "        '\\n sales: '+ str(self.sales)\n",
    "        print(message)\n",
    "\n",
    "product_3 = myProductSalesTax('phone', 30000, 100, 0.1)\n",
    "print(product_3.get_name())\n",
    "print(product_3.get_price_with_tax())\n",
    "product_3.summary()"
   ]
  }
 ],
 "metadata": {
  "kernelspec": {
   "display_name": "Python 3",
   "language": "python",
   "name": "python3"
  },
  "language_info": {
   "codemirror_mode": {
    "name": "ipython",
    "version": 3
   },
   "file_extension": ".py",
   "mimetype": "text/x-python",
   "name": "python",
   "nbconvert_exporter": "python",
   "pygments_lexer": "ipython3",
   "version": "3.8.5"
  }
 },
 "nbformat": 4,
 "nbformat_minor": 4
}
