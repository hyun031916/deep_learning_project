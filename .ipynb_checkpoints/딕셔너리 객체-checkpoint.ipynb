{
 "cells": [
  {
   "cell_type": "code",
   "execution_count": 3,
   "metadata": {},
   "outputs": [
    {
     "name": "stdout",
     "output_type": "stream",
     "text": [
      "[(' ', 20), ('e', 18), ('i', 17), ('n', 14), ('l', 12), ('a', 11), ('t', 10), ('c', 7), ('h', 7), ('r', 6)]\n"
     ]
    }
   ],
   "source": [
    "#defaultdict\n",
    "from collections import defaultdict\n",
    "\n",
    "#문자열 description\n",
    "description = \\\n",
    "\"Artificial intelligence (AI, also machine intelligence, MI) is \"+ \\\n",
    "\"intelligence exhibited by machines, rather than \" + \\\n",
    "\"humans or other animals (natural intelligence, NI).\"\n",
    "\n",
    "#defaultdict 정의하기\n",
    "d = defaultdict(int)\n",
    "\n",
    "#문자 출현 횟수 기록\n",
    "for i in description:\n",
    "    d[i] += 1\n",
    "    \n",
    "#정렬하고 상위 10개 요소 출력하기\n",
    "print(sorted(d.items(), key=lambda x : x[1], reverse=True)[:10])"
   ]
  },
  {
   "cell_type": "code",
   "execution_count": 4,
   "metadata": {},
   "outputs": [
    {
     "name": "stdout",
     "output_type": "stream",
     "text": [
      "[60.0, 120.0, 750.0, 150.0]\n"
     ]
    }
   ],
   "source": [
    "#value 내 요소 추가\n",
    "\n",
    "from collections import defaultdict\n",
    "\n",
    "#요약할 데이터 price ...(이름, 값)\n",
    "price = [\n",
    "    (\"apple\", 50),\n",
    "    (\"banana\", 120),\n",
    "    (\"grape\", 500),\n",
    "    (\"apple\", 70),\n",
    "    (\"lemon\", 150),\n",
    "    (\"grape\", 1000)\n",
    "]\n",
    "\n",
    "#defaultdict 정의하기\n",
    "d = defaultdict(int)\n",
    "\n",
    "#value 추가하기\n",
    "for key, value in price:\n",
    "    #key의 존재 유무로 분기\n",
    "    if key in d:\n",
    "        d[key].append(value)\n",
    "    else:\n",
    "        d[key] = [value]\n",
    "\n",
    "print([sum(x)/len(x) for x in d.values()])"
   ]
  },
  {
   "cell_type": "code",
   "execution_count": 5,
   "metadata": {},
   "outputs": [
    {
     "name": "stdout",
     "output_type": "stream",
     "text": [
      "[(' ', 20), ('e', 18), ('i', 17), ('n', 14), ('l', 12), ('a', 11), ('t', 10), ('c', 7), ('h', 7), ('r', 6)]\n"
     ]
    }
   ],
   "source": [
    "#Counter\n",
    "\n",
    "#Counter를 import\n",
    "from collections import Counter\n",
    "\n",
    "#문자열 description\n",
    "description = \\\n",
    "\"Artificial intelligence (AI, also machine intelligence, MI) is \"+ \\\n",
    "\"intelligence exhibited by machines, rather than \" + \\\n",
    "\"humans or other animals (natural intelligence, NI).\"\n",
    "\n",
    "#Counter 정의\n",
    "d = Counter(description)\n",
    "\n",
    "#정렬하고 출현 빈도 상위 10개 요소 출력\n",
    "print(d.most_common(10))"
   ]
  },
  {
   "cell_type": "code",
   "execution_count": 8,
   "metadata": {},
   "outputs": [
    {
     "name": "stdout",
     "output_type": "stream",
     "text": [
      "계산 결과\n",
      "4\n",
      "\n",
      "월\n",
      "[1, 5, 8, 8, 4]\n",
      "\n",
      "체적\n",
      "[120, 15, 1530, 468, 616, 76, 3078]\n",
      "\n",
      "value의 평균값\n",
      "[510.0, 300.0, 450.0, 170.0, 225.0, 1000.0]\n",
      "\n",
      "과일 이름\n",
      "Counter({'strawberry': 4, 'pear': 2, 'peach': 2, 'lemon': 2, 'apple': 1, 'grape': 1})\n"
     ]
    }
   ],
   "source": [
    "#연습문제\n",
    "# 람다식이나 고차함수 map을 사용한 문제\n",
    "\n",
    "# if와 lambda를 사용하여 인수 a가 8 미만이면 5를 곱하고, 8이상이면 2로 나누기\n",
    "# time_list에서 \"월\" 추출하기\n",
    "# 리스트 내포를 사용하여 체적 계산하기\n",
    "# 각 value의 평균값을 계산하고 price 리스트 내의 과일 이름 열거하기\n",
    "\n",
    "# if와 lambda를 사용하여 인수 a가 8 미만이면 5를 곱하고, 8이상이면 2로 나누기\n",
    "a = 8\n",
    "basic = lambda x: x*5 if x < 8 else x // 2\n",
    "print('계산 결과')\n",
    "print(basic(a))\n",
    "\n",
    "import re\n",
    "#배열 time_list\n",
    "time_list = [\n",
    "    \"2018/1/23_19:40\", \n",
    "    \"2016/5/7_5:25\",\n",
    "    \"2018/8/21_10:50\",\n",
    "    \"2017/8/9_7:5\",\n",
    "    \"2015/4/1_22:15\"\n",
    "]\n",
    "\n",
    "#문자열에서 \"월\"을 꺼내는 함수 작성\n",
    "get_month = lambda x : int(re.split(\"[/_:]\", x)[1])\n",
    "\n",
    "#time_list에서 \"월\"을 꺼내 배열로 만들기\n",
    "month_list = list(map(get_month, time_list))\n",
    "\n",
    "print()\n",
    "print('월')\n",
    "print(month_list)\n",
    "\n",
    "#리스트 내포를 사용하여 체적 계산하기\n",
    "length = [3, 1, 6, 2, 8, 2, 9]\n",
    "side = [4, 1, 15, 18, 7, 2, 19]\n",
    "height = [10, 15, 17, 13, 11, 19, 18]\n",
    "\n",
    "#체적 계산하기\n",
    "volume = [x * y * z for x, y, z in zip(length, side, height)]\n",
    "\n",
    "print()\n",
    "print('체적')\n",
    "print(volume)\n",
    "\n",
    "#각 value의 평균값 계산하고 price 리스트 내의 과일 이름 열거하기\n",
    "from collections import defaultdict\n",
    "from collections import Counter\n",
    "\n",
    "#요약할 데이터 price\n",
    "price = [\n",
    "    (\"strawberry\", 520),\n",
    "    (\"pear\", 200),\n",
    "    (\"peach\", 400),\n",
    "    (\"apple\", 170),\n",
    "    (\"lemon\", 150),\n",
    "    (\"grape\", 1000),\n",
    "    (\"strawberry\", 750),\n",
    "    (\"pear\", 400),\n",
    "    (\"peach\", 500),\n",
    "    (\"strawberry\", 70),\n",
    "    (\"lemon\", 300),\n",
    "    (\"strawberry\", 700)\n",
    "]\n",
    "\n",
    "#defaultdict 정의하기\n",
    "d = defaultdict(list)\n",
    "\n",
    "#value에 가격을, key에 과일 이름 추가하기\n",
    "price_key_count = []\n",
    "for key, value in price:\n",
    "    d[key].append(value)\n",
    "    price_key_count.append(key)\n",
    "    \n",
    "#각 value의 평균을 계산하고 배열로 만들어 출력하기\n",
    "print()\n",
    "print('value의 평균값')\n",
    "print([sum(x)/len(x) for x in d.values()])\n",
    "\n",
    "#위 price 리스트 중에서 과일 이름 열거하기\n",
    "key_count = Counter(price_key_count)\n",
    "print()\n",
    "print('과일 이름')\n",
    "print(key_count)\n"
   ]
  }
 ],
 "metadata": {
  "kernelspec": {
   "display_name": "Python 3",
   "language": "python",
   "name": "python3"
  },
  "language_info": {
   "codemirror_mode": {
    "name": "ipython",
    "version": 3
   },
   "file_extension": ".py",
   "mimetype": "text/x-python",
   "name": "python",
   "nbconvert_exporter": "python",
   "pygments_lexer": "ipython3",
   "version": "3.8.5"
  }
 },
 "nbformat": 4,
 "nbformat_minor": 4
}
