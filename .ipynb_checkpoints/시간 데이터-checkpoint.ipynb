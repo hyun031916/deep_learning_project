{
 "cells": [
  {
   "cell_type": "code",
   "execution_count": 1,
   "metadata": {},
   "outputs": [
    {
     "name": "stdout",
     "output_type": "stream",
     "text": [
      "1992-10-22 00:00:00\n"
     ]
    }
   ],
   "source": [
    "#datetime 형\n",
    "\n",
    "import datetime as dt\n",
    "\n",
    "#1992년 10월 22일 datetime 객체 x에 할당\n",
    "x = dt.datetime(1992, 10, 22)\n",
    "\n",
    "print(x)"
   ]
  },
  {
   "cell_type": "code",
   "execution_count": 2,
   "metadata": {},
   "outputs": [
    {
     "name": "stdout",
     "output_type": "stream",
     "text": [
      "1:30:00\n"
     ]
    }
   ],
   "source": [
    "#timedelta 형\n",
    "#시간의 길이를 나타내는 데이터형\n",
    "\n",
    "import datetime as dt\n",
    "\n",
    "x = dt.timedelta(hours=1.5)\n",
    "\n",
    "print(x)"
   ]
  },
  {
   "cell_type": "code",
   "execution_count": 4,
   "metadata": {},
   "outputs": [
    {
     "name": "stdout",
     "output_type": "stream",
     "text": [
      "1992-10-23 00:00:00\n"
     ]
    }
   ],
   "source": [
    "#datetime형과 timedelta형의 연산\n",
    "\n",
    "import datetime as dt\n",
    "\n",
    "#1992년 10월 22일을 나타내는 datetime 객체 생성하여 x에 대입\n",
    "x = dt.datetime(1992, 10, 22)\n",
    "\n",
    "#x에서 1일 후를 나타내는 datetime 객체 y에 대입\n",
    "y = x+dt.timedelta(1)\n",
    "\n",
    "print(y)"
   ]
  },
  {
   "cell_type": "code",
   "execution_count": 7,
   "metadata": {},
   "outputs": [
    {
     "name": "stdout",
     "output_type": "stream",
     "text": [
      "2003-03-19 00:00:00\n"
     ]
    }
   ],
   "source": [
    "#시각을 나타내는 문자열로 datetime 객체 만들기\n",
    "import datetime as dt\n",
    "\n",
    "#2003년 3월 19일을 나타내는 문자열을 \"년-월-일\" 형식으로 s에 대입\n",
    "s = \"2003-3-19\"\n",
    "\n",
    "#s를 변환하여 2003년 03월 19일을 나타내는 datetime 객체를 x에 대입\n",
    "x = dt.datetime.strptime(s, \"%Y-%m-%d\")\n",
    "\n",
    "print(x)"
   ]
  }
 ],
 "metadata": {
  "kernelspec": {
   "display_name": "Python 3",
   "language": "python",
   "name": "python3"
  },
  "language_info": {
   "codemirror_mode": {
    "name": "ipython",
    "version": 3
   },
   "file_extension": ".py",
   "mimetype": "text/x-python",
   "name": "python",
   "nbconvert_exporter": "python",
   "pygments_lexer": "ipython3",
   "version": "3.8.5"
  }
 },
 "nbformat": 4,
 "nbformat_minor": 4
}
