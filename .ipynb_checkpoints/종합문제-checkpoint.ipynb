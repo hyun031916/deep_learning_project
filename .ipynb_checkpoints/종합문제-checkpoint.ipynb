{
 "cells": [
  {
   "cell_type": "code",
   "execution_count": null,
   "metadata": {},
   "outputs": [],
   "source": [
    "import matplotlib.pyplot as plt\n",
    "import numpy as np\n",
    "import pandas as pd\n",
    "from sklearn import databases\n",
    "from sklearn import svm\n",
    "from sklearn.model_selection import train_test_split\n",
    "from sklearn.metrics import accuracy_score\n",
    "\n",
    "#지도 데이터 준비\n",
    "#Iris 데이터 셋 읽어들이기\n",
    "iris = datasets.load_iris()\n",
    "#3, 4번 째의 특징 추출\n",
    "X = iris.data[:, [2, 3]]\n",
    "#클래스 라벨 가져오기\n",
    "y = iris.target\n",
    "\n",
    "X_train, X_test, y_train, y_test = train_test_split(X, y, test_size=0.3, random_state = 0)\n",
    "\n",
    "#머신러닝 알고리즘을 훈련데이터로 학습시키기\n",
    "svc = svm.SVC(C=1, kernel = 'rbf', gamma = 0.001)\n",
    "svc.fit(X_train, y_train)\n",
    "\n",
    "#테스트 데이터를 이용하여 얼마나 예측이 적중했는지 확인\n",
    "#머신러닝 알고리즘의 성능 확인\n",
    "y_pred = svc.predict(X_test)\n",
    "print(\"Accuracy: %.2f\"% accuracy_score(y_test, y_pred))"
   ]
  }
 ],
 "metadata": {
  "kernelspec": {
   "display_name": "Python 3",
   "language": "python",
   "name": "python3"
  },
  "language_info": {
   "codemirror_mode": {
    "name": "ipython",
    "version": 3
   },
   "file_extension": ".py",
   "mimetype": "text/x-python",
   "name": "python",
   "nbconvert_exporter": "python",
   "pygments_lexer": "ipython3",
   "version": "3.8.5"
  }
 },
 "nbformat": 4,
 "nbformat_minor": 4
}
