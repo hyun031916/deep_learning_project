{
 "cells": [
  {
   "cell_type": "code",
   "execution_count": 2,
   "metadata": {},
   "outputs": [
    {
     "name": "stdout",
     "output_type": "stream",
     "text": [
      "   apple  orange  banana  strawberry  kiwifruit\n",
      "1      6       8       6           3         10\n",
      "2      1       7      10           4         10\n",
      "3      4       9       9           9          1\n",
      "\n",
      "    apple  orange  banana  strawberry  kiwifruit\n",
      "8       6       8       4           8          8\n",
      "9       3       9       6           1          3\n",
      "10      5       2       1           2          1\n"
     ]
    }
   ],
   "source": [
    "#특정 행 얻기\n",
    "\n",
    "import numpy as np\n",
    "import pandas as pd\n",
    "\n",
    "np.random.seed(0)\n",
    "columns = [\"apple\", \"orange\", \"banana\", \"strawberry\", \"kiwifruit\"]\n",
    "\n",
    "#dataFrame을 생성하고 열 추가\n",
    "df = pd.DataFrame()\n",
    "for column in columns:\n",
    "    df[column] = np.random.choice(range(1, 11), 10)\n",
    "df.index = range(1, 11)\n",
    "\n",
    "#df의 첫 3행을 취득하여 df_head에 대입\n",
    "df_head = df.head(3)\n",
    "\n",
    "#df의 끝 3행을 취득하여 df_tail에 대입\n",
    "df_tail = df.tail(3)\n",
    "\n",
    "#출력\n",
    "print(df_head)\n",
    "print()\n",
    "print(df_tail)"
   ]
  },
  {
   "cell_type": "code",
   "execution_count": 6,
   "metadata": {},
   "outputs": [
    {
     "name": "stdout",
     "output_type": "stream",
     "text": [
      "    apple  orange  banana  strawberry  kiwifruit\n",
      "1      12      16      12           6         20\n",
      "2       2      14      20           8         20\n",
      "3       8      18      18          18          2\n",
      "4       8      18      20           4         10\n",
      "5      16       4      10           8         16\n",
      "6      20      14       8           8          8\n",
      "7       8      16       2           8          6\n",
      "8      12      16       8          16         16\n",
      "9       6      18      12           2          6\n",
      "10     10       4       2           4          2\n",
      "\n",
      "    apple  orange  banana  strawberry  kiwifruit\n",
      "1      36      64      36           9        100\n",
      "2       1      49     100          16        100\n",
      "3      16      81      81          81          1\n",
      "4      16      81     100           4         25\n",
      "5      64       4      25          16         64\n",
      "6     100      49      16          16         16\n",
      "7      16      64       1          16          9\n",
      "8      36      64      16          64         64\n",
      "9       9      81      36           1          9\n",
      "10     25       4       1           4          1\n",
      "\n",
      "       apple    orange    banana  strawberry  kiwifruit\n",
      "1   2.449490  2.828427  2.449490    1.732051   3.162278\n",
      "2   1.000000  2.645751  3.162278    2.000000   3.162278\n",
      "3   2.000000  3.000000  3.000000    3.000000   1.000000\n",
      "4   2.000000  3.000000  3.162278    1.414214   2.236068\n",
      "5   2.828427  1.414214  2.236068    2.000000   2.828427\n",
      "6   3.162278  2.645751  2.000000    2.000000   2.000000\n",
      "7   2.000000  2.828427  1.000000    2.000000   1.732051\n",
      "8   2.449490  2.828427  2.000000    2.828427   2.828427\n",
      "9   1.732051  3.000000  2.449490    1.000000   1.732051\n",
      "10  2.236068  1.414214  1.000000    1.414214   1.000000\n"
     ]
    }
   ],
   "source": [
    "#계산 처리하기\n",
    "import numpy as np\n",
    "import pandas as pd\n",
    "import math\n",
    "\n",
    "np.random.seed(0)\n",
    "columns = [\"apple\", \"orange\", \"banana\", \"strawberry\", \"kiwifruit\"]\n",
    "\n",
    "#DataFrame 생성, 열 추가\n",
    "df = pd.DataFrame()\n",
    "for column in columns:\n",
    "    df[column] = np.random.choice(range(1, 11), 10)\n",
    "df.index = range(1, 11)\n",
    "\n",
    "#df의 각 요소를 두 배로 만들어 double_df에 대입\n",
    "double_df = df * 2\n",
    "\n",
    "#df의 각 요소를 제곱하여 square_df에 대입\n",
    "square_df = df ** 2\n",
    "\n",
    "#df의 각 요소를 제곱근 계산하여 sqrt_df에 대입\n",
    "sqrt_df = np.sqrt(df)\n",
    "\n",
    "#출력\n",
    "print(double_df)\n",
    "print()\n",
    "print(square_df)\n",
    "print()\n",
    "print(sqrt_df)"
   ]
  },
  {
   "cell_type": "code",
   "execution_count": 8,
   "metadata": {},
   "outputs": [
    {
     "name": "stdout",
     "output_type": "stream",
     "text": [
      "      apple  orange  banana  strawberry  kiwifruit\n",
      "mean    5.1     6.9     5.6         4.1        5.3\n",
      "max    10.0     9.0    10.0         9.0       10.0\n",
      "min     1.0     2.0     1.0         1.0        1.0\n"
     ]
    }
   ],
   "source": [
    "#통계 정보 얻기\n",
    "\n",
    "import numpy as np\n",
    "import pandas as pd\n",
    "\n",
    "np.random.seed(0)\n",
    "columns = [\"apple\", \"orange\", \"banana\", \"strawberry\", \"kiwifruit\"]\n",
    "\n",
    "#DataFrame 생성, 열 추가\n",
    "df = pd.DataFrame()\n",
    "for column in columns:\n",
    "    df[column] = np.random.choice(range(1, 11), 10)\n",
    "df.index = range(1, 11)\n",
    "\n",
    "#df의 통계 정보 중 \"mean\", \"max\", \"min\"을 꺼내서 df_des에 대입\n",
    "df_des = df.describe().loc[[\"mean\", \"max\", \"min\"]]\n",
    "\n",
    "print(df_des)"
   ]
  },
  {
   "cell_type": "code",
   "execution_count": null,
   "metadata": {},
   "outputs": [],
   "source": []
  }
 ],
 "metadata": {
  "kernelspec": {
   "display_name": "Python 3",
   "language": "python",
   "name": "python3"
  },
  "language_info": {
   "codemirror_mode": {
    "name": "ipython",
    "version": 3
   },
   "file_extension": ".py",
   "mimetype": "text/x-python",
   "name": "python",
   "nbconvert_exporter": "python",
   "pygments_lexer": "ipython3",
   "version": "3.8.5"
  }
 },
 "nbformat": 4,
 "nbformat_minor": 4
}
