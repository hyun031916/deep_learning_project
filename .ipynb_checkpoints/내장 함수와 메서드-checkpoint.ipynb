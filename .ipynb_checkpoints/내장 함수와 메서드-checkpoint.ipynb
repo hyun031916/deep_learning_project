{
 "cells": [
  {
   "cell_type": "code",
   "execution_count": 1,
   "metadata": {},
   "outputs": [
    {
     "name": "stdout",
     "output_type": "stream",
     "text": [
      "6\n",
      "5\n"
     ]
    }
   ],
   "source": [
    "#내장 함수\n",
    "\n",
    "#len\n",
    "vege = 'potato'\n",
    "n = [4, 5, 2, 7, 6]\n",
    "\n",
    "print(len(vege))\n",
    "print(len(n))"
   ]
  },
  {
   "cell_type": "code",
   "execution_count": 3,
   "metadata": {},
   "outputs": [
    {
     "name": "stdout",
     "output_type": "stream",
     "text": [
      "['a', 'b', 'c', 'd', 'e', 'f']\n",
      "[1, 2, 3, 4, 5]\n",
      "[1, 5, 3, 4, 2]\n",
      "[1, 2, 3, 4, 5]\n"
     ]
    }
   ],
   "source": [
    "#메서드\n",
    "\n",
    "#append\n",
    "alphabet = ['a', 'b', 'c', 'd', 'e']\n",
    "alphabet.append('f')\n",
    "print(alphabet)\n",
    "\n",
    "#sorted\n",
    "number = [1, 5, 3, 4, 2]\n",
    "print(sorted(number))\n",
    "print(number)\n",
    "\n",
    "#sort\n",
    "number = [1, 5, 3, 4, 2]\n",
    "number.sort()\n",
    "print(number)"
   ]
  },
  {
   "cell_type": "code",
   "execution_count": 6,
   "metadata": {},
   "outputs": [
    {
     "name": "stdout",
     "output_type": "stream",
     "text": [
      "TOKYO\n",
      "2\n",
      "바나나는 노란색입니다\n",
      "0\n",
      "2\n"
     ]
    }
   ],
   "source": [
    "#문자열형 메서드\n",
    "\n",
    "#upper()와 count()\n",
    "city = 'Tokyo'\n",
    "print(city.upper())\n",
    "print(city.count('o'))\n",
    "\n",
    "#format()\n",
    "fruit = '바나나'\n",
    "color = '노란색'\n",
    "print('{}는 {}입니다'.format(fruit, color))\n"
   ]
  },
  {
   "cell_type": "code",
   "execution_count": 7,
   "metadata": {},
   "outputs": [
    {
     "name": "stdout",
     "output_type": "stream",
     "text": [
      "0\n",
      "2\n",
      "[1, 2, 10, 20]\n",
      "['마', '라', '다', '나', '가']\n"
     ]
    }
   ],
   "source": [
    "#리스트형 메서드\n",
    "\n",
    "#index()\n",
    "alphabet = ['a', 'b', 'c', 'd', 'd']\n",
    "print(alphabet.index('a'))\n",
    "print(alphabet.count('d'))\n",
    "\n",
    "#sort()\n",
    "list = [1, 10, 2, 20]\n",
    "list.sort()\n",
    "print(list)\n",
    "\n",
    "#reverse\n",
    "list = ['가', '나', '다', '라', '마']\n",
    "list.reverse()\n",
    "print(list)"
   ]
  }
 ],
 "metadata": {
  "kernelspec": {
   "display_name": "Python 3",
   "language": "python",
   "name": "python3"
  },
  "language_info": {
   "codemirror_mode": {
    "name": "ipython",
    "version": 3
   },
   "file_extension": ".py",
   "mimetype": "text/x-python",
   "name": "python",
   "nbconvert_exporter": "python",
   "pygments_lexer": "ipython3",
   "version": "3.8.5"
  }
 },
 "nbformat": 4,
 "nbformat_minor": 4
}
