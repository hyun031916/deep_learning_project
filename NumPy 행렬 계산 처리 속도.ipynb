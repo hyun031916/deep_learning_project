{
 "cells": [
  {
   "cell_type": "code",
   "execution_count": 3,
   "metadata": {},
   "outputs": [
    {
     "name": "stdout",
     "output_type": "stream",
     "text": [
      "파이썬 기능만으로 계산한 결과: 11.60[sec]\n",
      "NumPy를 사용하여 계산한 결과: 0.00[sec]\n"
     ]
    }
   ],
   "source": [
    "#필요한 라이브러리를 import 합니다.\n",
    "import numpy as np\n",
    "import time\n",
    "from numpy.random import rand\n",
    "\n",
    "#행, 열 크기\n",
    "N = 150\n",
    "\n",
    "#행렬을 초기화한다.\n",
    "matA = np.array(rand(N, N))\n",
    "matB = np.array(rand(N, N))\n",
    "matC = np.array([[0] * N for _ in range(N)])\n",
    "\n",
    "#파이썬의 리스트를 사용하여 계산한다.\n",
    "#시작 시간을 저장한다.\n",
    "start = time.time()\n",
    "\n",
    "#for 문을 사용하여 행렬 곱셈을 실행한다.\n",
    "for i in range(N):\n",
    "    for j in range(N):\n",
    "        for k in range(N):\n",
    "            matC[i][j] = matA[i][k] *matB[k][j]\n",
    "            \n",
    "print('파이썬 기능만으로 계산한 결과: %.2f[sec]' % float(time.time() - start))\n",
    "\n",
    "#Numpy를 사용하여 계산한다.\n",
    "#시작 시간을 저장한다.\n",
    "start = time.time()\n",
    "\n",
    "#Numpy를 사용하여 행렬 곱셈을 실행한다.\n",
    "matC = np.dot(matA, matB)\n",
    "\n",
    "#소수점 이하 두 자리까지 표시되므로 NumPy는 0.00[sec]으로 표시된다.\n",
    "print('NumPy를 사용하여 계산한 결과: %.2f[sec]' % float(time.time()- start))"
   ]
  },
  {
   "cell_type": "code",
   "execution_count": null,
   "metadata": {},
   "outputs": [],
   "source": []
  }
 ],
 "metadata": {
  "kernelspec": {
   "display_name": "Python 3",
   "language": "python",
   "name": "python3"
  },
  "language_info": {
   "codemirror_mode": {
    "name": "ipython",
    "version": 3
   },
   "file_extension": ".py",
   "mimetype": "text/x-python",
   "name": "python",
   "nbconvert_exporter": "python",
   "pygments_lexer": "ipython3",
   "version": "3.8.5"
  }
 },
 "nbformat": 4,
 "nbformat_minor": 4
}
