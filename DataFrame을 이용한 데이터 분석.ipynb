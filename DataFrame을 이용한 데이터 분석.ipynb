{
 "cells": [
  {
   "cell_type": "code",
   "execution_count": 2,
   "metadata": {},
   "outputs": [
    {
     "name": "stdout",
     "output_type": "stream",
     "text": [
      "   apple  orange  banana  strawberry  kiwifruit\n",
      "1      6       8       6           3         10\n",
      "2      1       7      10           4         10\n",
      "3      4       9       9           9          1\n",
      "\n",
      "    apple  orange  banana  strawberry  kiwifruit\n",
      "8       6       8       4           8          8\n",
      "9       3       9       6           1          3\n",
      "10      5       2       1           2          1\n"
     ]
    }
   ],
   "source": [
    "#특정 행 얻기\n",
    "\n",
    "import numpy as np\n",
    "import pandas as pd\n",
    "\n",
    "np.random.seed(0)\n",
    "columns = [\"apple\", \"orange\", \"banana\", \"strawberry\", \"kiwifruit\"]\n",
    "\n",
    "#dataFrame을 생성하고 열 추가\n",
    "df = pd.DataFrame()\n",
    "for column in columns:\n",
    "    df[column] = np.random.choice(range(1, 11), 10)\n",
    "df.index = range(1, 11)\n",
    "\n",
    "#df의 첫 3행을 취득하여 df_head에 대입\n",
    "df_head = df.head(3)\n",
    "\n",
    "#df의 끝 3행을 취득하여 df_tail에 대입\n",
    "df_tail = df.tail(3)\n",
    "\n",
    "#출력\n",
    "print(df_head)\n",
    "print()\n",
    "print(df_tail)"
   ]
  },
  {
   "cell_type": "code",
   "execution_count": 6,
   "metadata": {},
   "outputs": [
    {
     "name": "stdout",
     "output_type": "stream",
     "text": [
      "    apple  orange  banana  strawberry  kiwifruit\n",
      "1      12      16      12           6         20\n",
      "2       2      14      20           8         20\n",
      "3       8      18      18          18          2\n",
      "4       8      18      20           4         10\n",
      "5      16       4      10           8         16\n",
      "6      20      14       8           8          8\n",
      "7       8      16       2           8          6\n",
      "8      12      16       8          16         16\n",
      "9       6      18      12           2          6\n",
      "10     10       4       2           4          2\n",
      "\n",
      "    apple  orange  banana  strawberry  kiwifruit\n",
      "1      36      64      36           9        100\n",
      "2       1      49     100          16        100\n",
      "3      16      81      81          81          1\n",
      "4      16      81     100           4         25\n",
      "5      64       4      25          16         64\n",
      "6     100      49      16          16         16\n",
      "7      16      64       1          16          9\n",
      "8      36      64      16          64         64\n",
      "9       9      81      36           1          9\n",
      "10     25       4       1           4          1\n",
      "\n",
      "       apple    orange    banana  strawberry  kiwifruit\n",
      "1   2.449490  2.828427  2.449490    1.732051   3.162278\n",
      "2   1.000000  2.645751  3.162278    2.000000   3.162278\n",
      "3   2.000000  3.000000  3.000000    3.000000   1.000000\n",
      "4   2.000000  3.000000  3.162278    1.414214   2.236068\n",
      "5   2.828427  1.414214  2.236068    2.000000   2.828427\n",
      "6   3.162278  2.645751  2.000000    2.000000   2.000000\n",
      "7   2.000000  2.828427  1.000000    2.000000   1.732051\n",
      "8   2.449490  2.828427  2.000000    2.828427   2.828427\n",
      "9   1.732051  3.000000  2.449490    1.000000   1.732051\n",
      "10  2.236068  1.414214  1.000000    1.414214   1.000000\n"
     ]
    }
   ],
   "source": [
    "#계산 처리하기\n",
    "import numpy as np\n",
    "import pandas as pd\n",
    "import math\n",
    "\n",
    "np.random.seed(0)\n",
    "columns = [\"apple\", \"orange\", \"banana\", \"strawberry\", \"kiwifruit\"]\n",
    "\n",
    "#DataFrame 생성, 열 추가\n",
    "df = pd.DataFrame()\n",
    "for column in columns:\n",
    "    df[column] = np.random.choice(range(1, 11), 10)\n",
    "df.index = range(1, 11)\n",
    "\n",
    "#df의 각 요소를 두 배로 만들어 double_df에 대입\n",
    "double_df = df * 2\n",
    "\n",
    "#df의 각 요소를 제곱하여 square_df에 대입\n",
    "square_df = df ** 2\n",
    "\n",
    "#df의 각 요소를 제곱근 계산하여 sqrt_df에 대입\n",
    "sqrt_df = np.sqrt(df)\n",
    "\n",
    "#출력\n",
    "print(double_df)\n",
    "print()\n",
    "print(square_df)\n",
    "print()\n",
    "print(sqrt_df)"
   ]
  },
  {
   "cell_type": "code",
   "execution_count": 8,
   "metadata": {},
   "outputs": [
    {
     "name": "stdout",
     "output_type": "stream",
     "text": [
      "      apple  orange  banana  strawberry  kiwifruit\n",
      "mean    5.1     6.9     5.6         4.1        5.3\n",
      "max    10.0     9.0    10.0         9.0       10.0\n",
      "min     1.0     2.0     1.0         1.0        1.0\n"
     ]
    }
   ],
   "source": [
    "#통계 정보 얻기\n",
    "\n",
    "import numpy as np\n",
    "import pandas as pd\n",
    "\n",
    "np.random.seed(0)\n",
    "columns = [\"apple\", \"orange\", \"banana\", \"strawberry\", \"kiwifruit\"]\n",
    "\n",
    "#DataFrame 생성, 열 추가\n",
    "df = pd.DataFrame()\n",
    "for column in columns:\n",
    "    df[column] = np.random.choice(range(1, 11), 10)\n",
    "df.index = range(1, 11)\n",
    "\n",
    "#df의 통계 정보 중 \"mean\", \"max\", \"min\"을 꺼내서 df_des에 대입\n",
    "df_des = df.describe().loc[[\"mean\", \"max\", \"min\"]]\n",
    "\n",
    "print(df_des)"
   ]
  },
  {
   "cell_type": "code",
   "execution_count": 12,
   "metadata": {},
   "outputs": [
    {
     "name": "stdout",
     "output_type": "stream",
     "text": [
      "    apple  orange  banana  strawberry  kiwifruit\n",
      "1       6       8       6           3         10\n",
      "2       1       7      10           4         10\n",
      "3       4       9       9           9          1\n",
      "4       4       9      10           2          5\n",
      "5       8       2       5           4          8\n",
      "6      10       7       4           4          4\n",
      "7       4       8       1           4          3\n",
      "8       6       8       4           8          8\n",
      "9       3       9       6           1          3\n",
      "10      5       2       1           2          1\n",
      "\n",
      "    apple  orange  banana  strawberry  kiwifruit\n",
      "1     2.0    -1.0    -3.0        -6.0        9.0\n",
      "2    -3.0    -2.0     0.0         2.0        5.0\n",
      "3    -4.0     7.0     4.0         5.0       -7.0\n",
      "4    -6.0     2.0     6.0        -2.0        1.0\n",
      "5     4.0    -6.0     4.0         0.0        5.0\n",
      "6     4.0    -1.0     0.0        -4.0       -4.0\n",
      "7     1.0    -1.0    -5.0         3.0        0.0\n",
      "8     1.0     6.0     3.0         6.0        7.0\n",
      "9     NaN     NaN     NaN         NaN        NaN\n",
      "10    NaN     NaN     NaN         NaN        NaN\n"
     ]
    }
   ],
   "source": [
    "#DataFrame의 행간 차이와 열간 차이\n",
    "\n",
    "import numpy as np\n",
    "import pandas as pd\n",
    "\n",
    "np.random.seed(0)\n",
    "columns = [\"apple\", \"orange\", \"banana\", \"strawberry\", \"kiwifruit\"]\n",
    "\n",
    "#DataFrame 생성, 열 추가\n",
    "df = pd.DataFrame()\n",
    "for column in columns:\n",
    "    df[column] = np.random.choice(range(1, 11), 10)\n",
    "df.index = range(1, 11)\n",
    "\n",
    "#df의 각 행에 대해 2행 뒤와의 차이를 계산한 DataFrame을 df_diff에 대입\n",
    "df_diff = df.diff(-2, axis=0)\n",
    "\n",
    "#df와 df_diff의 내용 비교, 처리 결과 확인\n",
    "print(df)\n",
    "print()\n",
    "print(df_diff)"
   ]
  },
  {
   "cell_type": "code",
   "execution_count": 14,
   "metadata": {},
   "outputs": [
    {
     "name": "stdout",
     "output_type": "stream",
     "text": [
      "  perfecture  Area  Population Region\n",
      "0         강릉  1040      213527    강원도\n",
      "1         광주   430     1458915    전라도\n",
      "2         평창  1463       42218    강원도\n",
      "3         대전   539     1476955    충청도\n",
      "4         단양   780       29816    충청도\n",
      "          Area  Population\n",
      "Region                    \n",
      "강원도     1251.5    127872.5\n",
      "전라도      430.0   1458915.0\n",
      "충청도      659.5    753385.5\n"
     ]
    }
   ],
   "source": [
    "#그룹화\n",
    "\n",
    "import pandas as pd\n",
    "\n",
    "#도시 정보를 가진 DataFrame 만들기\n",
    "prefecture_df = pd.DataFrame([[\"강릉\", 1040, 213527, \"강원도\"],\n",
    "                            [\"광주\", 430, 1458915, \"전라도\"],\n",
    "                            [\"평창\", 1463, 42218, \"강원도\"],\n",
    "                            [\"대전\", 539, 1476955, \"충청도\"],\n",
    "                            [\"단양\", 780, 29816, \"충청도\"]],\n",
    "                           columns=[\"perfecture\", \"Area\", \"Population\", \"Region\"])\n",
    "\n",
    "print(prefecture_df)\n",
    "\n",
    "#prefecture_df를 지역(Region)으로 그룹화하여 grouped_region에 대입\n",
    "grouped_region = prefecture_df.groupby(\"Region\")\n",
    "\n",
    "#prefecture_df의 지역별 면적(Area)과 인구(Population)의 평균을 mean_df에 대입\n",
    "mean_df = grouped_region.mean()\n",
    "\n",
    "print(mean_df)"
   ]
  },
  {
   "cell_type": "code",
   "execution_count": 16,
   "metadata": {},
   "outputs": [
    {
     "name": "stdout",
     "output_type": "stream",
     "text": [
      "430\n"
     ]
    }
   ],
   "source": [
    "#Pandas 기술을 활용하여 기초적인 데이터 처리해보기\n",
    "\n",
    "import pandas as pd\n",
    "\n",
    "#두 DataFrame 정의\n",
    "df1 = pd.DataFrame([[\"apple\", \"Fruit\", 120],\n",
    "                   [\"orange\", \"Fruit\", 60],\n",
    "                   [\"banana\", \"Fruit\", 100],\n",
    "                   [\"pumkin\", \"Vegetable\", 150],\n",
    "                   [\"potato\", \"Vegetable\", 80]],\n",
    "                  columns=[\"Name\", \"Type\", \"Price\"])\n",
    "\n",
    "df2 = pd.DataFrame([[\"onion\", \"Vegetable\", 60],\n",
    "                   [\"carrot\", \"Vegetable\", 50],\n",
    "                   [\"beans\", \"Vegetable\", 100],\n",
    "                   [\"grape\", \"Fruit\", 160],\n",
    "                   [\"kiwifruit\", \"Fruit\", 80]],\n",
    "                  columns=[\"Name\", \"Type\", \"Price\"])\n",
    "\n",
    "#df1과 df2 결합\n",
    "df3 = pd.concat([df1, df2], axis=0)\n",
    "\n",
    "#야채와 과일 각각 추출하여 Price로 정렬\n",
    "df_fruit = df3.loc[df3[\"Type\"]==\"Fruit\"]\n",
    "df_fruit = df_fruit.sort_values(by = \"Price\")\n",
    "\n",
    "df_veg = df3.loc[df3[\"Type\"]==\"Vegetable\"]\n",
    "df_veg = df_veg.sort_values(by=\"Price\")\n",
    "\n",
    "#야채와 과일을 저렴한 순으로 세개씩 선택하여 총액 계산\n",
    "print(sum(df_fruit[:3][\"Price\"])+sum(df_veg[:3][\"Price\"]))"
   ]
  },
  {
   "cell_type": "code",
   "execution_count": 17,
   "metadata": {},
   "outputs": [
    {
     "name": "stdout",
     "output_type": "stream",
     "text": [
      "    국어  수학  사회  과학  영어  체육\n",
      "광수  30  45  12  45  87  56\n",
      "민호  65  47  83  17  58  43\n",
      "소희  64  63  86  57  46  73\n",
      "태양  38  47  62  91  63  82\n",
      "영희  65  36  85  94  36  62\n",
      "\n",
      "    국어  수학  사회  과학  영어  체육\n",
      "영희  65  36  85  94  36  62\n",
      "광수  30  45  12  45  87  56\n",
      "민호  65  47  83  17  58  43\n",
      "태양  38  47  62  91  63  82\n",
      "소희  64  63  86  57  46  73\n",
      "\n",
      "    국어  수학  사회  과학  영어  체육\n",
      "영희  70  41  90  99  41  67\n",
      "광수  35  50  17  50  92  61\n",
      "민호  70  52  88  22  63  48\n",
      "태양  43  52  67  96  68  87\n",
      "소희  69  68  91  62  51  78\n",
      "\n",
      "        국어    수학    사회    과학    영어    체육\n",
      "mean  57.4  52.6  70.6  65.8  63.0  68.2\n",
      "max   70.0  68.0  91.0  99.0  92.0  87.0\n",
      "min   35.0  41.0  17.0  22.0  41.0  48.0\n"
     ]
    }
   ],
   "source": [
    "#종합 문제\n",
    "\n",
    "import pandas as pd\n",
    "\n",
    "index=[\"광수\", \"민호\", \"소희\", \"태양\", \"영희\"]\n",
    "columns = [\"국어\", \"수학\", \"사회\", \"과학\", \"영어\"]\n",
    "data = [[30, 45, 12, 45, 87],[65, 47, 83, 17, 58], [64, 63, 86, 57, 46],\n",
    "       [38, 47, 62, 91, 63], [65, 36, 85, 94, 36]]\n",
    "df = pd.DataFrame(data, index = index, columns=columns)\n",
    "\n",
    "#df에 \"체육\"이라는 새 열을 만들고 pe_column의 데이터 추가\n",
    "pe_column = pd.Series([56, 43, 73, 82, 62], index=[\"광수\", \"민호\", \"소희\", \"태양\", \"영희\"])\n",
    "df[\"체육\"]=pe_column\n",
    "print(df)\n",
    "print()\n",
    "\n",
    "#수학 오름차순 정렬\n",
    "df1 = df.sort_values(by=\"수학\", ascending=True)\n",
    "print(df1)\n",
    "print()\n",
    "\n",
    "#df1의 각 요소에 5점 더하기\n",
    "df2 = df1 + 5\n",
    "print(df2)\n",
    "print()\n",
    "\n",
    "#df의 통계 정보 중 \"mean\", \"max\", \"min\" 출력\n",
    "print(df2.describe().loc[[\"mean\", \"max\", \"min\"]])"
   ]
  }
 ],
 "metadata": {
  "kernelspec": {
   "display_name": "Python 3",
   "language": "python",
   "name": "python3"
  },
  "language_info": {
   "codemirror_mode": {
    "name": "ipython",
    "version": 3
   },
   "file_extension": ".py",
   "mimetype": "text/x-python",
   "name": "python",
   "nbconvert_exporter": "python",
   "pygments_lexer": "ipython3",
   "version": "3.8.5"
  }
 },
 "nbformat": 4,
 "nbformat_minor": 4
}
