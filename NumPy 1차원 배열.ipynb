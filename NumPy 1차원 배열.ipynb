{
 "cells": [
  {
   "cell_type": "code",
   "execution_count": 2,
   "metadata": {},
   "outputs": [
    {
     "name": "stdout",
     "output_type": "stream",
     "text": [
      "[24, 3, 4, 23, 10, 12]\n",
      "[24  3  4 23 10 12]\n",
      "<class 'numpy.ndarray'>\n"
     ]
    }
   ],
   "source": [
    "#import\n",
    "\n",
    "import numpy as np\n"
   ]
  },
  {
   "cell_type": "code",
   "execution_count": 3,
   "metadata": {},
   "outputs": [
    {
     "name": "stdout",
     "output_type": "stream",
     "text": [
      "[24, 3, 4, 23, 10, 12]\n",
      "[24  3  4 23 10 12]\n",
      "<class 'numpy.ndarray'>\n"
     ]
    }
   ],
   "source": [
    "import numpy as np\n",
    "\n",
    "#1차원 배열\n",
    "storages = [24, 3, 4, 23, 10, 12]\n",
    "print(storages)\n",
    "\n",
    "#ndarray 배열을 생성하여 변수 np_storages에 대입하기\n",
    "np_storages = np.array(storages)\n",
    "\n",
    "#변수 np_storages의 자료형 출력하기\n",
    "print(np_storages)\n",
    "print(type(np_storages))"
   ]
  },
  {
   "cell_type": "code",
   "execution_count": 5,
   "metadata": {},
   "outputs": [
    {
     "name": "stdout",
     "output_type": "stream",
     "text": [
      "[2, 4, 6, 8]\n",
      "[2 4 6 8]\n"
     ]
    }
   ],
   "source": [
    "storages = [1, 2, 3, 4]\n",
    "new_storages = []\n",
    "for n in storages:\n",
    "    n += n\n",
    "    new_storages.append(n)\n",
    "print(new_storages)\n",
    "\n",
    "#numpy를 사용하여 실행\n",
    "import numpy as np\n",
    "storages = np.array([1, 2, 3, 4])\n",
    "storages += storages\n",
    "print(storages)"
   ]
  },
  {
   "cell_type": "code",
   "execution_count": 11,
   "metadata": {},
   "outputs": [
    {
     "name": "stdout",
     "output_type": "stream",
     "text": [
      "arr + arr\n",
      "[ 4 10  6  8 16]\n",
      "arr - arr\n",
      "[0 0 0 0 0]\n",
      "arr ** arr\n",
      "[  8 125  27  64 512]\n",
      "1/arr\n",
      "[0.5        0.2        0.33333333 0.25       0.125     ]\n"
     ]
    }
   ],
   "source": [
    "import numpy as np\n",
    "arr = np.array([2, 5, 3, 4, 8])\n",
    "\n",
    "print('arr + arr')\n",
    "print(arr + arr)\n",
    "\n",
    "print('arr - arr')\n",
    "print(arr - arr)\n",
    "\n",
    "print('arr ** arr')\n",
    "print(arr**3)\n",
    "\n",
    "print('1/arr')\n",
    "print(1/arr)"
   ]
  },
  {
   "cell_type": "code",
   "execution_count": 13,
   "metadata": {},
   "outputs": [
    {
     "name": "stdout",
     "output_type": "stream",
     "text": [
      "[3 4 5]\n",
      "[ 1  1  1 24 24 24  6  7  8  9]\n"
     ]
    }
   ],
   "source": [
    "#인덱스 참조와 슬라이스\n",
    "arr = np.arange(10)\n",
    "arr = np.arange(10)\n",
    "arr[0:3] = 1\n",
    "print(arr[3:6])\n",
    "arr[3:6] = 24\n",
    "print(arr)"
   ]
  },
  {
   "cell_type": "code",
   "execution_count": 16,
   "metadata": {},
   "outputs": [
    {
     "name": "stdout",
     "output_type": "stream",
     "text": [
      "[1 2 3 4 5]\n",
      "[100   2   3   4   5]\n",
      "[1 2 3 4 5]\n",
      "[1 2 3 4 5]\n"
     ]
    }
   ],
   "source": [
    "#ndarray 사용시 주의사항\n",
    "import numpy as np\n",
    "\n",
    "#ndarray를 그대로 arr2 변수에 대입한 경우\n",
    "arr1 = np.array([1, 2, 3, 4, 5])\n",
    "print(arr1)\n",
    "\n",
    "arr2 = arr1\n",
    "arr2[0] = 100\n",
    "\n",
    "#arr2 변수를 변경하면 원래 변수(arr1)도 영향\n",
    "print(arr1)\n",
    "\n",
    "#ndarray를 copy()를 사용해 arr2 변수에 대입한 경우\n",
    "arr1 = np.array([1, 2, 3, 4, 5])\n",
    "print(arr1)\n",
    "\n",
    "arr2 = arr1.copy()\n",
    "arr2[0] = 100\n",
    "\n",
    "#arr2 변수를 변경해도 원래 변수(arr1)에 영향을 주지 않음\n",
    "print(arr1)"
   ]
  },
  {
   "cell_type": "code",
   "execution_count": 20,
   "metadata": {},
   "outputs": [
    {
     "name": "stdout",
     "output_type": "stream",
     "text": [
      "리스트형 데이터\n",
      "arr_list:  [0, 1, 2, 3, 4, 5, 6, 7, 8, 9]\n",
      "\n",
      "리스트의 슬라이스는 복사본이 생성되므로 arr_list에는 arr_list_copy의 변경이 반영되지 않는다.\n",
      "arr_list:  [100, 1, 2, 3, 4, 5, 6, 7, 8, 9]\n",
      "\n",
      "NumPy의 adarray 데이터다.\n",
      "arr_NumPy:  [0 1 2 3 4 5 6 7 8 9]\n",
      "\n",
      "NumPy의 슬라이스는 view(데이터가 저장된 위치의 정보)가 대입되므로 arr_NumPy_view를 변경하면 arr_NumPy에 반영된다.\n",
      "arr_NumPy:  [100   1   2   3   4   5   6   7   8   9]\n",
      "\n",
      "NumPy의 ndarray에서 copy()를 사용한 경우이다.\n",
      "arr_NumPy:  [0 1 2 3 4 5 6 7 8 9]\n",
      "\n",
      "copy()를 사용하면 복사본이 생성되기 때문에 arr_NumPy_copy는 arr_NumPy에 영향을 미치지 않는다.\n",
      "arr_NumPy:  [0 1 2 3 4 5 6 7 8 9]\n"
     ]
    }
   ],
   "source": [
    "#view와 copy\n",
    "import numpy as np\n",
    "\n",
    "#파이썬의 리스트에 슬라이스를 이용한 경우\n",
    "arr_list = [x for x in range(10)]\n",
    "print('리스트형 데이터')\n",
    "print('arr_list: ', arr_list)\n",
    "print()\n",
    "\n",
    "arr_list_copy = arr_list[:]\n",
    "arr_list_copy[0] = 100\n",
    "\n",
    "print('리스트의 슬라이스는 복사본이 생성되므로 arr_list에는 arr_list_copy의 변경이 반영되지 않는다.')\n",
    "print('arr_list: ', arr_list_copy)\n",
    "print()\n",
    "\n",
    "#numPy의 ndarray에 슬라이스를 이용한 경우\n",
    "arr_NumPy = np.arange(10)\n",
    "print('NumPy의 adarray 데이터다.')\n",
    "print('arr_NumPy: ', arr_NumPy)\n",
    "print()\n",
    "\n",
    "arr_NumPy_view = arr_NumPy[:]\n",
    "arr_NumPy_view[0] = 100\n",
    "\n",
    "print('NumPy의 슬라이스는 view(데이터가 저장된 위치의 정보)가 대입되므로 arr_NumPy_view를 변경하면 arr_NumPy에 반영된다.')\n",
    "print('arr_NumPy: ', arr_NumPy)\n",
    "print()\n",
    "\n",
    "#NumPy의 ndarray에서 copy()를 사용한 경우\n",
    "arr_NumPy = np.arange(10)\n",
    "print('NumPy의 ndarray에서 copy()를 사용한 경우이다.')\n",
    "print('arr_NumPy: ', arr_NumPy)\n",
    "print()\n",
    "\n",
    "arr_NumPy_copy = arr_NumPy[:].copy()\n",
    "arr_NumPy_copy[0] = 100\n",
    "\n",
    "print('copy()를 사용하면 복사본이 생성되기 때문에 arr_NumPy_copy는 arr_NumPy에 영향을 미치지 않는다.')\n",
    "print('arr_NumPy: ', arr_NumPy)"
   ]
  },
  {
   "cell_type": "code",
   "execution_count": 25,
   "metadata": {},
   "outputs": [
    {
     "name": "stdout",
     "output_type": "stream",
     "text": [
      "[2 4 6]\n",
      "[4 7]\n",
      "[ True False  True False  True False]\n",
      "[2 4 6]\n"
     ]
    }
   ],
   "source": [
    "#부울 인덱스 참조\n",
    "arr = np.array([2, 4, 6, 7])\n",
    "print(arr[np.array([True, True, True, False])])\n",
    "\n",
    "arr = np.array([2, 4, 6, 7])\n",
    "print(arr[arr % 3 == 1])\n",
    "\n",
    "\n",
    "import numpy as np\n",
    "arr = np.array([2, 3, 4, 5, 6, 7])\n",
    "\n",
    "#변수 arr의 각 요소가 2로 나누어떨어지는지 나타내는 부울 배열 출력\n",
    "print(arr % 2 == 0)\n",
    "\n",
    "#변수 arr의 각 요소 중 2로 나누어 떨어지는 요소의 배열 출력\n",
    "print(arr[arr % 2 == 0])"
   ]
  },
  {
   "cell_type": "code",
   "execution_count": 28,
   "metadata": {},
   "outputs": [
    {
     "name": "stdout",
     "output_type": "stream",
     "text": [
      "[ 4 -9 16 -4 20]\n",
      "[ 4  9 16  4 20]\n",
      "[5.45981500e+01 8.10308393e+03 8.88611052e+06 5.45981500e+01\n",
      " 4.85165195e+08]\n",
      "[2.         3.         4.         2.         4.47213595]\n"
     ]
    }
   ],
   "source": [
    "#범용 함수\n",
    "import numpy as np\n",
    "\n",
    "arr = np.array([4, -9, 16, -4, 20])\n",
    "print(arr)\n",
    "\n",
    "#변수  arr의 각 요소를 절댓값으로 하여 변수 arr_abs에 대입하기\n",
    "arr_abs = np.abs(arr)\n",
    "print(arr_abs)\n",
    "\n",
    "#변수 arr_abs의 각 요소의 e의 거듭제곱과 제곱근 출력\n",
    "print(np.exp(arr_abs))\n",
    "print(np.sqrt(arr_abs))"
   ]
  },
  {
   "cell_type": "code",
   "execution_count": 30,
   "metadata": {},
   "outputs": [
    {
     "name": "stdout",
     "output_type": "stream",
     "text": [
      "[2 5 7 9]\n",
      "[1 2 3 5 7 8 9]\n",
      "[2 5]\n",
      "[7 9]\n"
     ]
    }
   ],
   "source": [
    "#집합 함수\n",
    "import numpy as np\n",
    "\n",
    "arr1 = [2, 5, 7, 9, 5, 2]\n",
    "arr2 = [2, 5, 8, 3, 1]\n",
    "\n",
    "#np.unique() 함수를 사용하여 변수 arr1에서 중복을 제거한 배열을 변수 new_arr1에 대입\n",
    "new_arr1 = np.unique(arr1)\n",
    "print(new_arr1)\n",
    "\n",
    "#변수 new_arr1과 변수 arr2의 합집합 출력\n",
    "print(np.union1d(arr1, arr2))\n",
    "\n",
    "#변수 new_arr1가 변수 arr2의 교집합 출력\n",
    "print(np.intersect1d(arr1, arr2))\n",
    "\n",
    "#변수 new _arr1에서 변수 arr2를 뺀 차집합 출력\n",
    "print(np.setdiff1d(arr1, arr2))"
   ]
  },
  {
   "cell_type": "code",
   "execution_count": 31,
   "metadata": {},
   "outputs": [
    {
     "name": "stdout",
     "output_type": "stream",
     "text": [
      "[[ 6  5]\n",
      " [ 0 10]\n",
      " [ 1  0]\n",
      " [ 0  7]\n",
      " [ 2  7]]\n",
      "[0.4474624  0.41729216 0.41097008]\n"
     ]
    }
   ],
   "source": [
    "#난수\n",
    "\n",
    "import numpy as np\n",
    "\n",
    "#np.random을 적지 않아도 randint() 함수를 사용할 수 있도록 import\n",
    "from numpy.random import randint\n",
    "\n",
    "#변수 arr1에 각 요소가 0 이상 10 이하인 정수 행렬(5x2) 대입\n",
    "arr1 = randint(0, 11, (5, 2))\n",
    "print(arr1)\n",
    "\n",
    "#변수 arr2에 0 이상 1 미만의 난수 3개 생성해서 대입\n",
    "arr2 = np.random.rand(3)\n",
    "print(arr2)"
   ]
  }
 ],
 "metadata": {
  "kernelspec": {
   "display_name": "Python 3",
   "language": "python",
   "name": "python3"
  },
  "language_info": {
   "codemirror_mode": {
    "name": "ipython",
    "version": 3
   },
   "file_extension": ".py",
   "mimetype": "text/x-python",
   "name": "python",
   "nbconvert_exporter": "python",
   "pygments_lexer": "ipython3",
   "version": "3.8.5"
  }
 },
 "nbformat": 4,
 "nbformat_minor": 4
}
