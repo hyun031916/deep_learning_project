{
 "cells": [
  {
   "cell_type": "code",
   "execution_count": 1,
   "metadata": {},
   "outputs": [
    {
     "name": "stdout",
     "output_type": "stream",
     "text": [
      "bmi는 20.0610입니다.\n"
     ]
    }
   ],
   "source": [
    "#문자열형 메서드\n",
    "def bmi(height, weight):\n",
    "    return weight / height**2\n",
    "\n",
    "print('bmi는 %.4f입니다.' % bmi(1.61, 52))"
   ]
  },
  {
   "cell_type": "code",
   "execution_count": 2,
   "metadata": {},
   "outputs": [
    {
     "name": "stdout",
     "output_type": "stream",
     "text": [
      "5\n",
      "1\n"
     ]
    }
   ],
   "source": [
    "#object에서 character를 포함한 요소 수를 세는 함수\n",
    "def check_character(object, character):\n",
    "    return object.count(character)\n",
    "\n",
    "print(check_character([1, 3, 4, 5, 6, 4, 3, 2, 1, 3, 3, 4, 3], 3))\n",
    "print(check_character('asdgaoirnoiafvnwoeo', 'd'))"
   ]
  },
  {
   "cell_type": "code",
   "execution_count": 3,
   "metadata": {},
   "outputs": [
    {
     "name": "stdout",
     "output_type": "stream",
     "text": [
      "11은(는) 10번째에 있습니다.\n"
     ]
    }
   ],
   "source": [
    "#이진 검색 알고리즘을 이용하여 검색파는 프로그램\n",
    "def binary_search(numbers, target_number):\n",
    "    #최솟값 임시로 결정하기\n",
    "    low = 0\n",
    "    #범위 내의 최댓값\n",
    "    high = len(numbers)\n",
    "    #목적지 찾을 때까지 루프\n",
    "    while low <= high:\n",
    "        #중앙값 구하기(index)\n",
    "        middle = (low + high) //2\n",
    "        #numbers(검색 대상)의 중앙값과 target_number(찾는 값)가 동일한 경우\n",
    "        if numbers[middle] == target_number:\n",
    "            #출력\n",
    "            print('{1}은(는) {0}번째에 있습니다.'.format(middle, target_number))\n",
    "            #종료\n",
    "            break\n",
    "        #numbers의 중앙값이 target_number보다 작은 경우\n",
    "        elif numbers[middle] < target_number:\n",
    "            low = middle + 1\n",
    "        #numbers의 중앙값이 target_number보다 큰 경우\n",
    "        else:\n",
    "            high = middle -1\n",
    "\n",
    "#검색 대상 데이터\n",
    "numbers = [1, 2, 3, 4, 5, 6, 7, 8, 9, 10, 11, 12, 13]\n",
    "#찾을 값\n",
    "target_number = 11\n",
    "#바이너리 검색 실행\n",
    "binary_search(numbers, target_number)"
   ]
  },
  {
   "cell_type": "code",
   "execution_count": null,
   "metadata": {},
   "outputs": [],
   "source": []
  }
 ],
 "metadata": {
  "kernelspec": {
   "display_name": "Python 3",
   "language": "python",
   "name": "python3"
  },
  "language_info": {
   "codemirror_mode": {
    "name": "ipython",
    "version": 3
   },
   "file_extension": ".py",
   "mimetype": "text/x-python",
   "name": "python",
   "nbconvert_exporter": "python",
   "pygments_lexer": "ipython3",
   "version": "3.8.5"
  }
 },
 "nbformat": 4,
 "nbformat_minor": 4
}
