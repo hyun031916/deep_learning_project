{
 "cells": [
  {
   "cell_type": "code",
   "execution_count": 1,
   "metadata": {},
   "outputs": [
    {
     "name": "stdout",
     "output_type": "stream",
     "text": [
      "노래합니다\n"
     ]
    }
   ],
   "source": [
    "#함수 \n",
    "def sing():\n",
    "    print('노래합니다')\n",
    "sing()\n"
   ]
  },
  {
   "cell_type": "code",
   "execution_count": 4,
   "metadata": {},
   "outputs": [
    {
     "name": "stdout",
     "output_type": "stream",
     "text": [
      "김수현입니다\n"
     ]
    }
   ],
   "source": [
    "#인수\n",
    "def introduce(n):\n",
    "    print(n+\"입니다\")\n",
    "introduce('김수현')"
   ]
  },
  {
   "cell_type": "code",
   "execution_count": 7,
   "metadata": {},
   "outputs": [
    {
     "name": "stdout",
     "output_type": "stream",
     "text": [
      "성은김이고, 이름은수현입니다.\n"
     ]
    }
   ],
   "source": [
    "#인수의 초깃값\n",
    "def introduce(first='김', second='수현'):\n",
    "    print('성은'+ first +'이고, 이름은'+ second +'입니다.')\n",
    "introduce('김')"
   ]
  },
  {
   "cell_type": "code",
   "execution_count": 10,
   "metadata": {},
   "outputs": [
    {
     "name": "stdout",
     "output_type": "stream",
     "text": [
      "성은 김이고, 이름은 수현입니다.\n"
     ]
    }
   ],
   "source": [
    "#return(반환값)\n",
    "def introduce(first='김', second='수현'):\n",
    "    return '성은 '+ first +'이고, 이름은 '+ second +'입니다.'\n",
    "print(introduce('김', '수현'))"
   ]
  },
  {
   "cell_type": "code",
   "execution_count": 19,
   "metadata": {},
   "outputs": [
    {
     "name": "stdout",
     "output_type": "stream",
     "text": [
      "20.060954438486167\n"
     ]
    }
   ],
   "source": [
    "#bmi 계산하는 함수 구현\n",
    "def bmi(weight, height):\n",
    "    return weight / height**2\n",
    "print(bmi(52, 1.61))"
   ]
  },
  {
   "cell_type": "code",
   "execution_count": 20,
   "metadata": {},
   "outputs": [
    {
     "name": "stdout",
     "output_type": "stream",
     "text": [
      "1613483486.4465172\n"
     ]
    }
   ],
   "source": [
    "#함수 임포트\n",
    "import time\n",
    "now_time = time.time()\n",
    "print(now_time)"
   ]
  }
 ],
 "metadata": {
  "kernelspec": {
   "display_name": "Python 3",
   "language": "python",
   "name": "python3"
  },
  "language_info": {
   "codemirror_mode": {
    "name": "ipython",
    "version": 3
   },
   "file_extension": ".py",
   "mimetype": "text/x-python",
   "name": "python",
   "nbconvert_exporter": "python",
   "pygments_lexer": "ipython3",
   "version": "3.8.5"
  }
 },
 "nbformat": 4,
 "nbformat_minor": 4
}
