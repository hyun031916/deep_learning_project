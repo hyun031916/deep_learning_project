{
 "cells": [
  {
   "cell_type": "code",
   "execution_count": 4,
   "metadata": {},
   "outputs": [
    {
     "name": "stdout",
     "output_type": "stream",
     "text": [
      "   apple  orange  banana\n",
      "1     45      68      37\n",
      "2     48      10      88\n",
      "3     65      84      71\n",
      "4     68      22      89\n",
      "1     38      76      17\n",
      "2     13       6       2\n",
      "3     73      80      77\n",
      "4     10      65      72\n",
      "\n",
      "   apple  orange  banana  apple  orange  banana\n",
      "1     45      68      37     38      76      17\n",
      "2     48      10      88     13       6       2\n",
      "3     65      84      71     73      80      77\n",
      "4     68      22      89     10      65      72\n"
     ]
    }
   ],
   "source": [
    "#인덱스나 컬럼이 일치하는 DataFrame 간의 연결\n",
    "\n",
    "import numpy as np\n",
    "import pandas as pd\n",
    "\n",
    "#지정한 인덱스와 컬럼을 가진 DataFrame을 난수로 생성하는 함수\n",
    "def make_random_df(index, columns, seed):\n",
    "    np.random.seed(seed)\n",
    "    df = pd.DataFrame()\n",
    "    for column in columns:\n",
    "        df[column] = np.random.choice(range(1, 101), len(index))\n",
    "    df.index = index\n",
    "    return df\n",
    "\n",
    "#인덱스와 컬럼이 일치하는 DataFrame 만들기\n",
    "columns = [\"apple\", \"orange\", \"banana\"]\n",
    "df_data1 = make_random_df(range(1, 5), columns, 0)\n",
    "df_data2 = make_random_df(range(1, 5), columns, 1)\n",
    "\n",
    "#df_data1과 df_data2를 세로로 연결하여 df1에 대입\n",
    "df1 = pd.concat([df_data1, df_data2], axis=0)\n",
    "\n",
    "#df_data1과 df_data2를 가로로 연결하여 df2에 대입\n",
    "df2 = pd.concat([df_data1, df_data2], axis=1)\n",
    "\n",
    "print(df1)\n",
    "print()\n",
    "print(df2)"
   ]
  },
  {
   "cell_type": "code",
   "execution_count": null,
   "metadata": {},
   "outputs": [],
   "source": [
    "#인덱스나 컬럼이 일치하지 않는 DataFrame 간의 연결\n",
    "import numpy as np\n",
    "import pandas as pd\n",
    "\n",
    "#지정한 인덱스와 컬럼을 가진 DataFrame을 난수로 생성하는 함수\n",
    "def make_random_df(index, columns, seed):\n",
    "    np.random.seed(seed)\n",
    "    df = pd.DataFrame()\n",
    "    for column in columns:\n",
    "        df[column] = np.random.choice(range(1, 101), len(index))\n",
    "    df.index = index\n",
    "    return df\n",
    "\n",
    "columns1 = [\"apple\", \"orange\", \"banana\"]\n",
    "columns2 = [\"orange\", \"kiwifruit\", \"banana\"]\n",
    "\n",
    "#인덱스가 1, 2, 3, 4고, 컬럼이 columns1인 DataFrame 만들기\n",
    "df_data1 = make_random_df(rnage(1, 5), columns1, 0)\n",
    "\n",
    "#인덱스가 1, 3, 5, 7이고, 컬럼이 columns2인 DataFrame 만들기\n",
    "df_data2 = make_random_df(np.arange(1, 8, 2), columns2, 1)\n",
    "\n",
    "#df_data1과 df_data2를 세로로 연결하여 df1에 대입\n",
    "df1 = \n",
    "\n",
    "#df_data1과 df_data2를 가로로 연결하여 df2에 대입"
   ]
  }
 ],
 "metadata": {
  "kernelspec": {
   "display_name": "Python 3",
   "language": "python",
   "name": "python3"
  },
  "language_info": {
   "codemirror_mode": {
    "name": "ipython",
    "version": 3
   },
   "file_extension": ".py",
   "mimetype": "text/x-python",
   "name": "python",
   "nbconvert_exporter": "python",
   "pygments_lexer": "ipython3",
   "version": "3.8.5"
  }
 },
 "nbformat": 4,
 "nbformat_minor": 4
}
