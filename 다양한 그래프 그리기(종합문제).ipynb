{
 "cells": [
  {
   "cell_type": "code",
   "execution_count": 14,
   "metadata": {},
   "outputs": [
    {
     "name": "stdout",
     "output_type": "stream",
     "text": [
      "원주율: 0.040000\n",
      "실행 시간: 0.003416\n"
     ]
    },
    {
     "data": {
      "image/png": "[encoded data removed]",
      "text/plain": [
       "<Figure size 360x360 with 1 Axes>"
      ]
     },
     "metadata": {
      "needs_background": "light"
     },
     "output_type": "display_data"
    },
    {
     "ename": "AttributeError",
     "evalue": "'float' object has no attribute 'perf_counter'",
     "output_type": "error",
     "traceback": [
      "\u001b[1;31m---------------------------------------------------------------------------\u001b[0m",
      "\u001b[1;31mAttributeError\u001b[0m                            Traceback (most recent call last)",
      "\u001b[1;32m<ipython-input-14-cfaef3ec4a2c>\u001b[0m in \u001b[0;36m<module>\u001b[1;34m\u001b[0m\n\u001b[0;32m     52\u001b[0m \u001b[1;33m\u001b[0m\u001b[0m\n\u001b[0;32m     53\u001b[0m     \u001b[1;31m#몬테카를로 방법의 실행 시간 계산\u001b[0m\u001b[1;33m\u001b[0m\u001b[1;33m\u001b[0m\u001b[1;33m\u001b[0m\u001b[0m\n\u001b[1;32m---> 54\u001b[1;33m     \u001b[0mend_time\u001b[0m \u001b[1;33m=\u001b[0m \u001b[0mtime\u001b[0m\u001b[1;33m.\u001b[0m\u001b[0mperf_counter\u001b[0m\u001b[1;33m(\u001b[0m\u001b[1;33m)\u001b[0m\u001b[1;33m\u001b[0m\u001b[1;33m\u001b[0m\u001b[0m\n\u001b[0m\u001b[0;32m     55\u001b[0m     \u001b[0mtime\u001b[0m \u001b[1;33m=\u001b[0m \u001b[0mend_time\u001b[0m \u001b[1;33m-\u001b[0m \u001b[0mstart_time\u001b[0m\u001b[1;33m\u001b[0m\u001b[1;33m\u001b[0m\u001b[0m\n\u001b[0;32m     56\u001b[0m \u001b[1;33m\u001b[0m\u001b[0m\n",
      "\u001b[1;31mAttributeError\u001b[0m: 'float' object has no attribute 'perf_counter'"
     ]
    },
    {
     "data": {
      "image/png": "[encoded data removed]",
      "text/plain": [
       "<Figure size 432x288 with 1 Axes>"
      ]
     },
     "metadata": {
      "needs_background": "light"
     },
     "output_type": "display_data"
    }
   ],
   "source": [
    "# 몬테카를로 방법(Monte Carlo method)에 의한 원주율 추정 실시\n",
    "# : 난수를 이용하여 값을 예측하는 방법\n",
    "    \n",
    "# 1X1 정사각형 내에 임의의 점을 찍는다. 원점에서 거리가 1이하면 1포인트 추가, 1보다 크면 0포인트 추가. \n",
    "# 이 작업을 N번(N은 스스로 결정)반복한다. \n",
    "# 총 획득 포인트를 X라고 할 때 4X/N가 원주율의 근삿값이 되므로 몬테카를로 방법으로 원주율 추정 가능\n",
    "\n",
    "import matplotlib.pyplot as plt\n",
    "import numpy as np\n",
    "import math\n",
    "import time\n",
    "\n",
    "%matplotlib inline\n",
    "\n",
    "np.random.seed(100)\n",
    "\n",
    "X = 0 #원 안에 들어간 횟수\n",
    "\n",
    "#시도 횟수 N 지정\n",
    "N = 100\n",
    "\n",
    "#사분면 경계의 방정식[y=√(1-x^2)(0<=x<=1)] 그리기\n",
    "circle_x = np.arange(0, 1, 0.001)\n",
    "circle_y = np.sqrt(1-circle_x * circle_x)\n",
    "plt.figure(figsize=(5, 5))\n",
    "plt.plot(circle_x, circle_y)\n",
    "\n",
    "#N번 시도에 걸리는 시간 측정\n",
    "start_time = time.perf_counter()\n",
    "\n",
    "#N번 시도\n",
    "for i in range(0, N):\n",
    "    #0에서 1 사이의 균등 난수 생성하여 변수 score_x에 저장\n",
    "    score_x = np.random.rand()\n",
    "    \n",
    "    #0에서 1 사이의 균등 난수 생성하여 변수 score_y에 저장\n",
    "    score_y = np.random.rand()\n",
    "    \n",
    "    #점이 원 안에 들어간 경우와 들어가지 않은 경우 조건 분기 하기\n",
    "    if score_x*score_x + score_y*score_y < 1:\n",
    "        \n",
    "        #원 안에 들어가면 검은색으로, 들어가지 않으면 파란색으로 표시\n",
    "        plt.scatter(score_x, score_y, marker=\"o\", color=\"k\")\n",
    "        \n",
    "        #원 안에 들어갔다면 위에서 정한 변수 X에 1포인트 더하기\n",
    "        X = X + 1\n",
    "    else:\n",
    "        plt.scatter(score_x, score_y, marker=\"o\", color=\"b\")\n",
    "    \n",
    "    #pi의 근삿값 계산\n",
    "    pi = 4*float(X)/float(N)\n",
    "    \n",
    "    #몬테카를로 방법의 실행 시간 계산\n",
    "    end_time = time.perf_counter()\n",
    "    time = end_time - start_time\n",
    "    \n",
    "    #원주율의 결과 표시\n",
    "    print(\"원주율: %.6f\"% pi)\n",
    "    \n",
    "    print(\"실행 시간: %f\"% (time))\n",
    "    \n",
    "    plt.grid(True)\n",
    "    plt.xlabel('X')\n",
    "    plt.ylabel('Y')\n",
    "    plt.show()"
   ]
  },
  {
   "cell_type": "code",
   "execution_count": null,
   "metadata": {},
   "outputs": [],
   "source": []
  },
  {
   "cell_type": "code",
   "execution_count": null,
   "metadata": {},
   "outputs": [],
   "source": []
  },
  {
   "cell_type": "code",
   "execution_count": null,
   "metadata": {},
   "outputs": [],
   "source": []
  },
  {
   "cell_type": "code",
   "execution_count": null,
   "metadata": {},
   "outputs": [],
   "source": []
  },
  {
   "cell_type": "code",
   "execution_count": null,
   "metadata": {},
   "outputs": [],
   "source": []
  },
  {
   "cell_type": "code",
   "execution_count": null,
   "metadata": {},
   "outputs": [],
   "source": []
  },
  {
   "cell_type": "code",
   "execution_count": null,
   "metadata": {},
   "outputs": [],
   "source": []
  },
  {
   "cell_type": "code",
   "execution_count": null,
   "metadata": {},
   "outputs": [],
   "source": []
  },
  {
   "cell_type": "code",
   "execution_count": null,
   "metadata": {},
   "outputs": [],
   "source": []
  },
  {
   "cell_type": "code",
   "execution_count": null,
   "metadata": {},
   "outputs": [],
   "source": []
  },
  {
   "cell_type": "code",
   "execution_count": null,
   "metadata": {},
   "outputs": [],
   "source": []
  },
  {
   "cell_type": "code",
   "execution_count": null,
   "metadata": {},
   "outputs": [],
   "source": []
  },
  {
   "cell_type": "code",
   "execution_count": null,
   "metadata": {},
   "outputs": [],
   "source": []
  },
  {
   "cell_type": "code",
   "execution_count": null,
   "metadata": {},
   "outputs": [],
   "source": []
  }
 ],
 "metadata": {
  "kernelspec": {
   "display_name": "Python 3",
   "language": "python",
   "name": "python3"
  },
  "language_info": {
   "codemirror_mode": {
    "name": "ipython",
    "version": 3
   },
   "file_extension": ".py",
   "mimetype": "text/x-python",
   "name": "python",
   "nbconvert_exporter": "python",
   "pygments_lexer": "ipython3",
   "version": "3.8.5"
  }
 },
 "nbformat": 4,
 "nbformat_minor": 4
}
