{
 "cells": [
  {
   "cell_type": "code",
   "execution_count": 1,
   "metadata": {},
   "outputs": [
    {
     "name": "stdout",
     "output_type": "stream",
     "text": [
      "[[1 2 3 4]\n",
      " [5 6 7 8]]\n",
      "(2, 4)\n",
      "[[1 2]\n",
      " [3 4]\n",
      " [5 6]\n",
      " [7 8]]\n"
     ]
    }
   ],
   "source": [
    "#2차원 배열\n",
    "import numpy as np\n",
    "\n",
    "#변수 arr에 2차원 배열 대입\n",
    "arr = np.array([[1, 2, 3, 4], [5, 6, 7, 8]])\n",
    "print(arr)\n",
    "\n",
    "#변수 arr 행렬의 각 차원의 요소 수 출력\n",
    "print(arr.shape)\n",
    "\n",
    "#변수 arr을 4행 2열 행렬로 변환\n",
    "print(arr.reshape(4, 2))"
   ]
  },
  {
   "cell_type": "code",
   "execution_count": 5,
   "metadata": {},
   "outputs": [
    {
     "name": "stdout",
     "output_type": "stream",
     "text": [
      "6\n",
      "[5 6]\n",
      "[[1 2 3]\n",
      " [4 5 6]\n",
      " [7 8 9]]\n",
      "3\n",
      "[7 8 9]\n"
     ]
    }
   ],
   "source": [
    "#인덱스 참조와 슬라이스\n",
    "arr = np.array([[1, 2, 3], [4, 5, 6]])\n",
    "print(arr[1, 2])\n",
    "\n",
    "arr = np.array([[1, 2, 3], [4, 5, 6]])\n",
    "print(arr[1, 1:])\n",
    "\n",
    "\n",
    "import numpy as np\n",
    "\n",
    "arr = np.array([[1, 2, 3], [4, 5, 6], [7, 8, 9]])\n",
    "print(arr)\n",
    "\n",
    "#변수 arr의 요소중 3 출력\n",
    "print(arr[0, 2])\n",
    "\n",
    "#변수 arr에서 부분적으로 요소 추출해서 출력\n",
    "print(arr[2, :])"
   ]
  },
  {
   "cell_type": "code",
   "execution_count": 7,
   "metadata": {},
   "outputs": [
    {
     "name": "stdout",
     "output_type": "stream",
     "text": [
      "21\n",
      "[5 7 9]\n",
      "[ 6 15]\n",
      "[ 6 21 57]\n"
     ]
    }
   ],
   "source": [
    "#axis(좌표축)\n",
    "arr = np.array([[1, 2, 3], [4, 5, 6]])\n",
    "print(arr.sum())\n",
    "print(arr.sum(axis = 0))\n",
    "print(arr.sum(axis = 1))\n",
    "\n",
    "#arr의 행의 합 구하여 1차원 배열로 반환하기\n",
    "import numpy as np\n",
    "\n",
    "arr = np.array([[1, 2, 3], [4, 5, 12], [15, 20, 22]])\n",
    "\n",
    "#arr행의 합 구하여 문제에서 제시한 1차원 배열 반환\n",
    "print(arr.sum(axis = 1))"
   ]
  },
  {
   "cell_type": "code",
   "execution_count": 10,
   "metadata": {},
   "outputs": [
    {
     "name": "stdout",
     "output_type": "stream",
     "text": [
      "[[7 8]\n",
      " [5 6]\n",
      " [1 2]]\n"
     ]
    }
   ],
   "source": [
    "#팬시 인덱스 참조\n",
    "arr = np.array([[1, 2], [3, 4], [5, 6], [7, 8]])\n",
    "\n",
    "#3행, 2행, 0행을 순서대로 추출하여 새로운 요소 만들기\n",
    "#인덱스 번호는 0부터 시작합니다.\n",
    "print(arr[[3, 2, 0]])\n",
    "\n",
    "#팬시 인덱스 참조를 사용해여 변수 arr의 2행, 4행, 1행 순서로 배열 출력\n",
    "import numpy as np\n",
    "\n",
    "arr = np.arange(25).reshape(5, 5)\n",
    "\n",
    "#변수 arr의 행의 순서 변경하여 출력\n",
    "print(arr[[1, 3, 0]])"
   ]
  },
  {
   "cell_type": "code",
   "execution_count": 11,
   "metadata": {},
   "outputs": [
    {
     "name": "stdout",
     "output_type": "stream",
     "text": [
      "[[0 5]\n",
      " [1 6]\n",
      " [2 7]\n",
      " [3 8]\n",
      " [4 9]]\n"
     ]
    }
   ],
   "source": [
    "#전치 행렬\n",
    "import numpy as np\n",
    "\n",
    "arr = np.arange(10).reshape(2, 5)\n",
    "\n",
    "#변수 arr을 전치하여 출력\n",
    "print(np.transpose(arr))"
   ]
  },
  {
   "cell_type": "code",
   "execution_count": 15,
   "metadata": {},
   "outputs": [
    {
     "name": "stdout",
     "output_type": "stream",
     "text": [
      "[15 30  5]\n",
      "[[2 1 0]\n",
      " [2 0 1]]\n",
      "[[2 4 8]\n",
      " [1 3 5]]\n",
      "[[2 4 8]\n",
      " [1 3 5]]\n"
     ]
    }
   ],
   "source": [
    "#정렬\n",
    "arr = np.array([15, 30, 5])\n",
    "arr.argsort()\n",
    "\n",
    "print(arr)\n",
    "\n",
    "import numpy as np\n",
    "\n",
    "arr = np.array([[8, 4, 2], [3, 5, 1]])\n",
    "\n",
    "#argsort() 메서드로 정렬\n",
    "print(arr.argsort())\n",
    "\n",
    "#np.sort() 함수로 정렬\n",
    "print(np.sort(arr))\n",
    "\n",
    "#sort() 메서드로 행 정렬\n",
    "arr.sort(1)\n",
    "\n",
    "print(arr)"
   ]
  },
  {
   "cell_type": "code",
   "execution_count": 16,
   "metadata": {},
   "outputs": [
    {
     "name": "stdout",
     "output_type": "stream",
     "text": [
      "[[ 15  18  21]\n",
      " [ 42  54  66]\n",
      " [ 69  90 111]]\n",
      "14.2828568570857\n"
     ]
    }
   ],
   "source": [
    "#행렬 계산\n",
    "\n",
    "import numpy as np\n",
    "\n",
    "#arr정의\n",
    "arr = np.arange(9).reshape(3, 3)\n",
    "\n",
    "#변수 arr과 arr의 행렬곱 출력\n",
    "print(np.dot(arr, arr))\n",
    "\n",
    "#vec 정의\n",
    "vec = arr.reshape(9)\n",
    "\n",
    "#변수 vec의 노름 출력\n",
    "print(np.linalg.norm(vec))"
   ]
  },
  {
   "cell_type": "code",
   "execution_count": 18,
   "metadata": {},
   "outputs": [
    {
     "name": "stdout",
     "output_type": "stream",
     "text": [
      "[5. 6. 7. 8. 9.]\n",
      "0\n",
      "[2 2 2 2 2]\n"
     ]
    }
   ],
   "source": [
    "#통계 함수\n",
    "\n",
    "import numpy as np\n",
    "\n",
    "arr = np.arange(15).reshape(3, 5);\n",
    "\n",
    "#변수 arr의 각 열의 평균\n",
    "print(arr.mean(axis= 0))\n",
    "\n",
    "#변수 arr의 행 합계\n",
    "print(arr.min())\n",
    "\n",
    "#변수 arr의 각 열의 최댓값과 인덱스 번호\n",
    "print(arr.argmax(axis = 0))"
   ]
  },
  {
   "cell_type": "code",
   "execution_count": 5,
   "metadata": {},
   "outputs": [
    {
     "name": "stdout",
     "output_type": "stream",
     "text": [
      "[[1 2 3]\n",
      " [4 5 6]]\n",
      "[[ 0  0  0  0  0]\n",
      " [ 5  5  5  5  5]\n",
      " [10 10 10 10 10]]\n"
     ]
    }
   ],
   "source": [
    "#브로드캐스트\n",
    "\n",
    "import numpy as np\n",
    "x = np.arange(6).reshape(2, 3)\n",
    "print(x+1)\n",
    "\n",
    "import numpy as np\n",
    "\n",
    "#0에서 14 사이의 정숫값을 갖는 3x5의 ndarray 배열 x 생성\n",
    "x = np.arange(15).reshape(3, 5)\n",
    "\n",
    "#0에서 4사이의 정숫값을 갖는 1X5의 ndarray 배열 y 생성\n",
    "y = np.array([np.arange(5)])\n",
    "\n",
    "#x에서 y 뺀 값을 z에 대입\n",
    "z = x-y\n",
    "\n",
    "print(z)"
   ]
  },
  {
   "cell_type": "code",
   "execution_count": 8,
   "metadata": {},
   "outputs": [
    {
     "name": "stdout",
     "output_type": "stream",
     "text": [
      "[[ 8 24  3]\n",
      " [ 7 23 15]\n",
      " [16 10 30]\n",
      " [20  2 21]\n",
      " [ 2  2 14]]\n",
      "[[ 8  7 16 20  2]\n",
      " [24 23 10  2  2]\n",
      " [ 3 15 30 21 14]]\n",
      "[[ 7 16 20]\n",
      " [23 10  2]\n",
      " [15 30 21]]\n",
      "[[ 7 10  2]\n",
      " [15 16 20]\n",
      " [23 30 21]]\n",
      "[15.         18.66666667 14.33333333]\n"
     ]
    }
   ],
   "source": [
    "#NumPy 기본 문제\n",
    "\n",
    "import numpy as np\n",
    "\n",
    "np.random.seed(100)\n",
    "\n",
    "#각 요소가 0~30인 정수 행렬(5x3)을 변수 arr에 대입\n",
    "arr = np.random.randint(0, 31,(5, 3))\n",
    "print(arr)\n",
    "\n",
    "#arr 전치\n",
    "arr = arr.T\n",
    "print(arr)\n",
    "\n",
    "#변수 arr의 2, 3, 4열만 추출한 행렬(3x3)을 변수 arr1에 대입\n",
    "arr1 = arr[:, 1:4]\n",
    "print(arr1)\n",
    "\n",
    "#arr1 행 정렬\n",
    "arr1.sort(0)\n",
    "print(arr1)\n",
    "\n",
    "#각 열의 평균 출력\n",
    "print(arr1.mean(axis=0))\n",
    "\n"
   ]
  },
  {
   "cell_type": "code",
   "execution_count": 9,
   "metadata": {},
   "outputs": [
    {
     "name": "stdout",
     "output_type": "stream",
     "text": [
      "[[4 5 0]\n",
      " [3 3 3]\n",
      " [1 3 5]]\n",
      "\n",
      "[[4 5 0]\n",
      " [3 3 3]\n",
      " [0 5 5]]\n",
      "\n",
      "[[ 0  0  0]\n",
      " [ 0  0  0]\n",
      " [ 1 -2  0]]\n",
      "\n",
      "[[0 0 0]\n",
      " [0 0 0]\n",
      " [1 2 0]]\n"
     ]
    }
   ],
   "source": [
    "#종합 문제\n",
    "#numpy를 이용하여 두 이미지의 차이 계산\n",
    "#(0~5 사이의 정수를 색으로 가정), 이미지는 2차원 데이터라서 행렬로 나타낼 수 있음\n",
    "\n",
    "import numpy as np\n",
    "\n",
    "#난수 초기화\n",
    "np.random.seed(0)\n",
    "\n",
    "#가로세로 크기 전달하면 해당 크기의 이미지를 난수로 채워서 생성하는 함수\n",
    "def make_image(m, n):\n",
    "    #nXm 행렬의 각 성분을 0~5의 난수로 채우기\n",
    "    image = np.random.randint(0, 6, (m, n))\n",
    "    return image\n",
    "\n",
    "#전달된 행렬의 일부를 변경하는 함수\n",
    "def change_little(matrix):\n",
    "    #전달받은 행렬의 형태(크기)를 취득하여 shape에 대입\n",
    "    shape = matrix.shape\n",
    "    \n",
    "    #행렬의 각 성분에 대해 변경 여부를 무작위로 결정한 다음\n",
    "    #변경할 때는 0~5 사이의 정수로 임의 교체\n",
    "    for i in range(shape[0]):\n",
    "        for j in range(shape[1]):\n",
    "            if np.random.randint(0, 2)==1:\n",
    "                matrix[i][j] = np.random.randint(0, 6, 1)\n",
    "    return matrix\n",
    "\n",
    "#임의의 이미지 만들기\n",
    "image1 = make_image(3, 3)\n",
    "print(image1)\n",
    "print()\n",
    "\n",
    "#임의의 변경사항 적용\n",
    "image2 = change_little(np.copy(image1))\n",
    "print(image2)\n",
    "print()\n",
    "\n",
    "#image1과 image2의 차이 계산 후, image3에 대입\n",
    "image3 = image1 - image2\n",
    "print(image3)\n",
    "print()\n",
    "\n",
    "#image3의 각 성분을 절댓값으로 한 행렬을 image3에 다시 대입\n",
    "image3 = np.abs(image3)\n",
    "\n",
    "#image3 출력\n",
    "print(image3)"
   ]
  }
 ],
 "metadata": {
  "kernelspec": {
   "display_name": "Python 3",
   "language": "python",
   "name": "python3"
  },
  "language_info": {
   "codemirror_mode": {
    "name": "ipython",
    "version": 3
   },
   "file_extension": ".py",
   "mimetype": "text/x-python",
   "name": "python",
   "nbconvert_exporter": "python",
   "pygments_lexer": "ipython3",
   "version": "3.8.5"
  }
 },
 "nbformat": 4,
 "nbformat_minor": 4
}
