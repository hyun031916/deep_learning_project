{
 "cells": [
  {
   "cell_type": "code",
   "execution_count": 19,
   "metadata": {},
   "outputs": [
    {
     "name": "stdout",
     "output_type": "stream",
     "text": [
      "[0.86666667 0.96666667 0.83333333 0.96666667 0.93333333]\n",
      "평균 점수 :  0.9133333333333334\n"
     ]
    }
   ],
   "source": [
    "from sklearn import svm, datasets\n",
    "from sklearn.model_selection import cross_val_score\n",
    "\n",
    "\n",
    "#Iris 데이터셋을 읽어 들인다.\n",
    "iris = datasets.load_iris()\n",
    "X = iris.data\n",
    "y = iris.target\n",
    "\n",
    "#머신러닝 알고리즘 SVM 사용한다.\n",
    "svc = svm.SVC(C=1, kernel='rbf', gamma = 0.001)\n",
    "\n",
    "#교차검증을 이용하여 점수를 구한다.\n",
    "#내부에서는 X, y가 각각 X_train, X_test, y_train, y_test로 분할 처리된다.\n",
    "scores = cross_val_score(svc, X, y, cv = 5)\n",
    "\n",
    "#훈련 데이터와 테스트 데이터의 크기를 확인한다.\n",
    "print(scores)\n",
    "print('평균 점수 : ', scores.mean())"
   ]
  }
 ],
 "metadata": {
  "kernelspec": {
   "display_name": "Python 3",
   "language": "python",
   "name": "python3"
  },
  "language_info": {
   "codemirror_mode": {
    "name": "ipython",
    "version": 3
   },
   "file_extension": ".py",
   "mimetype": "text/x-python",
   "name": "python",
   "nbconvert_exporter": "python",
   "pygments_lexer": "ipython3",
   "version": "3.8.5"
  }
 },
 "nbformat": 4,
 "nbformat_minor": 4
}
