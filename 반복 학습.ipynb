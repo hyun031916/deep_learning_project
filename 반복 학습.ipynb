{
 "cells": [
  {
   "cell_type": "code",
   "execution_count": 2,
   "metadata": {},
   "outputs": [
    {
     "name": "stdout",
     "output_type": "stream",
     "text": [
      "Epoch 1/10\n",
      "47/47 [==============================] - 3s 29ms/step - loss: 2.1496 - acc: 0.2906 - val_loss: 1.6874 - val_acc: 0.4955\n",
      "Epoch 2/10\n",
      "47/47 [==============================] - 1s 15ms/step - loss: 1.5058 - acc: 0.6292 - val_loss: 1.3179 - val_acc: 0.6077\n",
      "Epoch 3/10\n",
      "47/47 [==============================] - 1s 14ms/step - loss: 1.0810 - acc: 0.7729 - val_loss: 1.0373 - val_acc: 0.7118\n",
      "Epoch 4/10\n",
      "47/47 [==============================] - 1s 13ms/step - loss: 0.8961 - acc: 0.7787 - val_loss: 0.9519 - val_acc: 0.7148\n",
      "Epoch 5/10\n",
      "47/47 [==============================] - 1s 14ms/step - loss: 0.7869 - acc: 0.8216 - val_loss: 0.8767 - val_acc: 0.7535\n",
      "Epoch 6/10\n",
      "47/47 [==============================] - 1s 14ms/step - loss: 0.7122 - acc: 0.8332 - val_loss: 0.7746 - val_acc: 0.7810\n",
      "Epoch 7/10\n",
      "47/47 [==============================] - 1s 15ms/step - loss: 0.6301 - acc: 0.8585 - val_loss: 0.7474 - val_acc: 0.7828\n",
      "Epoch 8/10\n",
      "47/47 [==============================] - 1s 14ms/step - loss: 0.5927 - acc: 0.8558 - val_loss: 0.7521 - val_acc: 0.7625\n",
      "Epoch 9/10\n",
      "47/47 [==============================] - 1s 15ms/step - loss: 0.6052 - acc: 0.8503 - val_loss: 0.7150 - val_acc: 0.7935\n",
      "Epoch 10/10\n",
      "47/47 [==============================] - 1s 12ms/step - loss: 0.5460 - acc: 0.8616 - val_loss: 0.7271 - val_acc: 0.7910\n"
     ]
    },
    {
     "data": {
      "image/png": "[encoded data removed]",
      "text/plain": [
       "<Figure size 432x288 with 1 Axes>"
      ]
     },
     "metadata": {
      "needs_background": "light"
     },
     "output_type": "display_data"
    },
    {
     "name": "stdout",
     "output_type": "stream",
     "text": [
      "evaluate loss: 0.7271382808685303\n",
      "evaluate acc: 0.7910000085830688\n"
     ]
    }
   ],
   "source": [
    "import numpy as np\n",
    "import matplotlib.pyplot as plt\n",
    "from tensorflow.keras.datasets import mnist\n",
    "from tensorflow.keras.layers import Activation, Dense, Dropout\n",
    "from tensorflow.keras.models import Sequential, load_model\n",
    "from tensorflow.keras import optimizers\n",
    "from keras.utils.np_utils import to_categorical\n",
    "\n",
    "(X_train, y_train), (X_test, y_test) = mnist.load_data()\n",
    "\n",
    "X_train = X_train.reshape(X_train.shape[0], 784)[:1500]\n",
    "X_test = X_test.reshape(X_test.shape[0], 784)[:6000]\n",
    "y_train = to_categorical(y_train)[:1500]\n",
    "y_test = to_categorical(y_test)[:6000]\n",
    "\n",
    "model = Sequential()\n",
    "model.add(Dense(256, input_dim=784))\n",
    "model.add(Activation(\"sigmoid\"))\n",
    "model.add(Dense(128))\n",
    "model.add(Activation(\"sigmoid\"))\n",
    "# 여기서는 dropout 사용 X\n",
    "# model.add(Dropout(rate=0.5))\n",
    "model.add(Dense(10))\n",
    "model.add(Activation(\"softmax\"))\n",
    "\n",
    "sgd = optimizers.SGD(lr=0.1)\n",
    "\n",
    "model.compile(optimizer=sgd, loss=\"categorical_crossentropy\", metrics=[\"acc\"])\n",
    "\n",
    "def funA():\n",
    "    global epochs\n",
    "    epochs = 5\n",
    "\n",
    "def funB():\n",
    "    global epochs\n",
    "    epochs = 10\n",
    "    \n",
    "def funC():\n",
    "    global epochs\n",
    "    epochs = 60\n",
    "    \n",
    "#funA()\n",
    "funB()\n",
    "# funcC()\n",
    "\n",
    "history = model.fit(X_train, y_train, batch_size=32, epochs=epochs, verbose=1, validation_data=(X_test, y_test))\n",
    "\n",
    "#acc와 val_acc 플롯\n",
    "plt.plot(history.history[\"acc\"], label=\"acc\", ls=\"-\", marker=\"o\")\n",
    "plt.plot(history.history[\"val_acc\"], label=\"val_acc\", ls=\"-\", marker=\"x\")\n",
    "plt.ylabel(\"accuracy\")\n",
    "plt.xlabel(\"epoch\")\n",
    "plt.legend(loc=\"best\")\n",
    "plt.show()\n",
    "\n",
    "score = model.evaluate(X_test, y_test, verbose=0)\n",
    "print(\"evaluate loss: {0[0]}\\nevaluate acc: {0[1]}\".format(score))"
   ]
  },
  {
   "cell_type": "code",
   "execution_count": null,
   "metadata": {},
   "outputs": [],
   "source": []
  }
 ],
 "metadata": {
  "kernelspec": {
   "display_name": "Python 3",
   "language": "python",
   "name": "python3"
  },
  "language_info": {
   "codemirror_mode": {
    "name": "ipython",
    "version": 3
   },
   "file_extension": ".py",
   "mimetype": "text/x-python",
   "name": "python",
   "nbconvert_exporter": "python",
   "pygments_lexer": "ipython3",
   "version": "3.8.5"
  }
 },
 "nbformat": 4,
 "nbformat_minor": 4
}
