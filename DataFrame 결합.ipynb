{
 "cells": [
  {
   "cell_type": "code",
   "execution_count": 1,
   "metadata": {},
   "outputs": [
    {
     "name": "stdout",
     "output_type": "stream",
     "text": [
      "       fruits  year  amount\n",
      "0       apple  2001       1\n",
      "1      orange  2002       4\n",
      "2      banana  2001       5\n",
      "3  strawberry  2008       6\n",
      "4   kiwifruit  2006       3\n",
      "\n",
      "       fruits  year  price\n",
      "0       apple  2001    150\n",
      "1      orange  2002    120\n",
      "2      banana  2001    100\n",
      "3  strawberry  2008    250\n",
      "4       mango  2007   3000\n",
      "\n",
      "       fruits  year_x  amount  year_y  price\n",
      "0       apple    2001       1    2001    150\n",
      "1      orange    2002       4    2002    120\n",
      "2      banana    2001       5    2001    100\n",
      "3  strawberry    2008       6    2008    250\n"
     ]
    }
   ],
   "source": [
    "#내부 결합의 기본\n",
    "\n",
    "import numpy as np\n",
    "import pandas as pd\n",
    "\n",
    "data1 = {\"fruits\":[\"apple\", \"orange\", \"banana\", \"strawberry\", \"kiwifruit\"],\n",
    "        \"year\":[2001, 2002, 2001, 2008, 2006],\n",
    "        \"amount\":[1, 4, 5, 6, 3]}\n",
    "df1 = pd.DataFrame(data1)\n",
    "\n",
    "data2 = {\"fruits\":[\"apple\", \"orange\", \"banana\", \"strawberry\", \"mango\"],\n",
    "        \"year\":[2001, 2002, 2001, 2008, 2007],\n",
    "        \"price\":[150, 120, 100, 250, 3000]}\n",
    "df2 = pd.DataFrame(data2)\n",
    "\n",
    "#df1과 df2의 내용 확인\n",
    "print(df1)\n",
    "print()\n",
    "print(df2)\n",
    "print()\n",
    "\n",
    "#df1과 df2의 컬럼 \"fruits\"를 Key로 하여 내부 결합한 DataFrame을 df3에 대입\n",
    "df3 = pd.merge(df1, df2, on=\"fruits\", how=\"inner\")\n",
    "\n",
    "#결과 출력\n",
    "print(df3)"
   ]
  },
  {
   "cell_type": "code",
   "execution_count": 2,
   "metadata": {},
   "outputs": [
    {
     "name": "stdout",
     "output_type": "stream",
     "text": [
      "       fruits  year  amount\n",
      "0       apple  2001       1\n",
      "1      orange  2002       4\n",
      "2      banana  2001       5\n",
      "3  strawberry  2008       6\n",
      "4   kiwifruit  2006       3\n",
      "\n",
      "       fruits  year  price\n",
      "0       apple  2001    150\n",
      "1      orange  2002    120\n",
      "2      banana  2001    100\n",
      "3  strawberry  2008    250\n",
      "4       mango  2007   3000\n",
      "\n",
      "       fruits  year_x  amount  year_y   price\n",
      "0       apple  2001.0     1.0  2001.0   150.0\n",
      "1      orange  2002.0     4.0  2002.0   120.0\n",
      "2      banana  2001.0     5.0  2001.0   100.0\n",
      "3  strawberry  2008.0     6.0  2008.0   250.0\n",
      "4   kiwifruit  2006.0     3.0     NaN     NaN\n",
      "5       mango     NaN     NaN  2007.0  3000.0\n"
     ]
    }
   ],
   "source": [
    "#외부 결합의 기본\n",
    "\n",
    "import numpy as np\n",
    "import pandas as pd\n",
    "\n",
    "data1 = {\"fruits\":[\"apple\", \"orange\", \"banana\", \"strawberry\", \"kiwifruit\"],\n",
    "        \"year\":[2001, 2002, 2001, 2008, 2006],\n",
    "        \"amount\":[1, 4, 5, 6, 3]}\n",
    "df1 = pd.DataFrame(data1)\n",
    "\n",
    "data2 = {\"fruits\":[\"apple\", \"orange\", \"banana\", \"strawberry\", \"mango\"],\n",
    "        \"year\":[2001, 2002, 2001, 2008, 2007],\n",
    "        \"price\":[150, 120, 100, 250, 3000]}\n",
    "df2 = pd.DataFrame(data2)\n",
    "\n",
    "#df1과 df2의 내용 확인\n",
    "print(df1)\n",
    "print()\n",
    "print(df2)\n",
    "print()\n",
    "\n",
    "#df1과 df2의 컬럼 \"fruits\"를 Key로 하여 외부 결합한 DataFrame을 df3에 대입\n",
    "df3 = pd.merge(df1, df2, on=\"fruits\", how=\"outer\")\n",
    "\n",
    "#결과 출력\n",
    "print(df3)\n"
   ]
  },
  {
   "cell_type": "code",
   "execution_count": null,
   "metadata": {},
   "outputs": [],
   "source": []
  }
 ],
 "metadata": {
  "kernelspec": {
   "display_name": "Python 3",
   "language": "python",
   "name": "python3"
  },
  "language_info": {
   "codemirror_mode": {
    "name": "ipython",
    "version": 3
   },
   "file_extension": ".py",
   "mimetype": "text/x-python",
   "name": "python",
   "nbconvert_exporter": "python",
   "pygments_lexer": "ipython3",
   "version": "3.8.5"
  }
 },
 "nbformat": 4,
 "nbformat_minor": 4
}
