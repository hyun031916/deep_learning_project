{
 "cells": [
  {
   "cell_type": "code",
   "execution_count": null,
   "metadata": {},
   "outputs": [],
   "source": [
    "#내부 결합의 기본\n",
    "\n",
    "import numpy as np\n",
    "import pandas as pd\n",
    "\n",
    "data1 = {\"fruits\":[\"apple\", \"orange\", \"banana\", \"strawberry\", \"kiwifruit\"],\n",
    "        \"year\":[2001, 2002, 2001, 2008, 2006],\n",
    "        \"amount\":[1, 4, 5, 6, 3]}\n",
    "df1 = pd.DataFrame(data1)\n",
    "\n",
    "data2 = {\"fruits\":[\"apple\", \"orange\", \"banana\", \"strawberry\", \"mango\"],\n",
    "        \"year\":[2001, 2002, 2001, 2008, 2007],\n",
    "        \"price\":[150, 120, 100, 250, 3000]}\n",
    "df2 = pd.DataFrame(data2)\n",
    "\n",
    "#df1과 df2의 내용 확인\n",
    "print(df1)\n",
    "print()\n",
    "print(df2)\n",
    "print()\n",
    "\n",
    "#df1과 df2의 컬럼"
   ]
  }
 ],
 "metadata": {
  "kernelspec": {
   "display_name": "Python 3",
   "language": "python",
   "name": "python3"
  },
  "language_info": {
   "codemirror_mode": {
    "name": "ipython",
    "version": 3
   },
   "file_extension": ".py",
   "mimetype": "text/x-python",
   "name": "python",
   "nbconvert_exporter": "python",
   "pygments_lexer": "ipython3",
   "version": "3.8.5"
  }
 },
 "nbformat": 4,
 "nbformat_minor": 4
}
