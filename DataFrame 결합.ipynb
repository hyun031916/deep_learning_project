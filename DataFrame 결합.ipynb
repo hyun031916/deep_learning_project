{
 "cells": [
  {
   "cell_type": "code",
   "execution_count": 1,
   "metadata": {},
   "outputs": [
    {
     "name": "stdout",
     "output_type": "stream",
     "text": [
      "       fruits  year  amount\n",
      "0       apple  2001       1\n",
      "1      orange  2002       4\n",
      "2      banana  2001       5\n",
      "3  strawberry  2008       6\n",
      "4   kiwifruit  2006       3\n",
      "\n",
      "       fruits  year  price\n",
      "0       apple  2001    150\n",
      "1      orange  2002    120\n",
      "2      banana  2001    100\n",
      "3  strawberry  2008    250\n",
      "4       mango  2007   3000\n",
      "\n",
      "       fruits  year_x  amount  year_y  price\n",
      "0       apple    2001       1    2001    150\n",
      "1      orange    2002       4    2002    120\n",
      "2      banana    2001       5    2001    100\n",
      "3  strawberry    2008       6    2008    250\n"
     ]
    }
   ],
   "source": [
    "#내부 결합의 기본\n",
    "\n",
    "import numpy as np\n",
    "import pandas as pd\n",
    "\n",
    "data1 = {\"fruits\":[\"apple\", \"orange\", \"banana\", \"strawberry\", \"kiwifruit\"],\n",
    "        \"year\":[2001, 2002, 2001, 2008, 2006],\n",
    "        \"amount\":[1, 4, 5, 6, 3]}\n",
    "df1 = pd.DataFrame(data1)\n",
    "\n",
    "data2 = {\"fruits\":[\"apple\", \"orange\", \"banana\", \"strawberry\", \"mango\"],\n",
    "        \"year\":[2001, 2002, 2001, 2008, 2007],\n",
    "        \"price\":[150, 120, 100, 250, 3000]}\n",
    "df2 = pd.DataFrame(data2)\n",
    "\n",
    "#df1과 df2의 내용 확인\n",
    "print(df1)\n",
    "print()\n",
    "print(df2)\n",
    "print()\n",
    "\n",
    "#df1과 df2의 컬럼 \"fruits\"를 Key로 하여 내부 결합한 DataFrame을 df3에 대입\n",
    "df3 = pd.merge(df1, df2, on=\"fruits\", how=\"inner\")\n",
    "\n",
    "#결과 출력\n",
    "print(df3)"
   ]
  },
  {
   "cell_type": "code",
   "execution_count": 2,
   "metadata": {},
   "outputs": [
    {
     "name": "stdout",
     "output_type": "stream",
     "text": [
      "       fruits  year  amount\n",
      "0       apple  2001       1\n",
      "1      orange  2002       4\n",
      "2      banana  2001       5\n",
      "3  strawberry  2008       6\n",
      "4   kiwifruit  2006       3\n",
      "\n",
      "       fruits  year  price\n",
      "0       apple  2001    150\n",
      "1      orange  2002    120\n",
      "2      banana  2001    100\n",
      "3  strawberry  2008    250\n",
      "4       mango  2007   3000\n",
      "\n",
      "       fruits  year_x  amount  year_y   price\n",
      "0       apple  2001.0     1.0  2001.0   150.0\n",
      "1      orange  2002.0     4.0  2002.0   120.0\n",
      "2      banana  2001.0     5.0  2001.0   100.0\n",
      "3  strawberry  2008.0     6.0  2008.0   250.0\n",
      "4   kiwifruit  2006.0     3.0     NaN     NaN\n",
      "5       mango     NaN     NaN  2007.0  3000.0\n"
     ]
    }
   ],
   "source": [
    "#외부 결합의 기본\n",
    "\n",
    "import numpy as np\n",
    "import pandas as pd\n",
    "\n",
    "data1 = {\"fruits\":[\"apple\", \"orange\", \"banana\", \"strawberry\", \"kiwifruit\"],\n",
    "        \"year\":[2001, 2002, 2001, 2008, 2006],\n",
    "        \"amount\":[1, 4, 5, 6, 3]}\n",
    "df1 = pd.DataFrame(data1)\n",
    "\n",
    "data2 = {\"fruits\":[\"apple\", \"orange\", \"banana\", \"strawberry\", \"mango\"],\n",
    "        \"year\":[2001, 2002, 2001, 2008, 2007],\n",
    "        \"price\":[150, 120, 100, 250, 3000]}\n",
    "df2 = pd.DataFrame(data2)\n",
    "\n",
    "#df1과 df2의 내용 확인\n",
    "print(df1)\n",
    "print()\n",
    "print(df2)\n",
    "print()\n",
    "\n",
    "#df1과 df2의 컬럼 \"fruits\"를 Key로 하여 외부 결합한 DataFrame을 df3에 대입\n",
    "df3 = pd.merge(df1, df2, on=\"fruits\", how=\"outer\")\n",
    "\n",
    "#결과 출력\n",
    "print(df3)\n"
   ]
  },
  {
   "cell_type": "code",
   "execution_count": 9,
   "metadata": {},
   "outputs": [
    {
     "name": "stdout",
     "output_type": "stream",
     "text": [
      "   id_x  item_id  customer_id  id_y name\n",
      "0  1000     2546          103   103   소희\n",
      "1  1001     4352          101   101   광수\n",
      "2  1002      342          101   101   광수\n"
     ]
    }
   ],
   "source": [
    "#이름이 다른 열을 Key로 결합하기\n",
    "\n",
    "import pandas as pd\n",
    "\n",
    "#주문 정보\n",
    "order_df = pd.DataFrame([[1000, 2546, 103],\n",
    "                        [1001, 4352, 101],\n",
    "                        [1002, 342, 101]],\n",
    "                       columns=[\"id\", \"item_id\", \"customer_id\"])\n",
    "\n",
    "#고객 정보\n",
    "customer_df = pd.DataFrame([[101, \"광수\"],\n",
    "                           [102, \"민호\"],\n",
    "                           [103, \"소희\"]],\n",
    "                          columns = [\"id\", \"name\"])\n",
    "\n",
    "#order_df를 바탕으로 \"id\"를 customer_df와 결합하여 order_df에 대입\n",
    "order_df = pd.merge(order_df, customer_df, left_on=\"customer_id\", right_on=\"id\", how=\"inner\")\n",
    "\n",
    "print(order_df)"
   ]
  },
  {
   "cell_type": "code",
   "execution_count": 11,
   "metadata": {},
   "outputs": [
    {
     "name": "stdout",
     "output_type": "stream",
     "text": [
      "     id  item_id  customer_id name\n",
      "0  1000     2546          103   소희\n",
      "1  1001     4352          101   광수\n",
      "2  1002      342          101   광수\n"
     ]
    }
   ],
   "source": [
    "#인덱스를 Key로 결합하기\n",
    "\n",
    "import pandas as pd\n",
    "\n",
    "#주문 정보\n",
    "order_df = pd.DataFrame([[1000, 2546, 103],\n",
    "                        [1001, 4352, 101],\n",
    "                        [1002, 342, 101]],\n",
    "                        columns=[\"id\", \"item_id\", \"customer_id\"])\n",
    "\n",
    "#고객 정보\n",
    "customer_df = pd.DataFrame([[\"광수\"],\n",
    "                           [\"민호\"],\n",
    "                           [\"소희\"]],\n",
    "                          columns = [\"name\"])\n",
    "customer_df.index = [101, 102, 103]\n",
    "\n",
    "#customer_df 바탕으로 \"name\"을 order_df 결합하여 order_df에 대입\n",
    "order_df = pd.merge(order_df, customer_df, left_on=\"customer_id\", right_index=True, how=\"inner\")\n",
    "\n",
    "print(order_df)"
   ]
  }
 ],
 "metadata": {
  "kernelspec": {
   "display_name": "Python 3",
   "language": "python",
   "name": "python3"
  },
  "language_info": {
   "codemirror_mode": {
    "name": "ipython",
    "version": 3
   },
   "file_extension": ".py",
   "mimetype": "text/x-python",
   "name": "python",
   "nbconvert_exporter": "python",
   "pygments_lexer": "ipython3",
   "version": "3.8.5"
  }
 },
 "nbformat": 4,
 "nbformat_minor": 4
}
