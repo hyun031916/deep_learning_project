{
 "cells": [
  {
   "cell_type": "code",
   "execution_count": 4,
   "metadata": {},
   "outputs": [
    {
     "name": "stdout",
     "output_type": "stream",
     "text": [
      "시드를 설정하지 않았을 때\n",
      "X:  [-0.97727788  0.95008842 -0.15135721 -0.10321885  0.4105985 ]\n",
      "Y:  [0.14404357 1.45427351 0.76103773 0.12167502 0.44386323]\n",
      "시드를 설정했을 때\n",
      "X:  [1.76405235 0.40015721 0.97873798 2.2408932  1.86755799]\n",
      "Y:  [1.76405235 0.40015721 0.97873798 2.2408932  1.86755799]\n"
     ]
    }
   ],
   "source": [
    "#시드 설정\n",
    "\n",
    "import numpy as np\n",
    "\n",
    "#시드를 설정하지 않았을 때 난수가 일치하는 지 확인하기\n",
    "#X와 Y에 각각 다섯 개의 난수 지정\n",
    "X = np.random.randn(5)\n",
    "Y = np.random.randn(5)\n",
    "\n",
    "#X와 Y값 출력\n",
    "print(\"시드를 설정하지 않았을 때\")\n",
    "print(\"X: \", X)\n",
    "print(\"Y: \", Y)\n",
    "\n",
    "#시드 설정\n",
    "np.random.seed(0)\n",
    "\n",
    "#난수열을 변수에 대입\n",
    "x = np.random.randn(5)\n",
    "\n",
    "#동일한 시드 설정하여 초기화하기\n",
    "np.random.seed(0)\n",
    "\n",
    "#다시 난수열을 만들어 다른 변수에 대입\n",
    "y = np.random.randn(5)\n",
    "\n",
    "#x와 y값이 일치하는지 확인\n",
    "print(\"시드를 설정했을 때\")\n",
    "print(\"X: \", x)\n",
    "print(\"Y: \", y)"
   ]
  },
  {
   "cell_type": "code",
   "execution_count": 5,
   "metadata": {},
   "outputs": [
    {
     "data": {
      "image/png": "[encoded data removed]",
      "text/plain": [
       "<Figure size 432x288 with 1 Axes>"
      ]
     },
     "metadata": {
      "needs_background": "light"
     },
     "output_type": "display_data"
    }
   ],
   "source": [
    "#정규분포에 따른 난수 설정\n",
    "import numpy as np\n",
    "import matplotlib.pyplot as plt\n",
    "\n",
    "%matplotlib inline\n",
    "\n",
    "#시드 값을 0으로 설정\n",
    "np.random.seed(0)\n",
    "\n",
    "#정규분포를 따르는 난수를 10000개 생성하여 변수 x에 대입\n",
    "x = np.random.randn(10000)\n",
    "\n",
    "#시각화하기\n",
    "plt.hist(x, bins='auto')\n",
    "plt.show()"
   ]
  },
  {
   "cell_type": "code",
   "execution_count": 6,
   "metadata": {},
   "outputs": [
    {
     "name": "stdout",
     "output_type": "stream",
     "text": [
      "0.49832\n"
     ]
    }
   ],
   "source": [
    "#이항분포에 따른 난수 생성\n",
    "import numpy as np\n",
    "\n",
    "#시드값을 0으로 설정\n",
    "np.random.seed(0)\n",
    "\n",
    "#성공 확률 0.5로 100번 시도했을 때 성공 횟수를 구하는 실험을 10,000회 반복하여 변수 nums에 대입\n",
    "nums = np.random.binomial(100, 0.5, size=10000)\n",
    "\n",
    "#nums의 성공 횟수에서 성공 확률의 평균 출력\n",
    "print(nums.mean()/100)"
   ]
  },
  {
   "cell_type": "code",
   "execution_count": 7,
   "metadata": {},
   "outputs": [
    {
     "name": "stdout",
     "output_type": "stream",
     "text": [
      "['Kiwifruit' 'Strawberry' 'Apple' 'Pineapple' 'Pineapple']\n"
     ]
    }
   ],
   "source": [
    "#리스트에서 무작위로 선택\n",
    "\n",
    "import numpy as np\n",
    "\n",
    "x=['Apple', 'Orange', 'Banana', 'Pineapple', 'Kiwifruit', 'Strawberry']\n",
    "\n",
    "#시드 설정\n",
    "np.random.seed(0)\n",
    "\n",
    "#x에서 무작위로 5개 선택해 y에 대입\n",
    "y = np.random.choice(x, 5)\n",
    "\n",
    "print(y)"
   ]
  }
 ],
 "metadata": {
  "kernelspec": {
   "display_name": "Python 3",
   "language": "python",
   "name": "python3"
  },
  "language_info": {
   "codemirror_mode": {
    "name": "ipython",
    "version": 3
   },
   "file_extension": ".py",
   "mimetype": "text/x-python",
   "name": "python",
   "nbconvert_exporter": "python",
   "pygments_lexer": "ipython3",
   "version": "3.8.5"
  }
 },
 "nbformat": 4,
 "nbformat_minor": 4
}
