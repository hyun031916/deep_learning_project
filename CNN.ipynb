{
 "cells": [
  {
   "cell_type": "code",
   "execution_count": 3,
   "metadata": {},
   "outputs": [
    {
     "data": {
      "image/png": "[encoded data removed]",
      "text/plain": [
       "<Figure size 432x288 with 1 Axes>"
      ]
     },
     "metadata": {
      "needs_background": "light"
     },
     "output_type": "display_data"
    },
    {
     "data": {
      "image/png": "[encoded data removed]",
      "text/plain": [
       "<Figure size 432x288 with 4 Axes>"
      ]
     },
     "metadata": {
      "needs_background": "light"
     },
     "output_type": "display_data"
    },
    {
     "data": {
      "image/png": "[encoded data removed]",
      "text/plain": [
       "<Figure size 432x288 with 4 Axes>"
      ]
     },
     "metadata": {
      "needs_background": "light"
     },
     "output_type": "display_data"
    }
   ],
   "source": [
    "# 가로, 세로, 대각선 검출\n",
    "import numpy as np\n",
    "import matplotlib.pyplot as plt\n",
    "import urllib.request\n",
    "%matplotlib inline\n",
    "\n",
    "# 아주 간단한 합성곱층 정의\n",
    "class Conv:\n",
    "    #간단한 예이기 때문에 W는 3 x 3으로 고정하고 이후 절에서 다룰 strides나 padding은 고려하지 않음\n",
    "    def __init__(self, W):\n",
    "        self.W = W\n",
    "    def f_prop(self, X):\n",
    "        out = np.zeros((X.shape[0]-2, X.shape[1]-2))\n",
    "        for i in range(out.shape[0]):\n",
    "            for j in range(out.shape[1]):\n",
    "                x = X[i:i+3, j:j+3]\n",
    "                #각 요소 별 곱의 합계 취하기\n",
    "                out[i, j] = np.dot(self.W.flatten(), x.flatten())\n",
    "        return out\n",
    "\n",
    "local_filename, headers = urllib.request.urlretrieve('https://aidemystorageprd.blob.core.windows.net/data/5100_cnn_data/circle.npy')\n",
    "X = np.load(local_filename)\n",
    "\n",
    "plt.imshow(X)\n",
    "plt.title(\"The original image\", fontsize=12)\n",
    "plt.show()\n",
    "\n",
    "#커널 적절하게 설정하기\n",
    "W1 = np.array([[0, 1, 0],\n",
    "              [0, 1, 0],\n",
    "              [0, 1, 0]])\n",
    "\n",
    "W2 = np.array([[0, 0, 0],\n",
    "              [1, 1, 1],\n",
    "              [0, 0, 0]])\n",
    "\n",
    "W3 = np.array([[1, 0, 0],\n",
    "              [0, 1, 0],\n",
    "              [0, 0, 1]])\n",
    "\n",
    "\n",
    "W4 = np.array([[0, 0, 1],\n",
    "              [0, 1, 0],\n",
    "              [1, 0, 0]])\n",
    "\n",
    "plt.subplot(1, 4, 1); plt.imshow(W1)\n",
    "plt.subplot(1, 4, 2); plt.imshow(W2)\n",
    "plt.subplot(1, 4, 3); plt.imshow(W3)\n",
    "plt.subplot(1, 4, 4); plt.imshow(W4)\n",
    "plt.suptitle(\"kernel\", fontsize=12)\n",
    "plt.show()\n",
    "\n",
    "#합성곱\n",
    "conv1 = Conv(W1); C1 = conv1.f_prop(X)\n",
    "conv2 = Conv(W2); C2 = conv1.f_prop(X)\n",
    "conv3 = Conv(W3); C3 = conv1.f_prop(X)\n",
    "conv4 = Conv(W4); C4 = conv1.f_prop(X)\n",
    "\n",
    "plt.subplot(1, 4, 1); plt.imshow(C1)\n",
    "plt.subplot(1, 4, 2); plt.imshow(C2)\n",
    "plt.subplot(1, 4, 3); plt.imshow(C3)\n",
    "plt.subplot(1, 4, 4); plt.imshow(C4)\n",
    "plt.suptitle(\"Convolution result\", fontsize=12)\n",
    "plt.show()"
   ]
  },
  {
   "cell_type": "code",
   "execution_count": 2,
   "metadata": {},
   "outputs": [
    {
     "data": {
      "image/png": "[encoded data removed]",
      "text/plain": [
       "<Figure size 432x288 with 1 Axes>"
      ]
     },
     "metadata": {
      "needs_background": "light"
     },
     "output_type": "display_data"
    },
    {
     "data": {
      "image/png": "[encoded data removed]",
      "text/plain": [
       "<Figure size 432x288 with 4 Axes>"
      ]
     },
     "metadata": {
      "needs_background": "light"
     },
     "output_type": "display_data"
    },
    {
     "data": {
      "image/png": "[encoded data removed]",
      "text/plain": [
       "<Figure size 432x288 with 4 Axes>"
      ]
     },
     "metadata": {
      "needs_background": "light"
     },
     "output_type": "display_data"
    }
   ],
   "source": [
    "# 폴링층\n",
    "\n",
    "import numpy as np\n",
    "import matplotlib.pyplot as plt\n",
    "import urllib.request\n",
    "%matplotlib inline\n",
    "\n",
    "# 아주 간단한 합성곱층 정의\n",
    "class Conv:\n",
    "    #간단한 예이기 때문에 X는 3 x 3으로 고정하고 이후 절에서 다룰 strides나 padding은 고려하지 않음\n",
    "    def __init__(self, W):\n",
    "        self.W = W\n",
    "    def f_prop(self, X):\n",
    "        out = np.zeros((X.shape[0]-2, X.shape[1]-2))\n",
    "        for i in range(out.shape[0]):\n",
    "            for j in range(out.shape[1]):\n",
    "                x = X[i:i+3, j:j+3]\n",
    "                out[i, j] = np.dot(self.W.flatten(), x.flatten())\n",
    "        return out\n",
    "\n",
    "#아주 간단한 풀링층 정의\n",
    "class Pool:\n",
    "    #간단한 예이기 때문에 이후 절에서 다룰 strides나 padding은 고려하지 않음\n",
    "    def __init__(self, l):\n",
    "        self.l = l\n",
    "    def f_prop(self, X):\n",
    "        l = self.l\n",
    "        out = np.zeros((X.shape[0]//self.l, X.shape[1]//self.l))\n",
    "        for i in range(out.shape[0]):\n",
    "            for j in range(out.shape[1]):\n",
    "                out[i, j] = np.max(X[i*l:(i+1)*l, j*l:(j+1)*l])\n",
    "        return out\n",
    "    \n",
    "local_filename, headers = urllib.request.urlretrieve('https://aidemystorageprd.blob.core.windows.net/data/5100_cnn_data/circle.npy')\n",
    "X = np.load(local_filename)\n",
    "plt.imshow(X)\n",
    "plt.title(\"The original image\", fontsize=12)\n",
    "plt.show()\n",
    "\n",
    "#커널\n",
    "W1 = np.array([[0, 1, 0],\n",
    "              [0, 1, 0],\n",
    "              [0, 1, 0]])\n",
    "\n",
    "W2 = np.array([[0, 0, 0],\n",
    "              [1, 1, 1],\n",
    "              [0, 0, 0]])\n",
    "\n",
    "W3 = np.array([[1, 0, 0],\n",
    "              [0, 1, 0],\n",
    "              [0, 0, 1]])\n",
    "\n",
    "W4 = np.array([[0, 0, 1],\n",
    "              [0, 1, 0],\n",
    "              [1, 0, 0]])\n",
    "\n",
    "#합성곱\n",
    "conv1 = Conv(W1); C1 = conv1.f_prop(X)\n",
    "conv2 = Conv(W1); C2 = conv2.f_prop(X)\n",
    "conv3 = Conv(W1); C3 = conv3.f_prop(X)\n",
    "conv4 = Conv(W1); C4 = conv4.f_prop(X)\n",
    "\n",
    "plt.subplot(1, 4, 1); plt.imshow(C1)\n",
    "plt.subplot(1, 4, 2); plt.imshow(C2)\n",
    "plt.subplot(1, 4, 3); plt.imshow(C3)\n",
    "plt.subplot(1, 4, 4); plt.imshow(C4)\n",
    "plt.suptitle(\"Convolution result\", fontsize=12)\n",
    "plt.show()\n",
    "\n",
    "#풀링\n",
    "pool = Pool(2)\n",
    "P1 = pool.f_prop(C1)\n",
    "P2 = pool.f_prop(C2)\n",
    "P3 = pool.f_prop(C3)\n",
    "P4 = pool.f_prop(C4)\n",
    "\n",
    "plt.subplot(1, 4, 1); plt.imshow(P1)\n",
    "plt.subplot(1, 4, 2); plt.imshow(P2)\n",
    "plt.subplot(1, 4, 3); plt.imshow(P3)\n",
    "plt.subplot(1, 4, 4); plt.imshow(P4)\n",
    "plt.suptitle(\"Pooling result\", fontsize=12)\n",
    "plt.show()"
   ]
  },
  {
   "cell_type": "code",
   "execution_count": 4,
   "metadata": {},
   "outputs": [
    {
     "name": "stderr",
     "output_type": "stream",
     "text": [
      "Using TensorFlow backend.\n"
     ]
    },
    {
     "name": "stdout",
     "output_type": "stream",
     "text": [
      "Model: \"sequential\"\n",
      "_________________________________________________________________\n",
      "Layer (type)                 Output Shape              Param #   \n",
      "=================================================================\n",
      "conv2d (Conv2D)              (None, 28, 28, 32)        160       \n",
      "_________________________________________________________________\n",
      "max_pooling2d (MaxPooling2D) (None, 27, 27, 32)        0         \n",
      "_________________________________________________________________\n",
      "conv2d_1 (Conv2D)            (None, 27, 27, 32)        4128      \n",
      "_________________________________________________________________\n",
      "max_pooling2d_1 (MaxPooling2 (None, 26, 26, 32)        0         \n",
      "_________________________________________________________________\n",
      "flatten (Flatten)            (None, 21632)             0         \n",
      "_________________________________________________________________\n",
      "dense (Dense)                (None, 256)               5538048   \n",
      "_________________________________________________________________\n",
      "activation (Activation)      (None, 256)               0         \n",
      "_________________________________________________________________\n",
      "dense_1 (Dense)              (None, 128)               32896     \n",
      "_________________________________________________________________\n",
      "activation_1 (Activation)    (None, 128)               0         \n",
      "_________________________________________________________________\n",
      "dense_2 (Dense)              (None, 10)                1290      \n",
      "_________________________________________________________________\n",
      "activation_2 (Activation)    (None, 10)                0         \n",
      "=================================================================\n",
      "Total params: 5,576,522\n",
      "Trainable params: 5,576,522\n",
      "Non-trainable params: 0\n",
      "_________________________________________________________________\n"
     ]
    }
   ],
   "source": [
    "#CNN 구현하기\n",
    "from tensorflow.keras.layers import Activation, Conv2D, Dense, Flatten, MaxPooling2D\n",
    "from tensorflow.keras.models import Sequential, load_model\n",
    "from keras.utils.np_utils import to_categorical\n",
    "\n",
    "#모델 정의\n",
    "model = Sequential()\n",
    "\n",
    "model.add(Conv2D(input_shape=(28, 28, 1),\n",
    "                filters=32,\n",
    "                kernel_size=(2, 2),\n",
    "                strides=(1, 1),\n",
    "                padding=\"same\"))\n",
    "\n",
    "model.add(MaxPooling2D(pool_size=(2, 2),\n",
    "                      strides=(1, 1)))\n",
    "model.add(Conv2D(filters=32,\n",
    "                kernel_size=(2, 2),\n",
    "                strides=(1, 1),\n",
    "                padding=\"same\"))\n",
    "model.add(MaxPooling2D(pool_size=(2, 2),\n",
    "                      strides=(1, 1)))\n",
    "\n",
    "model.add(Flatten())\n",
    "model.add(Dense(256))\n",
    "model.add(Activation('sigmoid'))\n",
    "model.add(Dense(128))\n",
    "model.add(Activation('sigmoid'))\n",
    "model.add(Dense(10))\n",
    "model.add(Activation('softmax'))\n",
    "\n",
    "model.summary()"
   ]
  },
  {
   "cell_type": "code",
   "execution_count": 7,
   "metadata": {},
   "outputs": [
    {
     "name": "stdout",
     "output_type": "stream",
     "text": [
      "3/3 [==============================] - 2s 314ms/step - loss: 7.4040 - accuracy: 0.0946 - val_loss: 7.5146 - val_accuracy: 0.1100\n",
      "4/4 [==============================] - 0s 11ms/step - loss: 7.5146 - accuracy: 0.1100\n",
      "Test loss:  7.514636039733887\n",
      "Test accuracy:  0.10999999940395355\n"
     ]
    },
    {
     "data": {
      "image/png": "[encoded data removed]",
      "text/plain": [
       "<Figure size 432x288 with 10 Axes>"
      ]
     },
     "metadata": {
      "needs_background": "light"
     },
     "output_type": "display_data"
    },
    {
     "name": "stdout",
     "output_type": "stream",
     "text": [
      "[6 6 6 6 6 7 6 6 6 6]\n",
      "Model: \"sequential_1\"\n",
      "_________________________________________________________________\n",
      "Layer (type)                 Output Shape              Param #   \n",
      "=================================================================\n",
      "conv2d_2 (Conv2D)            (None, 26, 26, 32)        320       \n",
      "_________________________________________________________________\n",
      "activation_3 (Activation)    (None, 26, 26, 32)        0         \n",
      "_________________________________________________________________\n",
      "conv2d_3 (Conv2D)            (None, 24, 24, 64)        18496     \n",
      "_________________________________________________________________\n",
      "activation_4 (Activation)    (None, 24, 24, 64)        0         \n",
      "_________________________________________________________________\n",
      "max_pooling2d_2 (MaxPooling2 (None, 12, 12, 64)        0         \n",
      "_________________________________________________________________\n",
      "dropout (Dropout)            (None, 12, 12, 64)        0         \n",
      "_________________________________________________________________\n",
      "flatten_1 (Flatten)          (None, 9216)              0         \n",
      "_________________________________________________________________\n",
      "dense_3 (Dense)              (None, 128)               1179776   \n",
      "_________________________________________________________________\n",
      "activation_5 (Activation)    (None, 128)               0         \n",
      "_________________________________________________________________\n",
      "dropout_1 (Dropout)          (None, 128)               0         \n",
      "_________________________________________________________________\n",
      "dense_4 (Dense)              (None, 10)                1290      \n",
      "=================================================================\n",
      "Total params: 1,199,882\n",
      "Trainable params: 1,199,882\n",
      "Non-trainable params: 0\n",
      "_________________________________________________________________\n"
     ]
    }
   ],
   "source": [
    "# CNN을 이용한 분류(MNIST)\n",
    "\n",
    "from tensorflow.keras.datasets import mnist\n",
    "from tensorflow.keras.layers import Dense, Dropout, Flatten, Activation\n",
    "from tensorflow.keras.layers import Conv2D, MaxPooling2D\n",
    "from tensorflow.keras.models import Sequential, load_model\n",
    "from keras.utils.np_utils import to_categorical\n",
    "from keras.utils.vis_utils import plot_model\n",
    "import numpy as np\n",
    "import matplotlib.pyplot as plt\n",
    "%matplotlib inline\n",
    "\n",
    "#데이터 읽어 들이기\n",
    "(X_train, y_train), (X_test, y_test) = mnist.load_data()\n",
    "\n",
    "# 전체 데이터 중 학습에 300장, 테스트에 100장의 데이터 사용\n",
    "# Conv 층은 4차원 배열을 받아들임(배티 크기 x 가로 x 세로 x 채널 수)\n",
    "# MNIST 데이터는 RGB 이미지가 아니라 원래 3차원 데이터이므로 미리 4차원으로 변환\n",
    "X_train = X_train[:300].reshape(-1, 28, 28, 1)\n",
    "X_test = X_test[:100].reshape(-1, 28, 28, 1)\n",
    "y_train = to_categorical(y_train)[:300]\n",
    "y_test = to_categorical(y_test)[:100]\n",
    "\n",
    "#모델 정의하기\n",
    "model = Sequential()\n",
    "\n",
    "model.add(Conv2D(32, kernel_size=(3, 3), input_shape=(28, 28, 1)))\n",
    "model.add(Activation('relu'))\n",
    "model.add(Conv2D(filters=64, kernel_size=(3, 3)))\n",
    "model.add(Activation('relu'))\n",
    "model.add(MaxPooling2D(pool_size=(2, 2)))\n",
    "model.add(Dropout(0.25))\n",
    "model.add(Flatten())\n",
    "model.add(Dense(128))\n",
    "model.add(Activation('relu'))\n",
    "model.add(Dropout(0.5))\n",
    "model.add(Dense(10))\n",
    "\n",
    "model.compile(loss='categorical_crossentropy', optimizer='adadelta', metrics=['accuracy'])\n",
    "\n",
    "model.fit(X_train, y_train, batch_size=128, epochs=1, verbose=1, validation_data=(X_test, y_test))\n",
    "\n",
    "#정확도 평가\n",
    "scores=model.evaluate(X_test, y_test, verbose=1)\n",
    "print('Test loss: ', scores[0])\n",
    "print('Test accuracy: ', scores[1])\n",
    "\n",
    "#데이터 시각화하기(테스트 데이터의 처음 10장)\n",
    "for i in range(10):\n",
    "    plt.subplot(2, 5, i+1)\n",
    "    plt.imshow(X_test[i].reshape((28, 28)), 'gray')\n",
    "plt.suptitle(\"The first ten of the test data\", fontsize=20)\n",
    "plt.show()\n",
    "\n",
    "#에측하기(테스트 데이터의 처음 10장)\n",
    "pred = np.argmax(model.predict(X_test[0:10]), axis=1)\n",
    "print(pred)\n",
    "\n",
    "model.summary()"
   ]
  },
  {
   "cell_type": "code",
   "execution_count": null,
   "metadata": {},
   "outputs": [],
   "source": []
  }
 ],
 "metadata": {
  "kernelspec": {
   "display_name": "Python 3",
   "language": "python",
   "name": "python3"
  },
  "language_info": {
   "codemirror_mode": {
    "name": "ipython",
    "version": 3
   },
   "file_extension": ".py",
   "mimetype": "text/x-python",
   "name": "python",
   "nbconvert_exporter": "python",
   "pygments_lexer": "ipython3",
   "version": "3.8.5"
  }
 },
 "nbformat": 4,
 "nbformat_minor": 4
}
