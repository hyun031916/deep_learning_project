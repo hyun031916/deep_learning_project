{
 "cells": [
  {
   "cell_type": "code",
   "execution_count": 2,
   "metadata": {},
   "outputs": [
    {
     "name": "stdout",
     "output_type": "stream",
     "text": [
      "80\n"
     ]
    }
   ],
   "source": [
    "#문자열 숫자로 형 변환하기\n",
    "\n",
    "\n",
    "#문자열 대입\n",
    "x = '64'\n",
    "y = '16'\n",
    "\n",
    "#x와 y를 int()를 사용하여 변환한 뒤 x와 y의 합을 z에 대입\n",
    "z = int(x) + int(y)\n",
    "\n",
    "print(z)"
   ]
  },
  {
   "cell_type": "code",
   "execution_count": 3,
   "metadata": {},
   "outputs": [
    {
     "name": "stdout",
     "output_type": "stream",
     "text": [
      "[ 0  2  4  6  8 10]\n"
     ]
    }
   ],
   "source": [
    "#같은 간격의 수열 생성하기\n",
    "\n",
    "import numpy as np\n",
    "\n",
    "#x에 0부터 10까지의 짝수열 대입\n",
    "x = np.arange(0, 11, 2)\n",
    "\n",
    "print(x)"
   ]
  },
  {
   "cell_type": "code",
   "execution_count": 4,
   "metadata": {},
   "outputs": [
    {
     "name": "stdout",
     "output_type": "stream",
     "text": [
      "[ 0.   2.5  5.   7.5 10. ]\n"
     ]
    }
   ],
   "source": [
    "#같은 간격의 수열 생성하기\n",
    "import numpy as np\n",
    "\n",
    "#0에서 10까지를 5개의 동일 간격으로 나누어 x에 대압\n",
    "x = np.linspace(0, 10, 5)\n",
    "\n",
    "print(x)"
   ]
  },
  {
   "cell_type": "code",
   "execution_count": null,
   "metadata": {},
   "outputs": [],
   "source": [
    "#연습 문제\n",
    "#matplotlib을 이용한 히스토그램 작성\n",
    "\n",
    "#0부터 1사이의 균등 난수, 정규분포를 따르는 난수, 이항분포를 따르는 난수를 각각\n",
    "#10,000개 생성하여 히스토그램 확인. 각 히스토그램의 bins는 50으로 지정\n",
    "\n",
    "import matplotlib.pyplot as plt\n",
    "import numpy as np\n",
    "\n",
    "np.random.seed(100)\n",
    "\n",
    "#균등 난수를 10,000개 생성하여 random_number_1에 대입\n",
    "random_number_1 = np.random.rand(10000)\n",
    "\n",
    "#정규분포를 따르는 난수 10,000개 생성하여 random_number_2에 대입\n",
    "random_number_2 = np.random.randn(10000)\n",
    "\n",
    "#이항분포를 따르는 난수 10,000개 생성하여 random_number_3에 대입. 성공 확률은 0.5\n",
    "random_number_3 = np.random.binomial(100, 0.5, size=10000)\n",
    "\n",
    "plt.figure(figsize(5, 5))\n",
    "\n",
    "#균등 난수를 히스토그램으로 표시 bins는 50으로 지정\n",
    "plt.hist(random_number_1, bins=50)\n",
    "\n",
    "plt.title('uniform_distribution')\n",
    "plt.grid(True)\n",
    "plt.show()\n",
    "\n",
    "plt.figure(figsize=(5, 5))\n",
    "\n",
    "#이항분포를 따르는 난수를 히스토그램으로 표시 bins는 50으로 지정\n",
    "plt.hist(random_number_3, bins=50)\n",
    "\n",
    "plt.title('binomial_distribution')\n",
    "plt.grid(True)\n",
    "plt.show()\n",
    "\n",
    "plt.figure(figsize=(5, 5))"
   ]
  }
 ],
 "metadata": {
  "kernelspec": {
   "display_name": "Python 3",
   "language": "python",
   "name": "python3"
  },
  "language_info": {
   "codemirror_mode": {
    "name": "ipython",
    "version": 3
   },
   "file_extension": ".py",
   "mimetype": "text/x-python",
   "name": "python",
   "nbconvert_exporter": "python",
   "pygments_lexer": "ipython3",
   "version": "3.8.5"
  }
 },
 "nbformat": 4,
 "nbformat_minor": 4
}
