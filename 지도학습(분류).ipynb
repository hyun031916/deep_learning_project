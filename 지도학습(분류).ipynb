{
 "cells": [
  {
   "cell_type": "code",
   "execution_count": 5,
   "metadata": {},
   "outputs": [
    {
     "data": {
      "image/png": "[encoded data removed]",
      "text/plain": [
       "<Figure size 432x288 with 1 Axes>"
      ]
     },
     "metadata": {
      "needs_background": "light"
     },
     "output_type": "display_data"
    }
   ],
   "source": [
    "#데이터 준비하기\n",
    "#모듈 import\n",
    "from sklearn.datasets import make_classification\n",
    "#플롯용 모듈\n",
    "import matplotlib.pyplot as plt\n",
    "import matplotlib\n",
    "\n",
    "%matplotlib inline\n",
    "\n",
    "#데이터 X와 라벨 y 생성\n",
    "# n_samples:준비할 데이터 수\n",
    "# n_classes:클래스 수(자동으로 2로 지정)\n",
    "# n_features(데이터의 특징량 수)\n",
    "# n_redundant:분류에 불필요한 특징량(여분의 특징량)수\n",
    "# random_state:난수 시드(난수 패턴을 결정하는 요소)\n",
    "X, y = make_classification(n_samples=50, n_features=2, n_redundant=0, random_state=0)\n",
    "\n",
    "#데이터 채색, 플롯 처리\n",
    "plt.scatter(X[:, 0], X[:, 1], c=y, marker=\".\", cmap = matplotlib.cm.get_cmap(name=\"bwr\"), alpha=0.7)\n",
    "plt.grid(True)\n",
    "plt.show()"
   ]
  },
  {
   "cell_type": "code",
   "execution_count": 7,
   "metadata": {},
   "outputs": [
    {
     "name": "stdout",
     "output_type": "stream",
     "text": [
      "[0 1 1 0 1 0 0 0 1 1 1 0 1 0 0 1 1 1 0 0 0 0 1 0 1]\n"
     ]
    }
   ],
   "source": [
    "# 학습과 예측\n",
    "# 모듈 import \n",
    "# 모델별로 다른 모듈 참조\n",
    "\n",
    "from sklearn.linear_model import LogisticRegression\n",
    "from sklearn.model_selection import train_test_split\n",
    "from sklearn.datasets import make_classification\n",
    "\n",
    "#데이터 생성\n",
    "X, y = make_classification(n_samples=100, n_features = 2, n_redundant = 0, random_state = 42)\n",
    "\n",
    "#데이터를 학습용과 평가용으로 나누기\n",
    "train_X, test_X, train_y, test_y = train_test_split(X,  y, random_state = 42)\n",
    "\n",
    "#모델 구축\n",
    "model = LogisticRegression(random_state = 42)\n",
    "\n",
    "#train_X와 train_y를 사용하여 모델 학습 시키기\n",
    "model.fit(train_X, train_y)\n",
    "\n",
    "#test_X에 대한 모델의 분류 예측 결과\n",
    "pred_y = model.predict(test_X)\n",
    "print(pred_y)"
   ]
  }
 ],
 "metadata": {
  "kernelspec": {
   "display_name": "Python 3",
   "language": "python",
   "name": "python3"
  },
  "language_info": {
   "codemirror_mode": {
    "name": "ipython",
    "version": 3
   },
   "file_extension": ".py",
   "mimetype": "text/x-python",
   "name": "python",
   "nbconvert_exporter": "python",
   "pygments_lexer": "ipython3",
   "version": "3.8.5"
  }
 },
 "nbformat": 4,
 "nbformat_minor": 4
}
